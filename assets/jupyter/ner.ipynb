{
 "cells": [
  {
   "cell_type": "markdown",
   "metadata": {},
   "source": [
    "Named Entity Recognition\n",
    "\n",
    "Named Entity Recognition (NER) is a natural language processing task that involves identifying and categorizing named entities in text into predefined categories such as persons, organizations, locations, dates, and more. It helps extract important information from unstructured text data.\n",
    "\n",
    "In simpler terms, NER is like a highlighter for important words in a text. For example, it can identify names of people, places, and organizations mentioned in a news article or a social media post.\n",
    "\n",
    "In summary, Named Entity Recognition (NER) is a technique used to automatically identify and classify specific entities in text, making it easier to understand and analyze large amounts of textual data.\n",
    "\n",
    "for example: `Birendra lives in kathmandu`. In this sentence, `Birendra` should be categorized as `person` and `kathmandu` as a location. \n",
    "\n",
    "\n",
    "\n",
    "steps:\n",
    "- Toeknize the sentence and add [CLS] at the begining and [SEP] at the end.\n",
    "- Feed the input tokens to pre-trained BERT and obtain tokens representation. \n",
    "- Use classifier, Feed Forward neurla netwrok and softmax. "
   ]
  },
  {
   "cell_type": "code",
   "execution_count": 2,
   "metadata": {},
   "outputs": [],
   "source": [
    "from transformers import AutoTokenizer, AutoModelForTokenClassification\n",
    "from transformers import pipeline"
   ]
  },
  {
   "cell_type": "code",
   "execution_count": 3,
   "metadata": {},
   "outputs": [],
   "source": [
    "example = \"I am Birendra, King of Nepal and I Live in Kathmandu.\""
   ]
  },
  {
   "cell_type": "code",
   "execution_count": 5,
   "metadata": {},
   "outputs": [
    {
     "name": "stderr",
     "output_type": "stream",
     "text": [
      "tokenizer_config.json: 100%|██████████| 59.0/59.0 [00:00<00:00, 12.4kB/s]\n",
      "config.json: 100%|██████████| 829/829 [00:00<00:00, 83.9kB/s]\n",
      "vocab.txt: 100%|██████████| 213k/213k [00:00<00:00, 2.88MB/s]\n",
      "added_tokens.json: 100%|██████████| 2.00/2.00 [00:00<00:00, 1.01kB/s]\n",
      "special_tokens_map.json: 100%|██████████| 112/112 [00:00<00:00, 51.6kB/s]\n",
      "model.safetensors: 100%|██████████| 433M/433M [00:59<00:00, 7.27MB/s] \n",
      "Some weights of the model checkpoint at dslim/bert-base-NER were not used when initializing BertForTokenClassification: ['bert.pooler.dense.bias', 'bert.pooler.dense.weight']\n",
      "- This IS expected if you are initializing BertForTokenClassification from the checkpoint of a model trained on another task or with another architecture (e.g. initializing a BertForSequenceClassification model from a BertForPreTraining model).\n",
      "- This IS NOT expected if you are initializing BertForTokenClassification from the checkpoint of a model that you expect to be exactly identical (initializing a BertForSequenceClassification model from a BertForSequenceClassification model).\n"
     ]
    }
   ],
   "source": [
    "tokenizer = AutoTokenizer.from_pretrained(\"dslim/bert-base-NER\")\n",
    "model = AutoModelForTokenClassification.from_pretrained(\"dslim/bert-base-NER\")"
   ]
  },
  {
   "cell_type": "code",
   "execution_count": 11,
   "metadata": {},
   "outputs": [
    {
     "name": "stdout",
     "output_type": "stream",
     "text": [
      "B [B-PER] Score: 0.9995802044868469\n",
      "##ire [B-PER] Score: 0.9978145360946655\n",
      "##ndra [B-PER] Score: 0.49515867233276367\n",
      "Nepal [B-LOC] Score: 0.9997472167015076\n",
      "Kat [B-LOC] Score: 0.9995753169059753\n",
      "##hman [I-LOC] Score: 0.9938346147537231\n",
      "##du [I-LOC] Score: 0.995941698551178\n"
     ]
    }
   ],
   "source": [
    "cls = pipeline(\"ner\", model=model, tokenizer=tokenizer)\n",
    "for item in cls(example):\n",
    "    print(f'{item[\"word\"]} [{item[\"entity\"]}] Score: {item[\"score\"]}')"
   ]
  },
  {
   "cell_type": "code",
   "execution_count": null,
   "metadata": {},
   "outputs": [],
   "source": []
  }
 ],
 "metadata": {
  "kernelspec": {
   "display_name": "nlp",
   "language": "python",
   "name": "python3"
  },
  "language_info": {
   "codemirror_mode": {
    "name": "ipython",
    "version": 3
   },
   "file_extension": ".py",
   "mimetype": "text/x-python",
   "name": "python",
   "nbconvert_exporter": "python",
   "pygments_lexer": "ipython3",
   "version": "3.9.18"
  }
 },
 "nbformat": 4,
 "nbformat_minor": 2
}
