{
 "cells": [
  {
   "cell_type": "code",
   "execution_count": 23,
   "metadata": {},
   "outputs": [],
   "source": [
    "import pandas as pd \n",
    "import numpy as np \n",
    "import matplotlib.pyplot as plt \n",
    "import plotly.express as px\n",
    "import plotly.graph_objects as go\n",
    "import seaborn as sns \n",
    "import scipy.stats as stats "
   ]
  },
  {
   "cell_type": "code",
   "execution_count": 2,
   "metadata": {},
   "outputs": [],
   "source": [
    "data_path = f\"./data/\""
   ]
  },
  {
   "cell_type": "code",
   "execution_count": 3,
   "metadata": {},
   "outputs": [
    {
     "name": "stderr",
     "output_type": "stream",
     "text": [
      "/home/whiskey/miniconda3/envs/nlp/lib/python3.9/site-packages/openpyxl/styles/stylesheet.py:226: UserWarning: Workbook contains no default style, apply openpyxl's default\n",
      "  warn(\"Workbook contains no default style, apply openpyxl's default\")\n"
     ]
    },
    {
     "data": {
      "text/html": [
       "<div>\n",
       "<style scoped>\n",
       "    .dataframe tbody tr th:only-of-type {\n",
       "        vertical-align: middle;\n",
       "    }\n",
       "\n",
       "    .dataframe tbody tr th {\n",
       "        vertical-align: top;\n",
       "    }\n",
       "\n",
       "    .dataframe thead th {\n",
       "        text-align: right;\n",
       "    }\n",
       "</style>\n",
       "<table border=\"1\" class=\"dataframe\">\n",
       "  <thead>\n",
       "    <tr style=\"text-align: right;\">\n",
       "      <th></th>\n",
       "      <th>Rank</th>\n",
       "      <th>Team/NOC</th>\n",
       "      <th>Gold</th>\n",
       "      <th>Silver</th>\n",
       "      <th>Bronze</th>\n",
       "      <th>Total</th>\n",
       "      <th>Rank by Total</th>\n",
       "    </tr>\n",
       "  </thead>\n",
       "  <tbody>\n",
       "    <tr>\n",
       "      <th>0</th>\n",
       "      <td>1</td>\n",
       "      <td>United States of America</td>\n",
       "      <td>39</td>\n",
       "      <td>41</td>\n",
       "      <td>33</td>\n",
       "      <td>113</td>\n",
       "      <td>1</td>\n",
       "    </tr>\n",
       "    <tr>\n",
       "      <th>1</th>\n",
       "      <td>2</td>\n",
       "      <td>People's Republic of China</td>\n",
       "      <td>38</td>\n",
       "      <td>32</td>\n",
       "      <td>18</td>\n",
       "      <td>88</td>\n",
       "      <td>2</td>\n",
       "    </tr>\n",
       "    <tr>\n",
       "      <th>2</th>\n",
       "      <td>3</td>\n",
       "      <td>Japan</td>\n",
       "      <td>27</td>\n",
       "      <td>14</td>\n",
       "      <td>17</td>\n",
       "      <td>58</td>\n",
       "      <td>5</td>\n",
       "    </tr>\n",
       "    <tr>\n",
       "      <th>3</th>\n",
       "      <td>4</td>\n",
       "      <td>Great Britain</td>\n",
       "      <td>22</td>\n",
       "      <td>21</td>\n",
       "      <td>22</td>\n",
       "      <td>65</td>\n",
       "      <td>4</td>\n",
       "    </tr>\n",
       "    <tr>\n",
       "      <th>4</th>\n",
       "      <td>5</td>\n",
       "      <td>ROC</td>\n",
       "      <td>20</td>\n",
       "      <td>28</td>\n",
       "      <td>23</td>\n",
       "      <td>71</td>\n",
       "      <td>3</td>\n",
       "    </tr>\n",
       "  </tbody>\n",
       "</table>\n",
       "</div>"
      ],
      "text/plain": [
       "   Rank                    Team/NOC  Gold  Silver  Bronze  Total  \\\n",
       "0     1    United States of America    39      41      33    113   \n",
       "1     2  People's Republic of China    38      32      18     88   \n",
       "2     3                       Japan    27      14      17     58   \n",
       "3     4               Great Britain    22      21      22     65   \n",
       "4     5                         ROC    20      28      23     71   \n",
       "\n",
       "   Rank by Total  \n",
       "0              1  \n",
       "1              2  \n",
       "2              5  \n",
       "3              4  \n",
       "4              3  "
      ]
     },
     "execution_count": 3,
     "metadata": {},
     "output_type": "execute_result"
    }
   ],
   "source": [
    "raw_medal_data = pd.read_excel(f\"{data_path}Medals.xlsx\")\n",
    "medal_data = raw_medal_data.copy()\n",
    "medal_data.head()"
   ]
  },
  {
   "cell_type": "markdown",
   "metadata": {},
   "source": [
    "## Estimate of location (Where is my Data !)\n",
    "\n",
    "Mean: average value. \n",
    "$$ mean = \\frac{\\sum_{i}^n x_i}{n} $$\n",
    "\n",
    "Weighted Mean: \n",
    "\n",
    "$$ mean = \\frac{\\sum_{i}^n w_i x_i}{\\sum_{i}^n w_i}  $$\n",
    "\n",
    "Reasons to use weighted mean: \n",
    "- Some values are more varibale than other, and highly varibale instances are given less weights. For instance, if we are taking an salary average from multiple group of employes, then we will reduce the weight of data from younger group.\n",
    "\n",
    "Trimmed mean:\n",
    "\n",
    "computed mean by dropping fixed number of sorted values at both end. It helps to eliminate the outliers.\n",
    "$$ mean = \\frac{\\sum_{i=p+1}^{n-p} x_i}{n-2p} $$\n"
   ]
  },
  {
   "cell_type": "code",
   "execution_count": 4,
   "metadata": {},
   "outputs": [
    {
     "data": {
      "text/plain": [
       "11.612903225806452"
      ]
     },
     "execution_count": 4,
     "metadata": {},
     "output_type": "execute_result"
    }
   ],
   "source": [
    "# Mean \n",
    "medal_data[\"Total\"].mean()"
   ]
  },
  {
   "cell_type": "code",
   "execution_count": 5,
   "metadata": {},
   "outputs": [
    {
     "name": "stdout",
     "output_type": "stream",
     "text": [
      "The weighted average of totla by gold medla: 46.832352941176474\n"
     ]
    }
   ],
   "source": [
    "print(f'The weighted average of totla by gold medla: {np.average(medal_data[\"Total\"], weights=medal_data[\"Gold\"])}')"
   ]
  },
  {
   "cell_type": "code",
   "execution_count": 6,
   "metadata": {},
   "outputs": [],
   "source": [
    "def trimmed_mean(data, pct):\n",
    "    if pct >= 1 or pct < 0: raise Exception(\"trim percentage is not valid !\")\n",
    "    trim_count = int(len(data) * pct)\n",
    "    sorted_data = np.sort(data)\n",
    "    trimmed_data = sorted_data[trim_count: -trim_count]\n",
    "    t_mean = trimmed_data.mean()\n",
    "    return t_mean, trimmed_data"
   ]
  },
  {
   "cell_type": "code",
   "execution_count": 7,
   "metadata": {},
   "outputs": [
    {
     "name": "stdout",
     "output_type": "stream",
     "text": [
      "10% trimmed mean of total medals: 6.8933333333333335\n"
     ]
    }
   ],
   "source": [
    "t_mean, t_data = trimmed_mean(medal_data[\"Total\"], 0.1)\n",
    "print(f'10% trimmed mean of total medals: {t_mean}')"
   ]
  },
  {
   "cell_type": "code",
   "execution_count": 8,
   "metadata": {},
   "outputs": [
    {
     "data": {
      "image/png": "[encoded data removed]",
      "text/plain": [
       "<Figure size 1000x600 with 2 Axes>"
      ]
     },
     "metadata": {},
     "output_type": "display_data"
    }
   ],
   "source": [
    "# Plot the original and trimmed distributions\n",
    "plt.figure(figsize=(10, 6))\n",
    "\n",
    "# Original Distribution\n",
    "plt.subplot(2, 1, 1)\n",
    "sns.histplot(medal_data[\"Total\"], bins=10, kde=True, color='skyblue')\n",
    "plt.title('Original Distribution')\n",
    "\n",
    "# Trimmed Distribution\n",
    "plt.subplot(2, 1, 2)\n",
    "sns.histplot(t_data, bins=10, kde=True, color='salmon')\n",
    "plt.title('Trimmed Distribution')\n",
    "\n",
    "plt.tight_layout()\n",
    "plt.show()"
   ]
  },
  {
   "cell_type": "markdown",
   "metadata": {},
   "source": [
    "Median \n",
    "\n",
    "Middle number on sorted data. if there is even number of examples, then average of middle values. The median in roboust to outlier."
   ]
  },
  {
   "cell_type": "code",
   "execution_count": 9,
   "metadata": {},
   "outputs": [
    {
     "name": "stdout",
     "output_type": "stream",
     "text": [
      "Median on Total: 4.0\n"
     ]
    }
   ],
   "source": [
    "print(f'Median on Total: {medal_data[\"Total\"].median()}')"
   ]
  },
  {
   "cell_type": "markdown",
   "metadata": {},
   "source": [
    "#### Takeaways \n",
    "\n",
    "- The basic metric for location is the mean, but it can be sensitive to\n",
    "extreme values (outlier).\n",
    "- Other metrics (median, trimmed mean) are more robust."
   ]
  },
  {
   "cell_type": "markdown",
   "metadata": {},
   "source": [
    "## Estimates of Variability: (Dispersion - How spread my data is !!)\n",
    "\n",
    "**Deviation:**\n",
    "\n",
    "The difference between the observed values and mean. Terms: errors, residuals. \n",
    "$$ deviation = x - \\bar{x} $$\n",
    "\n",
    "**Variance:**\n",
    "\n",
    "The sum of squared deviations from the mean divided by n-1, where n is the number of data examples. Term: mean-squred-error.\n",
    "\n",
    "$$ s^2 = \\frac{\\sum_{i}^n (x_i - \\bar{x_i})}{n-1} $$\n",
    "\n",
    "**Standard deviation:**\n",
    "\n",
    "The squre root of variance. Term: L2-norm. Euclidain norm\n",
    "\n",
    "$$ s = \\sqrt{s^2} $$\n",
    "\n",
    "**Mean absolute deviation:**\n",
    "\n",
    "Absolute value of deviation from mean. Terms: L1-norm, Manhattan norm. \n",
    "\n",
    "$$ Mean absolute deviation = \\frac{\\sum_{i}^n |x_i - \\bar{x_i}| }{n} $$\n",
    "\n",
    "**Median Absolute Deviation:**\n",
    "\n",
    "Absolute value of deviation from median. It is a robust estimate of variablility.\n",
    "\n",
    "$$ MAD = Median( |x_1 - m|, |x_2 - m | ..... |x_n - m|) $$\n",
    "\n",
    "**Range:**\n",
    "\n",
    "The difference between smallest and largest value in data set. \n",
    "\n",
    "$$ Range = max(X) - min(X) $$\n",
    "\n",
    "**order statistics:**\n",
    "\n",
    "Metrics based on the data values sorted from smallest to biggest. Term: rank.\n",
    "\n",
    "**IQR:**\n",
    "\n",
    "The difference between 75th and 25th percentile. \n",
    "\n",
    "$$ IQR = Q3 - Q1 $$\n",
    "\n"
   ]
  },
  {
   "cell_type": "code",
   "execution_count": 10,
   "metadata": {},
   "outputs": [
    {
     "data": {
      "text/html": [
       "<div>\n",
       "<style scoped>\n",
       "    .dataframe tbody tr th:only-of-type {\n",
       "        vertical-align: middle;\n",
       "    }\n",
       "\n",
       "    .dataframe tbody tr th {\n",
       "        vertical-align: top;\n",
       "    }\n",
       "\n",
       "    .dataframe thead th {\n",
       "        text-align: right;\n",
       "    }\n",
       "</style>\n",
       "<table border=\"1\" class=\"dataframe\">\n",
       "  <thead>\n",
       "    <tr style=\"text-align: right;\">\n",
       "      <th></th>\n",
       "      <th>Rank</th>\n",
       "      <th>Gold</th>\n",
       "      <th>Silver</th>\n",
       "      <th>Bronze</th>\n",
       "      <th>Total</th>\n",
       "      <th>Rank by Total</th>\n",
       "    </tr>\n",
       "  </thead>\n",
       "  <tbody>\n",
       "    <tr>\n",
       "      <th>count</th>\n",
       "      <td>93.000000</td>\n",
       "      <td>93.000000</td>\n",
       "      <td>93.000000</td>\n",
       "      <td>93.000000</td>\n",
       "      <td>93.000000</td>\n",
       "      <td>93.000000</td>\n",
       "    </tr>\n",
       "    <tr>\n",
       "      <th>mean</th>\n",
       "      <td>46.333333</td>\n",
       "      <td>3.655914</td>\n",
       "      <td>3.634409</td>\n",
       "      <td>4.322581</td>\n",
       "      <td>11.612903</td>\n",
       "      <td>43.494624</td>\n",
       "    </tr>\n",
       "    <tr>\n",
       "      <th>std</th>\n",
       "      <td>26.219116</td>\n",
       "      <td>7.022471</td>\n",
       "      <td>6.626339</td>\n",
       "      <td>6.210372</td>\n",
       "      <td>19.091332</td>\n",
       "      <td>24.171769</td>\n",
       "    </tr>\n",
       "    <tr>\n",
       "      <th>min</th>\n",
       "      <td>1.000000</td>\n",
       "      <td>0.000000</td>\n",
       "      <td>0.000000</td>\n",
       "      <td>0.000000</td>\n",
       "      <td>1.000000</td>\n",
       "      <td>1.000000</td>\n",
       "    </tr>\n",
       "    <tr>\n",
       "      <th>25%</th>\n",
       "      <td>24.000000</td>\n",
       "      <td>0.000000</td>\n",
       "      <td>0.000000</td>\n",
       "      <td>1.000000</td>\n",
       "      <td>2.000000</td>\n",
       "      <td>23.000000</td>\n",
       "    </tr>\n",
       "    <tr>\n",
       "      <th>50%</th>\n",
       "      <td>46.000000</td>\n",
       "      <td>1.000000</td>\n",
       "      <td>1.000000</td>\n",
       "      <td>2.000000</td>\n",
       "      <td>4.000000</td>\n",
       "      <td>47.000000</td>\n",
       "    </tr>\n",
       "    <tr>\n",
       "      <th>75%</th>\n",
       "      <td>70.000000</td>\n",
       "      <td>3.000000</td>\n",
       "      <td>4.000000</td>\n",
       "      <td>5.000000</td>\n",
       "      <td>11.000000</td>\n",
       "      <td>66.000000</td>\n",
       "    </tr>\n",
       "    <tr>\n",
       "      <th>max</th>\n",
       "      <td>86.000000</td>\n",
       "      <td>39.000000</td>\n",
       "      <td>41.000000</td>\n",
       "      <td>33.000000</td>\n",
       "      <td>113.000000</td>\n",
       "      <td>77.000000</td>\n",
       "    </tr>\n",
       "  </tbody>\n",
       "</table>\n",
       "</div>"
      ],
      "text/plain": [
       "            Rank       Gold     Silver     Bronze       Total  Rank by Total\n",
       "count  93.000000  93.000000  93.000000  93.000000   93.000000      93.000000\n",
       "mean   46.333333   3.655914   3.634409   4.322581   11.612903      43.494624\n",
       "std    26.219116   7.022471   6.626339   6.210372   19.091332      24.171769\n",
       "min     1.000000   0.000000   0.000000   0.000000    1.000000       1.000000\n",
       "25%    24.000000   0.000000   0.000000   1.000000    2.000000      23.000000\n",
       "50%    46.000000   1.000000   1.000000   2.000000    4.000000      47.000000\n",
       "75%    70.000000   3.000000   4.000000   5.000000   11.000000      66.000000\n",
       "max    86.000000  39.000000  41.000000  33.000000  113.000000      77.000000"
      ]
     },
     "execution_count": 10,
     "metadata": {},
     "output_type": "execute_result"
    }
   ],
   "source": [
    "medal_data.describe()"
   ]
  },
  {
   "cell_type": "code",
   "execution_count": 11,
   "metadata": {},
   "outputs": [
    {
     "data": {
      "image/png": "[encoded data removed]",
      "text/plain": [
       "<Figure size 600x600 with 1 Axes>"
      ]
     },
     "metadata": {},
     "output_type": "display_data"
    }
   ],
   "source": [
    "# box plot\n",
    "plt.figure(figsize=(6, 6))\n",
    "sns.boxplot(y=medal_data[\"Gold\"], color='skyblue')\n",
    "\n",
    "# title and labels\n",
    "plt.title('Gold Medla Conts')\n",
    "\n",
    "plt.show()"
   ]
  },
  {
   "cell_type": "code",
   "execution_count": 12,
   "metadata": {},
   "outputs": [
    {
     "name": "stdout",
     "output_type": "stream",
     "text": [
      "Gold Medal varinace: 49.31510051425906, standard deviation: 7.022471111671379\n"
     ]
    }
   ],
   "source": [
    "print(f'Gold Medal varinace: {medal_data[\"Gold\"].var()}, standard deviation: {medal_data[\"Gold\"].std()}')"
   ]
  },
  {
   "cell_type": "code",
   "execution_count": 13,
   "metadata": {},
   "outputs": [
    {
     "name": "stdout",
     "output_type": "stream",
     "text": [
      "Mean Absolute deviation: 4.0048560527228565, median absolue deviation: 1.0\n"
     ]
    }
   ],
   "source": [
    "mean_ab_dev = abs(medal_data['Gold'] - medal_data[\"Gold\"].mean()).sum() / medal_data.shape[0]\n",
    "median_ab_dev = abs(medal_data[\"Gold\"].sort_values() - medal_data[\"Gold\"].median()).median()\n",
    "\n",
    "print(f'Mean Absolute deviation: {mean_ab_dev}, median absolue deviation: {median_ab_dev}')"
   ]
  },
  {
   "cell_type": "code",
   "execution_count": 14,
   "metadata": {},
   "outputs": [
    {
     "name": "stdout",
     "output_type": "stream",
     "text": [
      "Q1: 2.0, Q3: 11.0, IQR: 9.0\n"
     ]
    }
   ],
   "source": [
    "q1, q3  = medal_data[\"Total\"].quantile([0.25, 0.75])\n",
    "iqr = q3 - q1\n",
    "print(f'Q1: {q1}, Q3: {q3}, IQR: {iqr}')"
   ]
  },
  {
   "cell_type": "markdown",
   "metadata": {},
   "source": [
    "#### Takeaways \n",
    "\n",
    "- Most popular statistics of variability are variance and standard deviation. \n",
    "- They are sensitive to outliers.\n",
    "- Mean and Median absolute deviation from mean and percentile are robust to outliers. \n",
    "\n"
   ]
  },
  {
   "cell_type": "markdown",
   "metadata": {},
   "source": [
    "## Distribution \n",
    "\n",
    "- ***Boxplot***: A boxplot—with the top and bottom of the box at the 75th and 25th percentiles, respectively—also gives a quick sense of the distribution of the data; it is often used in side-by-side displays to compare distributions.\n",
    "- ***Frequency table***: A frequency histogram plots frequency counts on the y-axis and variable values on the x-axis; it gives a sense of the distribution of the data at a glance.\n",
    "- ***Density plot***: A density plot is a smoothed version of a histogram; it requires a function to estimate a plot based on the data\n",
    "- ***Histogram*** "
   ]
  },
  {
   "cell_type": "code",
   "execution_count": 15,
   "metadata": {},
   "outputs": [
    {
     "data": {
      "image/png": "[encoded data removed]",
      "text/plain": [
       "<Figure size 640x480 with 1 Axes>"
      ]
     },
     "metadata": {},
     "output_type": "display_data"
    }
   ],
   "source": [
    "# frquenct table\n",
    "plt.hist(medal_data[\"Gold\"], bins=5, color=\"skyblue\", edgecolor=\"black\")\n",
    "plt.title(\"Frequnecy plot\")\n",
    "plt.xlabel(\"Gold\")\n",
    "plt.ylabel('Frequency')\n",
    "plt.show()"
   ]
  },
  {
   "cell_type": "code",
   "execution_count": 16,
   "metadata": {},
   "outputs": [
    {
     "data": {
      "image/png": "[encoded data removed]",
      "text/plain": [
       "<Figure size 640x480 with 1 Axes>"
      ]
     },
     "metadata": {},
     "output_type": "display_data"
    }
   ],
   "source": [
    "sns.kdeplot(medal_data[\"Gold\"],color=\"skyblue\", fill=True)\n",
    "plt.title(\"Density plot of Gold Medals\")\n",
    "plt.xlabel(\"Gold\")\n",
    "plt.ylabel('Frequency')\n",
    "plt.show()"
   ]
  },
  {
   "cell_type": "markdown",
   "metadata": {},
   "source": [
    "Significantly skewed to right. We can use the following methods to make normal distribution.\n",
    "\n",
    "- **Log Transformation** - positively skewed\n",
    "- **Sqaure root Transformation**\n",
    "- **Box-Cox Transformation**: Make sure all the values are greater than zero.\n",
    "- **Yeo-Johnson Transformation**: Extension of box-cox, allows to handle zero or negative value.\n",
    "- **Winsorizing** capping values to specified percentile. \n",
    "- **Categorizing or Bining**\n",
    "- **Remove Outliers**\n",
    "\n",
    "\n",
    "\n",
    "\n",
    "#### Moments in statistics\n",
    "\n",
    "*In statistical theory, location and variability are referred to as the first and second moments of a distribution. The third and fourth moments are called skewness and kurtosis. Skewness refers to whether the data is skewed to larger or smaller values and kurtosis indicates the propensity of the data to have extreme values.*\n",
    "\n",
    "\n",
    "### Exploring Binary or Categorical Data\n",
    "\n",
    "- **Mode**: The most commonly occuring category or values. \n",
    "- **Expected value**: The sum of values times their probability of occurrence, often used to sum up factor variable levels.\n",
    "- **Bar chacrt**: The frerquency or proportion for each category plotted as bars.\n",
    "- **Pie chart**: The frerquency or proportion for each category plotted as pie."
   ]
  },
  {
   "cell_type": "code",
   "execution_count": 22,
   "metadata": {},
   "outputs": [
    {
     "name": "stdout",
     "output_type": "stream",
     "text": [
      "Categorical features: ['Team/NOC']\n"
     ]
    }
   ],
   "source": [
    "categorical_cols = medal_data.select_dtypes(include=\"object\").columns.to_list()\n",
    "print(f'Categorical features: {categorical_cols}')"
   ]
  },
  {
   "cell_type": "code",
   "execution_count": 19,
   "metadata": {},
   "outputs": [
    {
     "name": "stdout",
     "output_type": "stream",
     "text": [
      "Mode of dataset:\n",
      "    Rank  Gold  Silver  Bronze  Total  Rank by Total\n",
      "0    86     0       1       1      1             77\n"
     ]
    }
   ],
   "source": [
    "print(f\"Mode of dataset:\\n {medal_data.loc[:, ['Rank', 'Gold', 'Silver', 'Bronze', 'Total','Rank by Total']].mode()}\")"
   ]
  },
  {
   "cell_type": "code",
   "execution_count": 20,
   "metadata": {},
   "outputs": [],
   "source": [
    "# lets plot the number of gold, silver, and bronze medals by contry.\n"
   ]
  },
  {
   "cell_type": "code",
   "execution_count": 21,
   "metadata": {},
   "outputs": [
    {
     "data": {
      "application/vnd.plotly.v1+json": {
       "config": {
        "plotlyServerURL": "https://plot.ly"
       },
       "data": [
        {
         "alignmentgroup": "True",
         "hovertemplate": "Medal Type=Gold<br>Team/NOC=%{x}<br>Number of Medals=%{y}<extra></extra>",
         "legendgroup": "Gold",
         "marker": {
          "color": "#636efa",
          "pattern": {
           "shape": ""
          }
         },
         "name": "Gold",
         "offsetgroup": "Gold",
         "orientation": "v",
         "showlegend": true,
         "textposition": "auto",
         "type": "bar",
         "x": [
          "United States of America",
          "People's Republic of China",
          "Japan",
          "Great Britain",
          "ROC",
          "Australia",
          "Netherlands",
          "France",
          "Germany",
          "Italy",
          "Canada",
          "Brazil",
          "New Zealand",
          "Cuba",
          "Hungary",
          "Republic of Korea",
          "Poland",
          "Czech Republic",
          "Kenya",
          "Norway",
          "Jamaica",
          "Spain",
          "Sweden",
          "Switzerland",
          "Denmark",
          "Croatia",
          "Islamic Republic of Iran",
          "Serbia",
          "Belgium",
          "Bulgaria",
          "Slovenia",
          "Uzbekistan",
          "Georgia",
          "Chinese Taipei",
          "Turkey",
          "Greece",
          "Uganda",
          "Ecuador",
          "Ireland",
          "Israel",
          "Qatar",
          "Bahamas",
          "Kosovo",
          "Ukraine",
          "Belarus",
          "Romania",
          "Venezuela",
          "India",
          "Hong Kong, China",
          "Philippines",
          "Slovakia",
          "South Africa",
          "Austria",
          "Egypt",
          "Indonesia",
          "Ethiopia",
          "Portugal",
          "Tunisia",
          "Estonia",
          "Fiji",
          "Latvia",
          "Thailand",
          "Bermuda",
          "Morocco",
          "Puerto Rico",
          "Colombia",
          "Azerbaijan",
          "Dominican Republic",
          "Armenia",
          "Kyrgyzstan",
          "Mongolia",
          "Argentina",
          "San Marino",
          "Jordan",
          "Malaysia",
          "Nigeria",
          "Bahrain",
          "Saudi Arabia",
          "Lithuania",
          "North Macedonia",
          "Namibia",
          "Turkmenistan",
          "Kazakhstan",
          "Mexico",
          "Finland",
          "Botswana",
          "Burkina Faso",
          "Côte d'Ivoire",
          "Ghana",
          "Grenada",
          "Kuwait",
          "Republic of Moldova",
          "Syrian Arab Republic"
         ],
         "xaxis": "x",
         "y": [
          39,
          38,
          27,
          22,
          20,
          17,
          10,
          10,
          10,
          10,
          7,
          7,
          7,
          7,
          6,
          6,
          4,
          4,
          4,
          4,
          4,
          3,
          3,
          3,
          3,
          3,
          3,
          3,
          3,
          3,
          3,
          3,
          2,
          2,
          2,
          2,
          2,
          2,
          2,
          2,
          2,
          2,
          2,
          1,
          1,
          1,
          1,
          1,
          1,
          1,
          1,
          1,
          1,
          1,
          1,
          1,
          1,
          1,
          1,
          1,
          1,
          1,
          1,
          1,
          1,
          0,
          0,
          0,
          0,
          0,
          0,
          0,
          0,
          0,
          0,
          0,
          0,
          0,
          0,
          0,
          0,
          0,
          0,
          0,
          0,
          0,
          0,
          0,
          0,
          0,
          0,
          0,
          0
         ],
         "yaxis": "y"
        },
        {
         "alignmentgroup": "True",
         "hovertemplate": "Medal Type=Silver<br>Team/NOC=%{x}<br>Number of Medals=%{y}<extra></extra>",
         "legendgroup": "Silver",
         "marker": {
          "color": "#EF553B",
          "pattern": {
           "shape": ""
          }
         },
         "name": "Silver",
         "offsetgroup": "Silver",
         "orientation": "v",
         "showlegend": true,
         "textposition": "auto",
         "type": "bar",
         "x": [
          "United States of America",
          "People's Republic of China",
          "Japan",
          "Great Britain",
          "ROC",
          "Australia",
          "Netherlands",
          "France",
          "Germany",
          "Italy",
          "Canada",
          "Brazil",
          "New Zealand",
          "Cuba",
          "Hungary",
          "Republic of Korea",
          "Poland",
          "Czech Republic",
          "Kenya",
          "Norway",
          "Jamaica",
          "Spain",
          "Sweden",
          "Switzerland",
          "Denmark",
          "Croatia",
          "Islamic Republic of Iran",
          "Serbia",
          "Belgium",
          "Bulgaria",
          "Slovenia",
          "Uzbekistan",
          "Georgia",
          "Chinese Taipei",
          "Turkey",
          "Greece",
          "Uganda",
          "Ecuador",
          "Ireland",
          "Israel",
          "Qatar",
          "Bahamas",
          "Kosovo",
          "Ukraine",
          "Belarus",
          "Romania",
          "Venezuela",
          "India",
          "Hong Kong, China",
          "Philippines",
          "Slovakia",
          "South Africa",
          "Austria",
          "Egypt",
          "Indonesia",
          "Ethiopia",
          "Portugal",
          "Tunisia",
          "Estonia",
          "Fiji",
          "Latvia",
          "Thailand",
          "Bermuda",
          "Morocco",
          "Puerto Rico",
          "Colombia",
          "Azerbaijan",
          "Dominican Republic",
          "Armenia",
          "Kyrgyzstan",
          "Mongolia",
          "Argentina",
          "San Marino",
          "Jordan",
          "Malaysia",
          "Nigeria",
          "Bahrain",
          "Saudi Arabia",
          "Lithuania",
          "North Macedonia",
          "Namibia",
          "Turkmenistan",
          "Kazakhstan",
          "Mexico",
          "Finland",
          "Botswana",
          "Burkina Faso",
          "Côte d'Ivoire",
          "Ghana",
          "Grenada",
          "Kuwait",
          "Republic of Moldova",
          "Syrian Arab Republic"
         ],
         "xaxis": "x",
         "y": [
          41,
          32,
          14,
          21,
          28,
          7,
          12,
          12,
          11,
          10,
          6,
          6,
          6,
          3,
          7,
          4,
          5,
          4,
          4,
          2,
          1,
          8,
          6,
          4,
          4,
          3,
          2,
          1,
          1,
          1,
          1,
          0,
          5,
          4,
          2,
          1,
          1,
          1,
          0,
          0,
          0,
          0,
          0,
          6,
          3,
          3,
          3,
          2,
          2,
          2,
          2,
          2,
          1,
          1,
          1,
          1,
          1,
          1,
          0,
          0,
          0,
          0,
          0,
          0,
          0,
          4,
          3,
          3,
          2,
          2,
          1,
          1,
          1,
          1,
          1,
          1,
          1,
          1,
          1,
          1,
          1,
          1,
          0,
          0,
          0,
          0,
          0,
          0,
          0,
          0,
          0,
          0,
          0
         ],
         "yaxis": "y"
        },
        {
         "alignmentgroup": "True",
         "hovertemplate": "Medal Type=Bronze<br>Team/NOC=%{x}<br>Number of Medals=%{y}<extra></extra>",
         "legendgroup": "Bronze",
         "marker": {
          "color": "#00cc96",
          "pattern": {
           "shape": ""
          }
         },
         "name": "Bronze",
         "offsetgroup": "Bronze",
         "orientation": "v",
         "showlegend": true,
         "textposition": "auto",
         "type": "bar",
         "x": [
          "United States of America",
          "People's Republic of China",
          "Japan",
          "Great Britain",
          "ROC",
          "Australia",
          "Netherlands",
          "France",
          "Germany",
          "Italy",
          "Canada",
          "Brazil",
          "New Zealand",
          "Cuba",
          "Hungary",
          "Republic of Korea",
          "Poland",
          "Czech Republic",
          "Kenya",
          "Norway",
          "Jamaica",
          "Spain",
          "Sweden",
          "Switzerland",
          "Denmark",
          "Croatia",
          "Islamic Republic of Iran",
          "Serbia",
          "Belgium",
          "Bulgaria",
          "Slovenia",
          "Uzbekistan",
          "Georgia",
          "Chinese Taipei",
          "Turkey",
          "Greece",
          "Uganda",
          "Ecuador",
          "Ireland",
          "Israel",
          "Qatar",
          "Bahamas",
          "Kosovo",
          "Ukraine",
          "Belarus",
          "Romania",
          "Venezuela",
          "India",
          "Hong Kong, China",
          "Philippines",
          "Slovakia",
          "South Africa",
          "Austria",
          "Egypt",
          "Indonesia",
          "Ethiopia",
          "Portugal",
          "Tunisia",
          "Estonia",
          "Fiji",
          "Latvia",
          "Thailand",
          "Bermuda",
          "Morocco",
          "Puerto Rico",
          "Colombia",
          "Azerbaijan",
          "Dominican Republic",
          "Armenia",
          "Kyrgyzstan",
          "Mongolia",
          "Argentina",
          "San Marino",
          "Jordan",
          "Malaysia",
          "Nigeria",
          "Bahrain",
          "Saudi Arabia",
          "Lithuania",
          "North Macedonia",
          "Namibia",
          "Turkmenistan",
          "Kazakhstan",
          "Mexico",
          "Finland",
          "Botswana",
          "Burkina Faso",
          "Côte d'Ivoire",
          "Ghana",
          "Grenada",
          "Kuwait",
          "Republic of Moldova",
          "Syrian Arab Republic"
         ],
         "xaxis": "x",
         "y": [
          33,
          18,
          17,
          22,
          23,
          22,
          14,
          11,
          16,
          20,
          11,
          8,
          7,
          5,
          7,
          10,
          5,
          3,
          2,
          2,
          4,
          6,
          0,
          6,
          4,
          2,
          2,
          5,
          3,
          2,
          1,
          2,
          1,
          6,
          9,
          1,
          1,
          0,
          2,
          2,
          1,
          0,
          0,
          12,
          3,
          0,
          0,
          4,
          3,
          1,
          1,
          0,
          5,
          4,
          3,
          2,
          2,
          0,
          1,
          1,
          1,
          1,
          0,
          0,
          0,
          1,
          4,
          2,
          2,
          1,
          3,
          2,
          2,
          1,
          1,
          1,
          0,
          0,
          0,
          0,
          0,
          0,
          8,
          4,
          2,
          1,
          1,
          1,
          1,
          1,
          1,
          1,
          1
         ],
         "yaxis": "y"
        }
       ],
       "layout": {
        "barmode": "group",
        "legend": {
         "title": {
          "text": "Medal Type"
         },
         "tracegroupgap": 0
        },
        "template": {
         "data": {
          "bar": [
           {
            "error_x": {
             "color": "#2a3f5f"
            },
            "error_y": {
             "color": "#2a3f5f"
            },
            "marker": {
             "line": {
              "color": "#E5ECF6",
              "width": 0.5
             },
             "pattern": {
              "fillmode": "overlay",
              "size": 10,
              "solidity": 0.2
             }
            },
            "type": "bar"
           }
          ],
          "barpolar": [
           {
            "marker": {
             "line": {
              "color": "#E5ECF6",
              "width": 0.5
             },
             "pattern": {
              "fillmode": "overlay",
              "size": 10,
              "solidity": 0.2
             }
            },
            "type": "barpolar"
           }
          ],
          "carpet": [
           {
            "aaxis": {
             "endlinecolor": "#2a3f5f",
             "gridcolor": "white",
             "linecolor": "white",
             "minorgridcolor": "white",
             "startlinecolor": "#2a3f5f"
            },
            "baxis": {
             "endlinecolor": "#2a3f5f",
             "gridcolor": "white",
             "linecolor": "white",
             "minorgridcolor": "white",
             "startlinecolor": "#2a3f5f"
            },
            "type": "carpet"
           }
          ],
          "choropleth": [
           {
            "colorbar": {
             "outlinewidth": 0,
             "ticks": ""
            },
            "type": "choropleth"
           }
          ],
          "contour": [
           {
            "colorbar": {
             "outlinewidth": 0,
             "ticks": ""
            },
            "colorscale": [
             [
              0,
              "#0d0887"
             ],
             [
              0.1111111111111111,
              "#46039f"
             ],
             [
              0.2222222222222222,
              "#7201a8"
             ],
             [
              0.3333333333333333,
              "#9c179e"
             ],
             [
              0.4444444444444444,
              "#bd3786"
             ],
             [
              0.5555555555555556,
              "#d8576b"
             ],
             [
              0.6666666666666666,
              "#ed7953"
             ],
             [
              0.7777777777777778,
              "#fb9f3a"
             ],
             [
              0.8888888888888888,
              "#fdca26"
             ],
             [
              1,
              "#f0f921"
             ]
            ],
            "type": "contour"
           }
          ],
          "contourcarpet": [
           {
            "colorbar": {
             "outlinewidth": 0,
             "ticks": ""
            },
            "type": "contourcarpet"
           }
          ],
          "heatmap": [
           {
            "colorbar": {
             "outlinewidth": 0,
             "ticks": ""
            },
            "colorscale": [
             [
              0,
              "#0d0887"
             ],
             [
              0.1111111111111111,
              "#46039f"
             ],
             [
              0.2222222222222222,
              "#7201a8"
             ],
             [
              0.3333333333333333,
              "#9c179e"
             ],
             [
              0.4444444444444444,
              "#bd3786"
             ],
             [
              0.5555555555555556,
              "#d8576b"
             ],
             [
              0.6666666666666666,
              "#ed7953"
             ],
             [
              0.7777777777777778,
              "#fb9f3a"
             ],
             [
              0.8888888888888888,
              "#fdca26"
             ],
             [
              1,
              "#f0f921"
             ]
            ],
            "type": "heatmap"
           }
          ],
          "heatmapgl": [
           {
            "colorbar": {
             "outlinewidth": 0,
             "ticks": ""
            },
            "colorscale": [
             [
              0,
              "#0d0887"
             ],
             [
              0.1111111111111111,
              "#46039f"
             ],
             [
              0.2222222222222222,
              "#7201a8"
             ],
             [
              0.3333333333333333,
              "#9c179e"
             ],
             [
              0.4444444444444444,
              "#bd3786"
             ],
             [
              0.5555555555555556,
              "#d8576b"
             ],
             [
              0.6666666666666666,
              "#ed7953"
             ],
             [
              0.7777777777777778,
              "#fb9f3a"
             ],
             [
              0.8888888888888888,
              "#fdca26"
             ],
             [
              1,
              "#f0f921"
             ]
            ],
            "type": "heatmapgl"
           }
          ],
          "histogram": [
           {
            "marker": {
             "pattern": {
              "fillmode": "overlay",
              "size": 10,
              "solidity": 0.2
             }
            },
            "type": "histogram"
           }
          ],
          "histogram2d": [
           {
            "colorbar": {
             "outlinewidth": 0,
             "ticks": ""
            },
            "colorscale": [
             [
              0,
              "#0d0887"
             ],
             [
              0.1111111111111111,
              "#46039f"
             ],
             [
              0.2222222222222222,
              "#7201a8"
             ],
             [
              0.3333333333333333,
              "#9c179e"
             ],
             [
              0.4444444444444444,
              "#bd3786"
             ],
             [
              0.5555555555555556,
              "#d8576b"
             ],
             [
              0.6666666666666666,
              "#ed7953"
             ],
             [
              0.7777777777777778,
              "#fb9f3a"
             ],
             [
              0.8888888888888888,
              "#fdca26"
             ],
             [
              1,
              "#f0f921"
             ]
            ],
            "type": "histogram2d"
           }
          ],
          "histogram2dcontour": [
           {
            "colorbar": {
             "outlinewidth": 0,
             "ticks": ""
            },
            "colorscale": [
             [
              0,
              "#0d0887"
             ],
             [
              0.1111111111111111,
              "#46039f"
             ],
             [
              0.2222222222222222,
              "#7201a8"
             ],
             [
              0.3333333333333333,
              "#9c179e"
             ],
             [
              0.4444444444444444,
              "#bd3786"
             ],
             [
              0.5555555555555556,
              "#d8576b"
             ],
             [
              0.6666666666666666,
              "#ed7953"
             ],
             [
              0.7777777777777778,
              "#fb9f3a"
             ],
             [
              0.8888888888888888,
              "#fdca26"
             ],
             [
              1,
              "#f0f921"
             ]
            ],
            "type": "histogram2dcontour"
           }
          ],
          "mesh3d": [
           {
            "colorbar": {
             "outlinewidth": 0,
             "ticks": ""
            },
            "type": "mesh3d"
           }
          ],
          "parcoords": [
           {
            "line": {
             "colorbar": {
              "outlinewidth": 0,
              "ticks": ""
             }
            },
            "type": "parcoords"
           }
          ],
          "pie": [
           {
            "automargin": true,
            "type": "pie"
           }
          ],
          "scatter": [
           {
            "fillpattern": {
             "fillmode": "overlay",
             "size": 10,
             "solidity": 0.2
            },
            "type": "scatter"
           }
          ],
          "scatter3d": [
           {
            "line": {
             "colorbar": {
              "outlinewidth": 0,
              "ticks": ""
             }
            },
            "marker": {
             "colorbar": {
              "outlinewidth": 0,
              "ticks": ""
             }
            },
            "type": "scatter3d"
           }
          ],
          "scattercarpet": [
           {
            "marker": {
             "colorbar": {
              "outlinewidth": 0,
              "ticks": ""
             }
            },
            "type": "scattercarpet"
           }
          ],
          "scattergeo": [
           {
            "marker": {
             "colorbar": {
              "outlinewidth": 0,
              "ticks": ""
             }
            },
            "type": "scattergeo"
           }
          ],
          "scattergl": [
           {
            "marker": {
             "colorbar": {
              "outlinewidth": 0,
              "ticks": ""
             }
            },
            "type": "scattergl"
           }
          ],
          "scattermapbox": [
           {
            "marker": {
             "colorbar": {
              "outlinewidth": 0,
              "ticks": ""
             }
            },
            "type": "scattermapbox"
           }
          ],
          "scatterpolar": [
           {
            "marker": {
             "colorbar": {
              "outlinewidth": 0,
              "ticks": ""
             }
            },
            "type": "scatterpolar"
           }
          ],
          "scatterpolargl": [
           {
            "marker": {
             "colorbar": {
              "outlinewidth": 0,
              "ticks": ""
             }
            },
            "type": "scatterpolargl"
           }
          ],
          "scatterternary": [
           {
            "marker": {
             "colorbar": {
              "outlinewidth": 0,
              "ticks": ""
             }
            },
            "type": "scatterternary"
           }
          ],
          "surface": [
           {
            "colorbar": {
             "outlinewidth": 0,
             "ticks": ""
            },
            "colorscale": [
             [
              0,
              "#0d0887"
             ],
             [
              0.1111111111111111,
              "#46039f"
             ],
             [
              0.2222222222222222,
              "#7201a8"
             ],
             [
              0.3333333333333333,
              "#9c179e"
             ],
             [
              0.4444444444444444,
              "#bd3786"
             ],
             [
              0.5555555555555556,
              "#d8576b"
             ],
             [
              0.6666666666666666,
              "#ed7953"
             ],
             [
              0.7777777777777778,
              "#fb9f3a"
             ],
             [
              0.8888888888888888,
              "#fdca26"
             ],
             [
              1,
              "#f0f921"
             ]
            ],
            "type": "surface"
           }
          ],
          "table": [
           {
            "cells": {
             "fill": {
              "color": "#EBF0F8"
             },
             "line": {
              "color": "white"
             }
            },
            "header": {
             "fill": {
              "color": "#C8D4E3"
             },
             "line": {
              "color": "white"
             }
            },
            "type": "table"
           }
          ]
         },
         "layout": {
          "annotationdefaults": {
           "arrowcolor": "#2a3f5f",
           "arrowhead": 0,
           "arrowwidth": 1
          },
          "autotypenumbers": "strict",
          "coloraxis": {
           "colorbar": {
            "outlinewidth": 0,
            "ticks": ""
           }
          },
          "colorscale": {
           "diverging": [
            [
             0,
             "#8e0152"
            ],
            [
             0.1,
             "#c51b7d"
            ],
            [
             0.2,
             "#de77ae"
            ],
            [
             0.3,
             "#f1b6da"
            ],
            [
             0.4,
             "#fde0ef"
            ],
            [
             0.5,
             "#f7f7f7"
            ],
            [
             0.6,
             "#e6f5d0"
            ],
            [
             0.7,
             "#b8e186"
            ],
            [
             0.8,
             "#7fbc41"
            ],
            [
             0.9,
             "#4d9221"
            ],
            [
             1,
             "#276419"
            ]
           ],
           "sequential": [
            [
             0,
             "#0d0887"
            ],
            [
             0.1111111111111111,
             "#46039f"
            ],
            [
             0.2222222222222222,
             "#7201a8"
            ],
            [
             0.3333333333333333,
             "#9c179e"
            ],
            [
             0.4444444444444444,
             "#bd3786"
            ],
            [
             0.5555555555555556,
             "#d8576b"
            ],
            [
             0.6666666666666666,
             "#ed7953"
            ],
            [
             0.7777777777777778,
             "#fb9f3a"
            ],
            [
             0.8888888888888888,
             "#fdca26"
            ],
            [
             1,
             "#f0f921"
            ]
           ],
           "sequentialminus": [
            [
             0,
             "#0d0887"
            ],
            [
             0.1111111111111111,
             "#46039f"
            ],
            [
             0.2222222222222222,
             "#7201a8"
            ],
            [
             0.3333333333333333,
             "#9c179e"
            ],
            [
             0.4444444444444444,
             "#bd3786"
            ],
            [
             0.5555555555555556,
             "#d8576b"
            ],
            [
             0.6666666666666666,
             "#ed7953"
            ],
            [
             0.7777777777777778,
             "#fb9f3a"
            ],
            [
             0.8888888888888888,
             "#fdca26"
            ],
            [
             1,
             "#f0f921"
            ]
           ]
          },
          "colorway": [
           "#636efa",
           "#EF553B",
           "#00cc96",
           "#ab63fa",
           "#FFA15A",
           "#19d3f3",
           "#FF6692",
           "#B6E880",
           "#FF97FF",
           "#FECB52"
          ],
          "font": {
           "color": "#2a3f5f"
          },
          "geo": {
           "bgcolor": "white",
           "lakecolor": "white",
           "landcolor": "#E5ECF6",
           "showlakes": true,
           "showland": true,
           "subunitcolor": "white"
          },
          "hoverlabel": {
           "align": "left"
          },
          "hovermode": "closest",
          "mapbox": {
           "style": "light"
          },
          "paper_bgcolor": "white",
          "plot_bgcolor": "#E5ECF6",
          "polar": {
           "angularaxis": {
            "gridcolor": "white",
            "linecolor": "white",
            "ticks": ""
           },
           "bgcolor": "#E5ECF6",
           "radialaxis": {
            "gridcolor": "white",
            "linecolor": "white",
            "ticks": ""
           }
          },
          "scene": {
           "xaxis": {
            "backgroundcolor": "#E5ECF6",
            "gridcolor": "white",
            "gridwidth": 2,
            "linecolor": "white",
            "showbackground": true,
            "ticks": "",
            "zerolinecolor": "white"
           },
           "yaxis": {
            "backgroundcolor": "#E5ECF6",
            "gridcolor": "white",
            "gridwidth": 2,
            "linecolor": "white",
            "showbackground": true,
            "ticks": "",
            "zerolinecolor": "white"
           },
           "zaxis": {
            "backgroundcolor": "#E5ECF6",
            "gridcolor": "white",
            "gridwidth": 2,
            "linecolor": "white",
            "showbackground": true,
            "ticks": "",
            "zerolinecolor": "white"
           }
          },
          "shapedefaults": {
           "line": {
            "color": "#2a3f5f"
           }
          },
          "ternary": {
           "aaxis": {
            "gridcolor": "white",
            "linecolor": "white",
            "ticks": ""
           },
           "baxis": {
            "gridcolor": "white",
            "linecolor": "white",
            "ticks": ""
           },
           "bgcolor": "#E5ECF6",
           "caxis": {
            "gridcolor": "white",
            "linecolor": "white",
            "ticks": ""
           }
          },
          "title": {
           "x": 0.05
          },
          "xaxis": {
           "automargin": true,
           "gridcolor": "white",
           "linecolor": "white",
           "ticks": "",
           "title": {
            "standoff": 15
           },
           "zerolinecolor": "white",
           "zerolinewidth": 2
          },
          "yaxis": {
           "automargin": true,
           "gridcolor": "white",
           "linecolor": "white",
           "ticks": "",
           "title": {
            "standoff": 15
           },
           "zerolinecolor": "white",
           "zerolinewidth": 2
          }
         }
        },
        "title": {
         "text": "Number of Medals by Country and Type"
        },
        "xaxis": {
         "anchor": "y",
         "domain": [
          0,
          1
         ],
         "title": {
          "text": "Team/NOC"
         }
        },
        "yaxis": {
         "anchor": "x",
         "domain": [
          0,
          1
         ],
         "title": {
          "text": "Number of Medals"
         }
        }
       }
      }
     },
     "metadata": {},
     "output_type": "display_data"
    }
   ],
   "source": [
    "\n",
    "\n",
    "# Create the grouped bar plot\n",
    "fig = px.bar(medal_data, x='Team/NOC', y=['Gold', 'Silver', 'Bronze'],\n",
    "             labels={'value': 'Number of Medals', 'variable': 'Medal Type'},\n",
    "             title='Number of Medals by Country and Type',\n",
    "             barmode='group')\n",
    "\n",
    "# Show the plot\n",
    "fig.show()\n"
   ]
  },
  {
   "cell_type": "markdown",
   "metadata": {},
   "source": [
    "### Correlation\n",
    "\n",
    "It examines the correlation among features, and between feature (independent) and target (dependent) variables. It ranges from -1 ot 1. \n",
    "\n",
    "$$ Pearson's correlation coefficient: \\frac{\\sum_{i=1}^N (x_i - \\bar x)(y_i - \\bar y) } {\\sqrt{\\sum_{i=1}^N (x_i - \\bar x)^2 (y_i - \\bar y)^2}} $$\n",
    "$$ : \\frac{\\sum_{i=1}^N (x_i - \\bar x)(y_i - \\bar y) } {(N-1) S_x S_y} $$\n",
    "\n",
    "where $S_x$ and $S_y$ is standard deviation of variable $x$, and $y$, $n-1$ degree of freedom.\n",
    "\n",
    "$$ r: \\frac{Cov (X, Y) } {\\sigma_x \\sigma_y} $$\n",
    "\n",
    "**Intepretation**:\n",
    "- r=1 indicates a perfect positive linear relationship.\n",
    "- r=−1 indicates a perfect negative linear relationship.\n",
    "- r=0 indicates no linear relationship.\n",
    "\n",
    "\n",
    "Terms:\n",
    "\n",
    "- **Correlation coefficient**: a numeircal value that represents association with one another variable. \n",
    "- **Correlation matrix**: A $M\\times M$ matrix with correlation coefficient among each other, where $M$ is number of variables in data.\n",
    "- **Scatterplot**\n",
    "- **Pairplot**"
   ]
  },
  {
   "cell_type": "code",
   "execution_count": 31,
   "metadata": {},
   "outputs": [],
   "source": [
    "# compute correlation matrix\n",
    "corr_mat = medal_data.drop(columns=[\"Team/NOC\"], axis=1).corr()"
   ]
  },
  {
   "cell_type": "code",
   "execution_count": 32,
   "metadata": {},
   "outputs": [
    {
     "data": {
      "application/vnd.plotly.v1+json": {
       "config": {
        "plotlyServerURL": "https://plot.ly"
       },
       "data": [
        {
         "colorscale": [
          [
           0,
           "#440154"
          ],
          [
           0.1111111111111111,
           "#482878"
          ],
          [
           0.2222222222222222,
           "#3e4989"
          ],
          [
           0.3333333333333333,
           "#31688e"
          ],
          [
           0.4444444444444444,
           "#26828e"
          ],
          [
           0.5555555555555556,
           "#1f9e89"
          ],
          [
           0.6666666666666666,
           "#35b779"
          ],
          [
           0.7777777777777778,
           "#6ece58"
          ],
          [
           0.8888888888888888,
           "#b5de2b"
          ],
          [
           1,
           "#fde725"
          ]
         ],
         "type": "heatmap",
         "x": [
          "Rank",
          "Gold",
          "Silver",
          "Bronze",
          "Total",
          "Rank by Total"
         ],
         "y": [
          "Rank",
          "Gold",
          "Silver",
          "Bronze",
          "Total",
          "Rank by Total"
         ],
         "z": [
          [
           1,
           -0.6554771383205168,
           -0.5978351890844056,
           -0.6371657623629212,
           -0.6558769389220673,
           0.8735386156241398
          ],
          [
           -0.6554771383205168,
           1,
           0.929045596700351,
           0.8624246563253283,
           0.9708395529064447,
           -0.6260119274049629
          ],
          [
           -0.5978351890844056,
           0.929045596700351,
           1,
           0.8626463320503998,
           0.9694394080945625,
           -0.6328305513443304
          ],
          [
           -0.6371657623629212,
           0.8624246563253283,
           0.8626463320503998,
           1,
           0.9419411601555754,
           -0.7455727208892969
          ],
          [
           -0.6558769389220673,
           0.9708395529064447,
           0.9694394080945625,
           0.9419411601555754,
           1,
           -0.6924495628421322
          ],
          [
           0.8735386156241398,
           -0.6260119274049629,
           -0.6328305513443304,
           -0.7455727208892969,
           -0.6924495628421322,
           1
          ]
         ]
        }
       ],
       "layout": {
        "template": {
         "data": {
          "bar": [
           {
            "error_x": {
             "color": "#2a3f5f"
            },
            "error_y": {
             "color": "#2a3f5f"
            },
            "marker": {
             "line": {
              "color": "#E5ECF6",
              "width": 0.5
             },
             "pattern": {
              "fillmode": "overlay",
              "size": 10,
              "solidity": 0.2
             }
            },
            "type": "bar"
           }
          ],
          "barpolar": [
           {
            "marker": {
             "line": {
              "color": "#E5ECF6",
              "width": 0.5
             },
             "pattern": {
              "fillmode": "overlay",
              "size": 10,
              "solidity": 0.2
             }
            },
            "type": "barpolar"
           }
          ],
          "carpet": [
           {
            "aaxis": {
             "endlinecolor": "#2a3f5f",
             "gridcolor": "white",
             "linecolor": "white",
             "minorgridcolor": "white",
             "startlinecolor": "#2a3f5f"
            },
            "baxis": {
             "endlinecolor": "#2a3f5f",
             "gridcolor": "white",
             "linecolor": "white",
             "minorgridcolor": "white",
             "startlinecolor": "#2a3f5f"
            },
            "type": "carpet"
           }
          ],
          "choropleth": [
           {
            "colorbar": {
             "outlinewidth": 0,
             "ticks": ""
            },
            "type": "choropleth"
           }
          ],
          "contour": [
           {
            "colorbar": {
             "outlinewidth": 0,
             "ticks": ""
            },
            "colorscale": [
             [
              0,
              "#0d0887"
             ],
             [
              0.1111111111111111,
              "#46039f"
             ],
             [
              0.2222222222222222,
              "#7201a8"
             ],
             [
              0.3333333333333333,
              "#9c179e"
             ],
             [
              0.4444444444444444,
              "#bd3786"
             ],
             [
              0.5555555555555556,
              "#d8576b"
             ],
             [
              0.6666666666666666,
              "#ed7953"
             ],
             [
              0.7777777777777778,
              "#fb9f3a"
             ],
             [
              0.8888888888888888,
              "#fdca26"
             ],
             [
              1,
              "#f0f921"
             ]
            ],
            "type": "contour"
           }
          ],
          "contourcarpet": [
           {
            "colorbar": {
             "outlinewidth": 0,
             "ticks": ""
            },
            "type": "contourcarpet"
           }
          ],
          "heatmap": [
           {
            "colorbar": {
             "outlinewidth": 0,
             "ticks": ""
            },
            "colorscale": [
             [
              0,
              "#0d0887"
             ],
             [
              0.1111111111111111,
              "#46039f"
             ],
             [
              0.2222222222222222,
              "#7201a8"
             ],
             [
              0.3333333333333333,
              "#9c179e"
             ],
             [
              0.4444444444444444,
              "#bd3786"
             ],
             [
              0.5555555555555556,
              "#d8576b"
             ],
             [
              0.6666666666666666,
              "#ed7953"
             ],
             [
              0.7777777777777778,
              "#fb9f3a"
             ],
             [
              0.8888888888888888,
              "#fdca26"
             ],
             [
              1,
              "#f0f921"
             ]
            ],
            "type": "heatmap"
           }
          ],
          "heatmapgl": [
           {
            "colorbar": {
             "outlinewidth": 0,
             "ticks": ""
            },
            "colorscale": [
             [
              0,
              "#0d0887"
             ],
             [
              0.1111111111111111,
              "#46039f"
             ],
             [
              0.2222222222222222,
              "#7201a8"
             ],
             [
              0.3333333333333333,
              "#9c179e"
             ],
             [
              0.4444444444444444,
              "#bd3786"
             ],
             [
              0.5555555555555556,
              "#d8576b"
             ],
             [
              0.6666666666666666,
              "#ed7953"
             ],
             [
              0.7777777777777778,
              "#fb9f3a"
             ],
             [
              0.8888888888888888,
              "#fdca26"
             ],
             [
              1,
              "#f0f921"
             ]
            ],
            "type": "heatmapgl"
           }
          ],
          "histogram": [
           {
            "marker": {
             "pattern": {
              "fillmode": "overlay",
              "size": 10,
              "solidity": 0.2
             }
            },
            "type": "histogram"
           }
          ],
          "histogram2d": [
           {
            "colorbar": {
             "outlinewidth": 0,
             "ticks": ""
            },
            "colorscale": [
             [
              0,
              "#0d0887"
             ],
             [
              0.1111111111111111,
              "#46039f"
             ],
             [
              0.2222222222222222,
              "#7201a8"
             ],
             [
              0.3333333333333333,
              "#9c179e"
             ],
             [
              0.4444444444444444,
              "#bd3786"
             ],
             [
              0.5555555555555556,
              "#d8576b"
             ],
             [
              0.6666666666666666,
              "#ed7953"
             ],
             [
              0.7777777777777778,
              "#fb9f3a"
             ],
             [
              0.8888888888888888,
              "#fdca26"
             ],
             [
              1,
              "#f0f921"
             ]
            ],
            "type": "histogram2d"
           }
          ],
          "histogram2dcontour": [
           {
            "colorbar": {
             "outlinewidth": 0,
             "ticks": ""
            },
            "colorscale": [
             [
              0,
              "#0d0887"
             ],
             [
              0.1111111111111111,
              "#46039f"
             ],
             [
              0.2222222222222222,
              "#7201a8"
             ],
             [
              0.3333333333333333,
              "#9c179e"
             ],
             [
              0.4444444444444444,
              "#bd3786"
             ],
             [
              0.5555555555555556,
              "#d8576b"
             ],
             [
              0.6666666666666666,
              "#ed7953"
             ],
             [
              0.7777777777777778,
              "#fb9f3a"
             ],
             [
              0.8888888888888888,
              "#fdca26"
             ],
             [
              1,
              "#f0f921"
             ]
            ],
            "type": "histogram2dcontour"
           }
          ],
          "mesh3d": [
           {
            "colorbar": {
             "outlinewidth": 0,
             "ticks": ""
            },
            "type": "mesh3d"
           }
          ],
          "parcoords": [
           {
            "line": {
             "colorbar": {
              "outlinewidth": 0,
              "ticks": ""
             }
            },
            "type": "parcoords"
           }
          ],
          "pie": [
           {
            "automargin": true,
            "type": "pie"
           }
          ],
          "scatter": [
           {
            "fillpattern": {
             "fillmode": "overlay",
             "size": 10,
             "solidity": 0.2
            },
            "type": "scatter"
           }
          ],
          "scatter3d": [
           {
            "line": {
             "colorbar": {
              "outlinewidth": 0,
              "ticks": ""
             }
            },
            "marker": {
             "colorbar": {
              "outlinewidth": 0,
              "ticks": ""
             }
            },
            "type": "scatter3d"
           }
          ],
          "scattercarpet": [
           {
            "marker": {
             "colorbar": {
              "outlinewidth": 0,
              "ticks": ""
             }
            },
            "type": "scattercarpet"
           }
          ],
          "scattergeo": [
           {
            "marker": {
             "colorbar": {
              "outlinewidth": 0,
              "ticks": ""
             }
            },
            "type": "scattergeo"
           }
          ],
          "scattergl": [
           {
            "marker": {
             "colorbar": {
              "outlinewidth": 0,
              "ticks": ""
             }
            },
            "type": "scattergl"
           }
          ],
          "scattermapbox": [
           {
            "marker": {
             "colorbar": {
              "outlinewidth": 0,
              "ticks": ""
             }
            },
            "type": "scattermapbox"
           }
          ],
          "scatterpolar": [
           {
            "marker": {
             "colorbar": {
              "outlinewidth": 0,
              "ticks": ""
             }
            },
            "type": "scatterpolar"
           }
          ],
          "scatterpolargl": [
           {
            "marker": {
             "colorbar": {
              "outlinewidth": 0,
              "ticks": ""
             }
            },
            "type": "scatterpolargl"
           }
          ],
          "scatterternary": [
           {
            "marker": {
             "colorbar": {
              "outlinewidth": 0,
              "ticks": ""
             }
            },
            "type": "scatterternary"
           }
          ],
          "surface": [
           {
            "colorbar": {
             "outlinewidth": 0,
             "ticks": ""
            },
            "colorscale": [
             [
              0,
              "#0d0887"
             ],
             [
              0.1111111111111111,
              "#46039f"
             ],
             [
              0.2222222222222222,
              "#7201a8"
             ],
             [
              0.3333333333333333,
              "#9c179e"
             ],
             [
              0.4444444444444444,
              "#bd3786"
             ],
             [
              0.5555555555555556,
              "#d8576b"
             ],
             [
              0.6666666666666666,
              "#ed7953"
             ],
             [
              0.7777777777777778,
              "#fb9f3a"
             ],
             [
              0.8888888888888888,
              "#fdca26"
             ],
             [
              1,
              "#f0f921"
             ]
            ],
            "type": "surface"
           }
          ],
          "table": [
           {
            "cells": {
             "fill": {
              "color": "#EBF0F8"
             },
             "line": {
              "color": "white"
             }
            },
            "header": {
             "fill": {
              "color": "#C8D4E3"
             },
             "line": {
              "color": "white"
             }
            },
            "type": "table"
           }
          ]
         },
         "layout": {
          "annotationdefaults": {
           "arrowcolor": "#2a3f5f",
           "arrowhead": 0,
           "arrowwidth": 1
          },
          "autotypenumbers": "strict",
          "coloraxis": {
           "colorbar": {
            "outlinewidth": 0,
            "ticks": ""
           }
          },
          "colorscale": {
           "diverging": [
            [
             0,
             "#8e0152"
            ],
            [
             0.1,
             "#c51b7d"
            ],
            [
             0.2,
             "#de77ae"
            ],
            [
             0.3,
             "#f1b6da"
            ],
            [
             0.4,
             "#fde0ef"
            ],
            [
             0.5,
             "#f7f7f7"
            ],
            [
             0.6,
             "#e6f5d0"
            ],
            [
             0.7,
             "#b8e186"
            ],
            [
             0.8,
             "#7fbc41"
            ],
            [
             0.9,
             "#4d9221"
            ],
            [
             1,
             "#276419"
            ]
           ],
           "sequential": [
            [
             0,
             "#0d0887"
            ],
            [
             0.1111111111111111,
             "#46039f"
            ],
            [
             0.2222222222222222,
             "#7201a8"
            ],
            [
             0.3333333333333333,
             "#9c179e"
            ],
            [
             0.4444444444444444,
             "#bd3786"
            ],
            [
             0.5555555555555556,
             "#d8576b"
            ],
            [
             0.6666666666666666,
             "#ed7953"
            ],
            [
             0.7777777777777778,
             "#fb9f3a"
            ],
            [
             0.8888888888888888,
             "#fdca26"
            ],
            [
             1,
             "#f0f921"
            ]
           ],
           "sequentialminus": [
            [
             0,
             "#0d0887"
            ],
            [
             0.1111111111111111,
             "#46039f"
            ],
            [
             0.2222222222222222,
             "#7201a8"
            ],
            [
             0.3333333333333333,
             "#9c179e"
            ],
            [
             0.4444444444444444,
             "#bd3786"
            ],
            [
             0.5555555555555556,
             "#d8576b"
            ],
            [
             0.6666666666666666,
             "#ed7953"
            ],
            [
             0.7777777777777778,
             "#fb9f3a"
            ],
            [
             0.8888888888888888,
             "#fdca26"
            ],
            [
             1,
             "#f0f921"
            ]
           ]
          },
          "colorway": [
           "#636efa",
           "#EF553B",
           "#00cc96",
           "#ab63fa",
           "#FFA15A",
           "#19d3f3",
           "#FF6692",
           "#B6E880",
           "#FF97FF",
           "#FECB52"
          ],
          "font": {
           "color": "#2a3f5f"
          },
          "geo": {
           "bgcolor": "white",
           "lakecolor": "white",
           "landcolor": "#E5ECF6",
           "showlakes": true,
           "showland": true,
           "subunitcolor": "white"
          },
          "hoverlabel": {
           "align": "left"
          },
          "hovermode": "closest",
          "mapbox": {
           "style": "light"
          },
          "paper_bgcolor": "white",
          "plot_bgcolor": "#E5ECF6",
          "polar": {
           "angularaxis": {
            "gridcolor": "white",
            "linecolor": "white",
            "ticks": ""
           },
           "bgcolor": "#E5ECF6",
           "radialaxis": {
            "gridcolor": "white",
            "linecolor": "white",
            "ticks": ""
           }
          },
          "scene": {
           "xaxis": {
            "backgroundcolor": "#E5ECF6",
            "gridcolor": "white",
            "gridwidth": 2,
            "linecolor": "white",
            "showbackground": true,
            "ticks": "",
            "zerolinecolor": "white"
           },
           "yaxis": {
            "backgroundcolor": "#E5ECF6",
            "gridcolor": "white",
            "gridwidth": 2,
            "linecolor": "white",
            "showbackground": true,
            "ticks": "",
            "zerolinecolor": "white"
           },
           "zaxis": {
            "backgroundcolor": "#E5ECF6",
            "gridcolor": "white",
            "gridwidth": 2,
            "linecolor": "white",
            "showbackground": true,
            "ticks": "",
            "zerolinecolor": "white"
           }
          },
          "shapedefaults": {
           "line": {
            "color": "#2a3f5f"
           }
          },
          "ternary": {
           "aaxis": {
            "gridcolor": "white",
            "linecolor": "white",
            "ticks": ""
           },
           "baxis": {
            "gridcolor": "white",
            "linecolor": "white",
            "ticks": ""
           },
           "bgcolor": "#E5ECF6",
           "caxis": {
            "gridcolor": "white",
            "linecolor": "white",
            "ticks": ""
           }
          },
          "title": {
           "x": 0.05
          },
          "xaxis": {
           "automargin": true,
           "gridcolor": "white",
           "linecolor": "white",
           "ticks": "",
           "title": {
            "standoff": 15
           },
           "zerolinecolor": "white",
           "zerolinewidth": 2
          },
          "yaxis": {
           "automargin": true,
           "gridcolor": "white",
           "linecolor": "white",
           "ticks": "",
           "title": {
            "standoff": 15
           },
           "zerolinecolor": "white",
           "zerolinewidth": 2
          }
         }
        },
        "title": {
         "text": "Correlation Matrix Heatmap"
        }
       }
      }
     },
     "metadata": {},
     "output_type": "display_data"
    }
   ],
   "source": [
    "# Create a heatmap of the correlation matrix\n",
    "fig = go.Figure(data=go.Heatmap(z=corr_mat.values, x=corr_mat.columns, y=corr_mat.columns, colorscale='Viridis'))\n",
    "\n",
    "fig.update_layout(title='Correlation Matrix Heatmap')\n",
    "\n",
    "# Show the plot\n",
    "fig.show()"
   ]
  },
  {
   "cell_type": "code",
   "execution_count": 39,
   "metadata": {},
   "outputs": [
    {
     "data": {
      "application/vnd.plotly.v1+json": {
       "config": {
        "plotlyServerURL": "https://plot.ly"
       },
       "data": [
        {
         "mode": "markers",
         "type": "scatter",
         "x": [
          1,
          2,
          3,
          4,
          5,
          6,
          7,
          8,
          9,
          10,
          11,
          12,
          13,
          14,
          15,
          16,
          17,
          18,
          19,
          20,
          21,
          22,
          23,
          24,
          25,
          26,
          27,
          28,
          29,
          30,
          31,
          32,
          33,
          34,
          35,
          36,
          36,
          38,
          39,
          39,
          41,
          42,
          42,
          44,
          45,
          46,
          46,
          48,
          49,
          50,
          50,
          52,
          53,
          54,
          55,
          56,
          56,
          58,
          59,
          59,
          59,
          59,
          63,
          63,
          63,
          66,
          67,
          68,
          69,
          70,
          71,
          72,
          72,
          74,
          74,
          74,
          77,
          77,
          77,
          77,
          77,
          77,
          83,
          84,
          85,
          86,
          86,
          86,
          86,
          86,
          86,
          86,
          86
         ],
         "xaxis": "x",
         "y": [
          1,
          2,
          3,
          4,
          5,
          6,
          7,
          8,
          9,
          10,
          11,
          12,
          13,
          14,
          15,
          16,
          17,
          18,
          19,
          20,
          21,
          22,
          23,
          24,
          25,
          26,
          27,
          28,
          29,
          30,
          31,
          32,
          33,
          34,
          35,
          36,
          36,
          38,
          39,
          39,
          41,
          42,
          42,
          44,
          45,
          46,
          46,
          48,
          49,
          50,
          50,
          52,
          53,
          54,
          55,
          56,
          56,
          58,
          59,
          59,
          59,
          59,
          63,
          63,
          63,
          66,
          67,
          68,
          69,
          70,
          71,
          72,
          72,
          74,
          74,
          74,
          77,
          77,
          77,
          77,
          77,
          77,
          83,
          84,
          85,
          86,
          86,
          86,
          86,
          86,
          86,
          86,
          86
         ],
         "yaxis": "y"
        },
        {
         "mode": "markers",
         "type": "scatter",
         "x": [
          1,
          2,
          3,
          4,
          5,
          6,
          7,
          8,
          9,
          10,
          11,
          12,
          13,
          14,
          15,
          16,
          17,
          18,
          19,
          20,
          21,
          22,
          23,
          24,
          25,
          26,
          27,
          28,
          29,
          30,
          31,
          32,
          33,
          34,
          35,
          36,
          36,
          38,
          39,
          39,
          41,
          42,
          42,
          44,
          45,
          46,
          46,
          48,
          49,
          50,
          50,
          52,
          53,
          54,
          55,
          56,
          56,
          58,
          59,
          59,
          59,
          59,
          63,
          63,
          63,
          66,
          67,
          68,
          69,
          70,
          71,
          72,
          72,
          74,
          74,
          74,
          77,
          77,
          77,
          77,
          77,
          77,
          83,
          84,
          85,
          86,
          86,
          86,
          86,
          86,
          86,
          86,
          86
         ],
         "xaxis": "x2",
         "y": [
          39,
          38,
          27,
          22,
          20,
          17,
          10,
          10,
          10,
          10,
          7,
          7,
          7,
          7,
          6,
          6,
          4,
          4,
          4,
          4,
          4,
          3,
          3,
          3,
          3,
          3,
          3,
          3,
          3,
          3,
          3,
          3,
          2,
          2,
          2,
          2,
          2,
          2,
          2,
          2,
          2,
          2,
          2,
          1,
          1,
          1,
          1,
          1,
          1,
          1,
          1,
          1,
          1,
          1,
          1,
          1,
          1,
          1,
          1,
          1,
          1,
          1,
          1,
          1,
          1,
          0,
          0,
          0,
          0,
          0,
          0,
          0,
          0,
          0,
          0,
          0,
          0,
          0,
          0,
          0,
          0,
          0,
          0,
          0,
          0,
          0,
          0,
          0,
          0,
          0,
          0,
          0,
          0
         ],
         "yaxis": "y2"
        },
        {
         "mode": "markers",
         "type": "scatter",
         "x": [
          1,
          2,
          3,
          4,
          5,
          6,
          7,
          8,
          9,
          10,
          11,
          12,
          13,
          14,
          15,
          16,
          17,
          18,
          19,
          20,
          21,
          22,
          23,
          24,
          25,
          26,
          27,
          28,
          29,
          30,
          31,
          32,
          33,
          34,
          35,
          36,
          36,
          38,
          39,
          39,
          41,
          42,
          42,
          44,
          45,
          46,
          46,
          48,
          49,
          50,
          50,
          52,
          53,
          54,
          55,
          56,
          56,
          58,
          59,
          59,
          59,
          59,
          63,
          63,
          63,
          66,
          67,
          68,
          69,
          70,
          71,
          72,
          72,
          74,
          74,
          74,
          77,
          77,
          77,
          77,
          77,
          77,
          83,
          84,
          85,
          86,
          86,
          86,
          86,
          86,
          86,
          86,
          86
         ],
         "xaxis": "x3",
         "y": [
          41,
          32,
          14,
          21,
          28,
          7,
          12,
          12,
          11,
          10,
          6,
          6,
          6,
          3,
          7,
          4,
          5,
          4,
          4,
          2,
          1,
          8,
          6,
          4,
          4,
          3,
          2,
          1,
          1,
          1,
          1,
          0,
          5,
          4,
          2,
          1,
          1,
          1,
          0,
          0,
          0,
          0,
          0,
          6,
          3,
          3,
          3,
          2,
          2,
          2,
          2,
          2,
          1,
          1,
          1,
          1,
          1,
          1,
          0,
          0,
          0,
          0,
          0,
          0,
          0,
          4,
          3,
          3,
          2,
          2,
          1,
          1,
          1,
          1,
          1,
          1,
          1,
          1,
          1,
          1,
          1,
          1,
          0,
          0,
          0,
          0,
          0,
          0,
          0,
          0,
          0,
          0,
          0
         ],
         "yaxis": "y3"
        },
        {
         "mode": "markers",
         "type": "scatter",
         "x": [
          1,
          2,
          3,
          4,
          5,
          6,
          7,
          8,
          9,
          10,
          11,
          12,
          13,
          14,
          15,
          16,
          17,
          18,
          19,
          20,
          21,
          22,
          23,
          24,
          25,
          26,
          27,
          28,
          29,
          30,
          31,
          32,
          33,
          34,
          35,
          36,
          36,
          38,
          39,
          39,
          41,
          42,
          42,
          44,
          45,
          46,
          46,
          48,
          49,
          50,
          50,
          52,
          53,
          54,
          55,
          56,
          56,
          58,
          59,
          59,
          59,
          59,
          63,
          63,
          63,
          66,
          67,
          68,
          69,
          70,
          71,
          72,
          72,
          74,
          74,
          74,
          77,
          77,
          77,
          77,
          77,
          77,
          83,
          84,
          85,
          86,
          86,
          86,
          86,
          86,
          86,
          86,
          86
         ],
         "xaxis": "x4",
         "y": [
          33,
          18,
          17,
          22,
          23,
          22,
          14,
          11,
          16,
          20,
          11,
          8,
          7,
          5,
          7,
          10,
          5,
          3,
          2,
          2,
          4,
          6,
          0,
          6,
          4,
          2,
          2,
          5,
          3,
          2,
          1,
          2,
          1,
          6,
          9,
          1,
          1,
          0,
          2,
          2,
          1,
          0,
          0,
          12,
          3,
          0,
          0,
          4,
          3,
          1,
          1,
          0,
          5,
          4,
          3,
          2,
          2,
          0,
          1,
          1,
          1,
          1,
          0,
          0,
          0,
          1,
          4,
          2,
          2,
          1,
          3,
          2,
          2,
          1,
          1,
          1,
          0,
          0,
          0,
          0,
          0,
          0,
          8,
          4,
          2,
          1,
          1,
          1,
          1,
          1,
          1,
          1,
          1
         ],
         "yaxis": "y4"
        },
        {
         "mode": "markers",
         "type": "scatter",
         "x": [
          1,
          2,
          3,
          4,
          5,
          6,
          7,
          8,
          9,
          10,
          11,
          12,
          13,
          14,
          15,
          16,
          17,
          18,
          19,
          20,
          21,
          22,
          23,
          24,
          25,
          26,
          27,
          28,
          29,
          30,
          31,
          32,
          33,
          34,
          35,
          36,
          36,
          38,
          39,
          39,
          41,
          42,
          42,
          44,
          45,
          46,
          46,
          48,
          49,
          50,
          50,
          52,
          53,
          54,
          55,
          56,
          56,
          58,
          59,
          59,
          59,
          59,
          63,
          63,
          63,
          66,
          67,
          68,
          69,
          70,
          71,
          72,
          72,
          74,
          74,
          74,
          77,
          77,
          77,
          77,
          77,
          77,
          83,
          84,
          85,
          86,
          86,
          86,
          86,
          86,
          86,
          86,
          86
         ],
         "xaxis": "x5",
         "y": [
          113,
          88,
          58,
          65,
          71,
          46,
          36,
          33,
          37,
          40,
          24,
          21,
          20,
          15,
          20,
          20,
          14,
          11,
          10,
          8,
          9,
          17,
          9,
          13,
          11,
          8,
          7,
          9,
          7,
          6,
          5,
          5,
          8,
          12,
          13,
          4,
          4,
          3,
          4,
          4,
          3,
          2,
          2,
          19,
          7,
          4,
          4,
          7,
          6,
          4,
          4,
          3,
          7,
          6,
          5,
          4,
          4,
          2,
          2,
          2,
          2,
          2,
          1,
          1,
          1,
          5,
          7,
          5,
          4,
          3,
          4,
          3,
          3,
          2,
          2,
          2,
          1,
          1,
          1,
          1,
          1,
          1,
          8,
          4,
          2,
          1,
          1,
          1,
          1,
          1,
          1,
          1,
          1
         ],
         "yaxis": "y5"
        },
        {
         "mode": "markers",
         "type": "scatter",
         "x": [
          1,
          2,
          3,
          4,
          5,
          6,
          7,
          8,
          9,
          10,
          11,
          12,
          13,
          14,
          15,
          16,
          17,
          18,
          19,
          20,
          21,
          22,
          23,
          24,
          25,
          26,
          27,
          28,
          29,
          30,
          31,
          32,
          33,
          34,
          35,
          36,
          36,
          38,
          39,
          39,
          41,
          42,
          42,
          44,
          45,
          46,
          46,
          48,
          49,
          50,
          50,
          52,
          53,
          54,
          55,
          56,
          56,
          58,
          59,
          59,
          59,
          59,
          63,
          63,
          63,
          66,
          67,
          68,
          69,
          70,
          71,
          72,
          72,
          74,
          74,
          74,
          77,
          77,
          77,
          77,
          77,
          77,
          83,
          84,
          85,
          86,
          86,
          86,
          86,
          86,
          86,
          86,
          86
         ],
         "xaxis": "x6",
         "y": [
          1,
          2,
          5,
          4,
          3,
          6,
          9,
          10,
          8,
          7,
          11,
          12,
          13,
          18,
          13,
          13,
          19,
          23,
          25,
          29,
          26,
          17,
          26,
          20,
          23,
          29,
          33,
          26,
          33,
          39,
          42,
          42,
          29,
          22,
          20,
          47,
          47,
          60,
          47,
          47,
          60,
          66,
          66,
          16,
          33,
          47,
          47,
          33,
          39,
          47,
          47,
          60,
          33,
          39,
          42,
          47,
          47,
          66,
          66,
          66,
          66,
          66,
          77,
          77,
          77,
          42,
          33,
          42,
          47,
          60,
          47,
          60,
          60,
          66,
          66,
          66,
          77,
          77,
          77,
          77,
          77,
          77,
          29,
          47,
          66,
          77,
          77,
          77,
          77,
          77,
          77,
          77,
          77
         ],
         "yaxis": "y6"
        },
        {
         "mode": "markers",
         "type": "scatter",
         "x": [
          39,
          38,
          27,
          22,
          20,
          17,
          10,
          10,
          10,
          10,
          7,
          7,
          7,
          7,
          6,
          6,
          4,
          4,
          4,
          4,
          4,
          3,
          3,
          3,
          3,
          3,
          3,
          3,
          3,
          3,
          3,
          3,
          2,
          2,
          2,
          2,
          2,
          2,
          2,
          2,
          2,
          2,
          2,
          1,
          1,
          1,
          1,
          1,
          1,
          1,
          1,
          1,
          1,
          1,
          1,
          1,
          1,
          1,
          1,
          1,
          1,
          1,
          1,
          1,
          1,
          0,
          0,
          0,
          0,
          0,
          0,
          0,
          0,
          0,
          0,
          0,
          0,
          0,
          0,
          0,
          0,
          0,
          0,
          0,
          0,
          0,
          0,
          0,
          0,
          0,
          0,
          0,
          0
         ],
         "xaxis": "x7",
         "y": [
          1,
          2,
          3,
          4,
          5,
          6,
          7,
          8,
          9,
          10,
          11,
          12,
          13,
          14,
          15,
          16,
          17,
          18,
          19,
          20,
          21,
          22,
          23,
          24,
          25,
          26,
          27,
          28,
          29,
          30,
          31,
          32,
          33,
          34,
          35,
          36,
          36,
          38,
          39,
          39,
          41,
          42,
          42,
          44,
          45,
          46,
          46,
          48,
          49,
          50,
          50,
          52,
          53,
          54,
          55,
          56,
          56,
          58,
          59,
          59,
          59,
          59,
          63,
          63,
          63,
          66,
          67,
          68,
          69,
          70,
          71,
          72,
          72,
          74,
          74,
          74,
          77,
          77,
          77,
          77,
          77,
          77,
          83,
          84,
          85,
          86,
          86,
          86,
          86,
          86,
          86,
          86,
          86
         ],
         "yaxis": "y7"
        },
        {
         "mode": "markers",
         "type": "scatter",
         "x": [
          39,
          38,
          27,
          22,
          20,
          17,
          10,
          10,
          10,
          10,
          7,
          7,
          7,
          7,
          6,
          6,
          4,
          4,
          4,
          4,
          4,
          3,
          3,
          3,
          3,
          3,
          3,
          3,
          3,
          3,
          3,
          3,
          2,
          2,
          2,
          2,
          2,
          2,
          2,
          2,
          2,
          2,
          2,
          1,
          1,
          1,
          1,
          1,
          1,
          1,
          1,
          1,
          1,
          1,
          1,
          1,
          1,
          1,
          1,
          1,
          1,
          1,
          1,
          1,
          1,
          0,
          0,
          0,
          0,
          0,
          0,
          0,
          0,
          0,
          0,
          0,
          0,
          0,
          0,
          0,
          0,
          0,
          0,
          0,
          0,
          0,
          0,
          0,
          0,
          0,
          0,
          0,
          0
         ],
         "xaxis": "x8",
         "y": [
          39,
          38,
          27,
          22,
          20,
          17,
          10,
          10,
          10,
          10,
          7,
          7,
          7,
          7,
          6,
          6,
          4,
          4,
          4,
          4,
          4,
          3,
          3,
          3,
          3,
          3,
          3,
          3,
          3,
          3,
          3,
          3,
          2,
          2,
          2,
          2,
          2,
          2,
          2,
          2,
          2,
          2,
          2,
          1,
          1,
          1,
          1,
          1,
          1,
          1,
          1,
          1,
          1,
          1,
          1,
          1,
          1,
          1,
          1,
          1,
          1,
          1,
          1,
          1,
          1,
          0,
          0,
          0,
          0,
          0,
          0,
          0,
          0,
          0,
          0,
          0,
          0,
          0,
          0,
          0,
          0,
          0,
          0,
          0,
          0,
          0,
          0,
          0,
          0,
          0,
          0,
          0,
          0
         ],
         "yaxis": "y8"
        },
        {
         "mode": "markers",
         "type": "scatter",
         "x": [
          39,
          38,
          27,
          22,
          20,
          17,
          10,
          10,
          10,
          10,
          7,
          7,
          7,
          7,
          6,
          6,
          4,
          4,
          4,
          4,
          4,
          3,
          3,
          3,
          3,
          3,
          3,
          3,
          3,
          3,
          3,
          3,
          2,
          2,
          2,
          2,
          2,
          2,
          2,
          2,
          2,
          2,
          2,
          1,
          1,
          1,
          1,
          1,
          1,
          1,
          1,
          1,
          1,
          1,
          1,
          1,
          1,
          1,
          1,
          1,
          1,
          1,
          1,
          1,
          1,
          0,
          0,
          0,
          0,
          0,
          0,
          0,
          0,
          0,
          0,
          0,
          0,
          0,
          0,
          0,
          0,
          0,
          0,
          0,
          0,
          0,
          0,
          0,
          0,
          0,
          0,
          0,
          0
         ],
         "xaxis": "x9",
         "y": [
          41,
          32,
          14,
          21,
          28,
          7,
          12,
          12,
          11,
          10,
          6,
          6,
          6,
          3,
          7,
          4,
          5,
          4,
          4,
          2,
          1,
          8,
          6,
          4,
          4,
          3,
          2,
          1,
          1,
          1,
          1,
          0,
          5,
          4,
          2,
          1,
          1,
          1,
          0,
          0,
          0,
          0,
          0,
          6,
          3,
          3,
          3,
          2,
          2,
          2,
          2,
          2,
          1,
          1,
          1,
          1,
          1,
          1,
          0,
          0,
          0,
          0,
          0,
          0,
          0,
          4,
          3,
          3,
          2,
          2,
          1,
          1,
          1,
          1,
          1,
          1,
          1,
          1,
          1,
          1,
          1,
          1,
          0,
          0,
          0,
          0,
          0,
          0,
          0,
          0,
          0,
          0,
          0
         ],
         "yaxis": "y9"
        },
        {
         "mode": "markers",
         "type": "scatter",
         "x": [
          39,
          38,
          27,
          22,
          20,
          17,
          10,
          10,
          10,
          10,
          7,
          7,
          7,
          7,
          6,
          6,
          4,
          4,
          4,
          4,
          4,
          3,
          3,
          3,
          3,
          3,
          3,
          3,
          3,
          3,
          3,
          3,
          2,
          2,
          2,
          2,
          2,
          2,
          2,
          2,
          2,
          2,
          2,
          1,
          1,
          1,
          1,
          1,
          1,
          1,
          1,
          1,
          1,
          1,
          1,
          1,
          1,
          1,
          1,
          1,
          1,
          1,
          1,
          1,
          1,
          0,
          0,
          0,
          0,
          0,
          0,
          0,
          0,
          0,
          0,
          0,
          0,
          0,
          0,
          0,
          0,
          0,
          0,
          0,
          0,
          0,
          0,
          0,
          0,
          0,
          0,
          0,
          0
         ],
         "xaxis": "x10",
         "y": [
          33,
          18,
          17,
          22,
          23,
          22,
          14,
          11,
          16,
          20,
          11,
          8,
          7,
          5,
          7,
          10,
          5,
          3,
          2,
          2,
          4,
          6,
          0,
          6,
          4,
          2,
          2,
          5,
          3,
          2,
          1,
          2,
          1,
          6,
          9,
          1,
          1,
          0,
          2,
          2,
          1,
          0,
          0,
          12,
          3,
          0,
          0,
          4,
          3,
          1,
          1,
          0,
          5,
          4,
          3,
          2,
          2,
          0,
          1,
          1,
          1,
          1,
          0,
          0,
          0,
          1,
          4,
          2,
          2,
          1,
          3,
          2,
          2,
          1,
          1,
          1,
          0,
          0,
          0,
          0,
          0,
          0,
          8,
          4,
          2,
          1,
          1,
          1,
          1,
          1,
          1,
          1,
          1
         ],
         "yaxis": "y10"
        },
        {
         "mode": "markers",
         "type": "scatter",
         "x": [
          39,
          38,
          27,
          22,
          20,
          17,
          10,
          10,
          10,
          10,
          7,
          7,
          7,
          7,
          6,
          6,
          4,
          4,
          4,
          4,
          4,
          3,
          3,
          3,
          3,
          3,
          3,
          3,
          3,
          3,
          3,
          3,
          2,
          2,
          2,
          2,
          2,
          2,
          2,
          2,
          2,
          2,
          2,
          1,
          1,
          1,
          1,
          1,
          1,
          1,
          1,
          1,
          1,
          1,
          1,
          1,
          1,
          1,
          1,
          1,
          1,
          1,
          1,
          1,
          1,
          0,
          0,
          0,
          0,
          0,
          0,
          0,
          0,
          0,
          0,
          0,
          0,
          0,
          0,
          0,
          0,
          0,
          0,
          0,
          0,
          0,
          0,
          0,
          0,
          0,
          0,
          0,
          0
         ],
         "xaxis": "x11",
         "y": [
          113,
          88,
          58,
          65,
          71,
          46,
          36,
          33,
          37,
          40,
          24,
          21,
          20,
          15,
          20,
          20,
          14,
          11,
          10,
          8,
          9,
          17,
          9,
          13,
          11,
          8,
          7,
          9,
          7,
          6,
          5,
          5,
          8,
          12,
          13,
          4,
          4,
          3,
          4,
          4,
          3,
          2,
          2,
          19,
          7,
          4,
          4,
          7,
          6,
          4,
          4,
          3,
          7,
          6,
          5,
          4,
          4,
          2,
          2,
          2,
          2,
          2,
          1,
          1,
          1,
          5,
          7,
          5,
          4,
          3,
          4,
          3,
          3,
          2,
          2,
          2,
          1,
          1,
          1,
          1,
          1,
          1,
          8,
          4,
          2,
          1,
          1,
          1,
          1,
          1,
          1,
          1,
          1
         ],
         "yaxis": "y11"
        },
        {
         "mode": "markers",
         "type": "scatter",
         "x": [
          39,
          38,
          27,
          22,
          20,
          17,
          10,
          10,
          10,
          10,
          7,
          7,
          7,
          7,
          6,
          6,
          4,
          4,
          4,
          4,
          4,
          3,
          3,
          3,
          3,
          3,
          3,
          3,
          3,
          3,
          3,
          3,
          2,
          2,
          2,
          2,
          2,
          2,
          2,
          2,
          2,
          2,
          2,
          1,
          1,
          1,
          1,
          1,
          1,
          1,
          1,
          1,
          1,
          1,
          1,
          1,
          1,
          1,
          1,
          1,
          1,
          1,
          1,
          1,
          1,
          0,
          0,
          0,
          0,
          0,
          0,
          0,
          0,
          0,
          0,
          0,
          0,
          0,
          0,
          0,
          0,
          0,
          0,
          0,
          0,
          0,
          0,
          0,
          0,
          0,
          0,
          0,
          0
         ],
         "xaxis": "x12",
         "y": [
          1,
          2,
          5,
          4,
          3,
          6,
          9,
          10,
          8,
          7,
          11,
          12,
          13,
          18,
          13,
          13,
          19,
          23,
          25,
          29,
          26,
          17,
          26,
          20,
          23,
          29,
          33,
          26,
          33,
          39,
          42,
          42,
          29,
          22,
          20,
          47,
          47,
          60,
          47,
          47,
          60,
          66,
          66,
          16,
          33,
          47,
          47,
          33,
          39,
          47,
          47,
          60,
          33,
          39,
          42,
          47,
          47,
          66,
          66,
          66,
          66,
          66,
          77,
          77,
          77,
          42,
          33,
          42,
          47,
          60,
          47,
          60,
          60,
          66,
          66,
          66,
          77,
          77,
          77,
          77,
          77,
          77,
          29,
          47,
          66,
          77,
          77,
          77,
          77,
          77,
          77,
          77,
          77
         ],
         "yaxis": "y12"
        },
        {
         "mode": "markers",
         "type": "scatter",
         "x": [
          41,
          32,
          14,
          21,
          28,
          7,
          12,
          12,
          11,
          10,
          6,
          6,
          6,
          3,
          7,
          4,
          5,
          4,
          4,
          2,
          1,
          8,
          6,
          4,
          4,
          3,
          2,
          1,
          1,
          1,
          1,
          0,
          5,
          4,
          2,
          1,
          1,
          1,
          0,
          0,
          0,
          0,
          0,
          6,
          3,
          3,
          3,
          2,
          2,
          2,
          2,
          2,
          1,
          1,
          1,
          1,
          1,
          1,
          0,
          0,
          0,
          0,
          0,
          0,
          0,
          4,
          3,
          3,
          2,
          2,
          1,
          1,
          1,
          1,
          1,
          1,
          1,
          1,
          1,
          1,
          1,
          1,
          0,
          0,
          0,
          0,
          0,
          0,
          0,
          0,
          0,
          0,
          0
         ],
         "xaxis": "x13",
         "y": [
          1,
          2,
          3,
          4,
          5,
          6,
          7,
          8,
          9,
          10,
          11,
          12,
          13,
          14,
          15,
          16,
          17,
          18,
          19,
          20,
          21,
          22,
          23,
          24,
          25,
          26,
          27,
          28,
          29,
          30,
          31,
          32,
          33,
          34,
          35,
          36,
          36,
          38,
          39,
          39,
          41,
          42,
          42,
          44,
          45,
          46,
          46,
          48,
          49,
          50,
          50,
          52,
          53,
          54,
          55,
          56,
          56,
          58,
          59,
          59,
          59,
          59,
          63,
          63,
          63,
          66,
          67,
          68,
          69,
          70,
          71,
          72,
          72,
          74,
          74,
          74,
          77,
          77,
          77,
          77,
          77,
          77,
          83,
          84,
          85,
          86,
          86,
          86,
          86,
          86,
          86,
          86,
          86
         ],
         "yaxis": "y13"
        },
        {
         "mode": "markers",
         "type": "scatter",
         "x": [
          41,
          32,
          14,
          21,
          28,
          7,
          12,
          12,
          11,
          10,
          6,
          6,
          6,
          3,
          7,
          4,
          5,
          4,
          4,
          2,
          1,
          8,
          6,
          4,
          4,
          3,
          2,
          1,
          1,
          1,
          1,
          0,
          5,
          4,
          2,
          1,
          1,
          1,
          0,
          0,
          0,
          0,
          0,
          6,
          3,
          3,
          3,
          2,
          2,
          2,
          2,
          2,
          1,
          1,
          1,
          1,
          1,
          1,
          0,
          0,
          0,
          0,
          0,
          0,
          0,
          4,
          3,
          3,
          2,
          2,
          1,
          1,
          1,
          1,
          1,
          1,
          1,
          1,
          1,
          1,
          1,
          1,
          0,
          0,
          0,
          0,
          0,
          0,
          0,
          0,
          0,
          0,
          0
         ],
         "xaxis": "x14",
         "y": [
          39,
          38,
          27,
          22,
          20,
          17,
          10,
          10,
          10,
          10,
          7,
          7,
          7,
          7,
          6,
          6,
          4,
          4,
          4,
          4,
          4,
          3,
          3,
          3,
          3,
          3,
          3,
          3,
          3,
          3,
          3,
          3,
          2,
          2,
          2,
          2,
          2,
          2,
          2,
          2,
          2,
          2,
          2,
          1,
          1,
          1,
          1,
          1,
          1,
          1,
          1,
          1,
          1,
          1,
          1,
          1,
          1,
          1,
          1,
          1,
          1,
          1,
          1,
          1,
          1,
          0,
          0,
          0,
          0,
          0,
          0,
          0,
          0,
          0,
          0,
          0,
          0,
          0,
          0,
          0,
          0,
          0,
          0,
          0,
          0,
          0,
          0,
          0,
          0,
          0,
          0,
          0,
          0
         ],
         "yaxis": "y14"
        },
        {
         "mode": "markers",
         "type": "scatter",
         "x": [
          41,
          32,
          14,
          21,
          28,
          7,
          12,
          12,
          11,
          10,
          6,
          6,
          6,
          3,
          7,
          4,
          5,
          4,
          4,
          2,
          1,
          8,
          6,
          4,
          4,
          3,
          2,
          1,
          1,
          1,
          1,
          0,
          5,
          4,
          2,
          1,
          1,
          1,
          0,
          0,
          0,
          0,
          0,
          6,
          3,
          3,
          3,
          2,
          2,
          2,
          2,
          2,
          1,
          1,
          1,
          1,
          1,
          1,
          0,
          0,
          0,
          0,
          0,
          0,
          0,
          4,
          3,
          3,
          2,
          2,
          1,
          1,
          1,
          1,
          1,
          1,
          1,
          1,
          1,
          1,
          1,
          1,
          0,
          0,
          0,
          0,
          0,
          0,
          0,
          0,
          0,
          0,
          0
         ],
         "xaxis": "x15",
         "y": [
          41,
          32,
          14,
          21,
          28,
          7,
          12,
          12,
          11,
          10,
          6,
          6,
          6,
          3,
          7,
          4,
          5,
          4,
          4,
          2,
          1,
          8,
          6,
          4,
          4,
          3,
          2,
          1,
          1,
          1,
          1,
          0,
          5,
          4,
          2,
          1,
          1,
          1,
          0,
          0,
          0,
          0,
          0,
          6,
          3,
          3,
          3,
          2,
          2,
          2,
          2,
          2,
          1,
          1,
          1,
          1,
          1,
          1,
          0,
          0,
          0,
          0,
          0,
          0,
          0,
          4,
          3,
          3,
          2,
          2,
          1,
          1,
          1,
          1,
          1,
          1,
          1,
          1,
          1,
          1,
          1,
          1,
          0,
          0,
          0,
          0,
          0,
          0,
          0,
          0,
          0,
          0,
          0
         ],
         "yaxis": "y15"
        },
        {
         "mode": "markers",
         "type": "scatter",
         "x": [
          41,
          32,
          14,
          21,
          28,
          7,
          12,
          12,
          11,
          10,
          6,
          6,
          6,
          3,
          7,
          4,
          5,
          4,
          4,
          2,
          1,
          8,
          6,
          4,
          4,
          3,
          2,
          1,
          1,
          1,
          1,
          0,
          5,
          4,
          2,
          1,
          1,
          1,
          0,
          0,
          0,
          0,
          0,
          6,
          3,
          3,
          3,
          2,
          2,
          2,
          2,
          2,
          1,
          1,
          1,
          1,
          1,
          1,
          0,
          0,
          0,
          0,
          0,
          0,
          0,
          4,
          3,
          3,
          2,
          2,
          1,
          1,
          1,
          1,
          1,
          1,
          1,
          1,
          1,
          1,
          1,
          1,
          0,
          0,
          0,
          0,
          0,
          0,
          0,
          0,
          0,
          0,
          0
         ],
         "xaxis": "x16",
         "y": [
          33,
          18,
          17,
          22,
          23,
          22,
          14,
          11,
          16,
          20,
          11,
          8,
          7,
          5,
          7,
          10,
          5,
          3,
          2,
          2,
          4,
          6,
          0,
          6,
          4,
          2,
          2,
          5,
          3,
          2,
          1,
          2,
          1,
          6,
          9,
          1,
          1,
          0,
          2,
          2,
          1,
          0,
          0,
          12,
          3,
          0,
          0,
          4,
          3,
          1,
          1,
          0,
          5,
          4,
          3,
          2,
          2,
          0,
          1,
          1,
          1,
          1,
          0,
          0,
          0,
          1,
          4,
          2,
          2,
          1,
          3,
          2,
          2,
          1,
          1,
          1,
          0,
          0,
          0,
          0,
          0,
          0,
          8,
          4,
          2,
          1,
          1,
          1,
          1,
          1,
          1,
          1,
          1
         ],
         "yaxis": "y16"
        },
        {
         "mode": "markers",
         "type": "scatter",
         "x": [
          41,
          32,
          14,
          21,
          28,
          7,
          12,
          12,
          11,
          10,
          6,
          6,
          6,
          3,
          7,
          4,
          5,
          4,
          4,
          2,
          1,
          8,
          6,
          4,
          4,
          3,
          2,
          1,
          1,
          1,
          1,
          0,
          5,
          4,
          2,
          1,
          1,
          1,
          0,
          0,
          0,
          0,
          0,
          6,
          3,
          3,
          3,
          2,
          2,
          2,
          2,
          2,
          1,
          1,
          1,
          1,
          1,
          1,
          0,
          0,
          0,
          0,
          0,
          0,
          0,
          4,
          3,
          3,
          2,
          2,
          1,
          1,
          1,
          1,
          1,
          1,
          1,
          1,
          1,
          1,
          1,
          1,
          0,
          0,
          0,
          0,
          0,
          0,
          0,
          0,
          0,
          0,
          0
         ],
         "xaxis": "x17",
         "y": [
          113,
          88,
          58,
          65,
          71,
          46,
          36,
          33,
          37,
          40,
          24,
          21,
          20,
          15,
          20,
          20,
          14,
          11,
          10,
          8,
          9,
          17,
          9,
          13,
          11,
          8,
          7,
          9,
          7,
          6,
          5,
          5,
          8,
          12,
          13,
          4,
          4,
          3,
          4,
          4,
          3,
          2,
          2,
          19,
          7,
          4,
          4,
          7,
          6,
          4,
          4,
          3,
          7,
          6,
          5,
          4,
          4,
          2,
          2,
          2,
          2,
          2,
          1,
          1,
          1,
          5,
          7,
          5,
          4,
          3,
          4,
          3,
          3,
          2,
          2,
          2,
          1,
          1,
          1,
          1,
          1,
          1,
          8,
          4,
          2,
          1,
          1,
          1,
          1,
          1,
          1,
          1,
          1
         ],
         "yaxis": "y17"
        },
        {
         "mode": "markers",
         "type": "scatter",
         "x": [
          41,
          32,
          14,
          21,
          28,
          7,
          12,
          12,
          11,
          10,
          6,
          6,
          6,
          3,
          7,
          4,
          5,
          4,
          4,
          2,
          1,
          8,
          6,
          4,
          4,
          3,
          2,
          1,
          1,
          1,
          1,
          0,
          5,
          4,
          2,
          1,
          1,
          1,
          0,
          0,
          0,
          0,
          0,
          6,
          3,
          3,
          3,
          2,
          2,
          2,
          2,
          2,
          1,
          1,
          1,
          1,
          1,
          1,
          0,
          0,
          0,
          0,
          0,
          0,
          0,
          4,
          3,
          3,
          2,
          2,
          1,
          1,
          1,
          1,
          1,
          1,
          1,
          1,
          1,
          1,
          1,
          1,
          0,
          0,
          0,
          0,
          0,
          0,
          0,
          0,
          0,
          0,
          0
         ],
         "xaxis": "x18",
         "y": [
          1,
          2,
          5,
          4,
          3,
          6,
          9,
          10,
          8,
          7,
          11,
          12,
          13,
          18,
          13,
          13,
          19,
          23,
          25,
          29,
          26,
          17,
          26,
          20,
          23,
          29,
          33,
          26,
          33,
          39,
          42,
          42,
          29,
          22,
          20,
          47,
          47,
          60,
          47,
          47,
          60,
          66,
          66,
          16,
          33,
          47,
          47,
          33,
          39,
          47,
          47,
          60,
          33,
          39,
          42,
          47,
          47,
          66,
          66,
          66,
          66,
          66,
          77,
          77,
          77,
          42,
          33,
          42,
          47,
          60,
          47,
          60,
          60,
          66,
          66,
          66,
          77,
          77,
          77,
          77,
          77,
          77,
          29,
          47,
          66,
          77,
          77,
          77,
          77,
          77,
          77,
          77,
          77
         ],
         "yaxis": "y18"
        },
        {
         "mode": "markers",
         "type": "scatter",
         "x": [
          33,
          18,
          17,
          22,
          23,
          22,
          14,
          11,
          16,
          20,
          11,
          8,
          7,
          5,
          7,
          10,
          5,
          3,
          2,
          2,
          4,
          6,
          0,
          6,
          4,
          2,
          2,
          5,
          3,
          2,
          1,
          2,
          1,
          6,
          9,
          1,
          1,
          0,
          2,
          2,
          1,
          0,
          0,
          12,
          3,
          0,
          0,
          4,
          3,
          1,
          1,
          0,
          5,
          4,
          3,
          2,
          2,
          0,
          1,
          1,
          1,
          1,
          0,
          0,
          0,
          1,
          4,
          2,
          2,
          1,
          3,
          2,
          2,
          1,
          1,
          1,
          0,
          0,
          0,
          0,
          0,
          0,
          8,
          4,
          2,
          1,
          1,
          1,
          1,
          1,
          1,
          1,
          1
         ],
         "xaxis": "x19",
         "y": [
          1,
          2,
          3,
          4,
          5,
          6,
          7,
          8,
          9,
          10,
          11,
          12,
          13,
          14,
          15,
          16,
          17,
          18,
          19,
          20,
          21,
          22,
          23,
          24,
          25,
          26,
          27,
          28,
          29,
          30,
          31,
          32,
          33,
          34,
          35,
          36,
          36,
          38,
          39,
          39,
          41,
          42,
          42,
          44,
          45,
          46,
          46,
          48,
          49,
          50,
          50,
          52,
          53,
          54,
          55,
          56,
          56,
          58,
          59,
          59,
          59,
          59,
          63,
          63,
          63,
          66,
          67,
          68,
          69,
          70,
          71,
          72,
          72,
          74,
          74,
          74,
          77,
          77,
          77,
          77,
          77,
          77,
          83,
          84,
          85,
          86,
          86,
          86,
          86,
          86,
          86,
          86,
          86
         ],
         "yaxis": "y19"
        },
        {
         "mode": "markers",
         "type": "scatter",
         "x": [
          33,
          18,
          17,
          22,
          23,
          22,
          14,
          11,
          16,
          20,
          11,
          8,
          7,
          5,
          7,
          10,
          5,
          3,
          2,
          2,
          4,
          6,
          0,
          6,
          4,
          2,
          2,
          5,
          3,
          2,
          1,
          2,
          1,
          6,
          9,
          1,
          1,
          0,
          2,
          2,
          1,
          0,
          0,
          12,
          3,
          0,
          0,
          4,
          3,
          1,
          1,
          0,
          5,
          4,
          3,
          2,
          2,
          0,
          1,
          1,
          1,
          1,
          0,
          0,
          0,
          1,
          4,
          2,
          2,
          1,
          3,
          2,
          2,
          1,
          1,
          1,
          0,
          0,
          0,
          0,
          0,
          0,
          8,
          4,
          2,
          1,
          1,
          1,
          1,
          1,
          1,
          1,
          1
         ],
         "xaxis": "x20",
         "y": [
          39,
          38,
          27,
          22,
          20,
          17,
          10,
          10,
          10,
          10,
          7,
          7,
          7,
          7,
          6,
          6,
          4,
          4,
          4,
          4,
          4,
          3,
          3,
          3,
          3,
          3,
          3,
          3,
          3,
          3,
          3,
          3,
          2,
          2,
          2,
          2,
          2,
          2,
          2,
          2,
          2,
          2,
          2,
          1,
          1,
          1,
          1,
          1,
          1,
          1,
          1,
          1,
          1,
          1,
          1,
          1,
          1,
          1,
          1,
          1,
          1,
          1,
          1,
          1,
          1,
          0,
          0,
          0,
          0,
          0,
          0,
          0,
          0,
          0,
          0,
          0,
          0,
          0,
          0,
          0,
          0,
          0,
          0,
          0,
          0,
          0,
          0,
          0,
          0,
          0,
          0,
          0,
          0
         ],
         "yaxis": "y20"
        },
        {
         "mode": "markers",
         "type": "scatter",
         "x": [
          33,
          18,
          17,
          22,
          23,
          22,
          14,
          11,
          16,
          20,
          11,
          8,
          7,
          5,
          7,
          10,
          5,
          3,
          2,
          2,
          4,
          6,
          0,
          6,
          4,
          2,
          2,
          5,
          3,
          2,
          1,
          2,
          1,
          6,
          9,
          1,
          1,
          0,
          2,
          2,
          1,
          0,
          0,
          12,
          3,
          0,
          0,
          4,
          3,
          1,
          1,
          0,
          5,
          4,
          3,
          2,
          2,
          0,
          1,
          1,
          1,
          1,
          0,
          0,
          0,
          1,
          4,
          2,
          2,
          1,
          3,
          2,
          2,
          1,
          1,
          1,
          0,
          0,
          0,
          0,
          0,
          0,
          8,
          4,
          2,
          1,
          1,
          1,
          1,
          1,
          1,
          1,
          1
         ],
         "xaxis": "x21",
         "y": [
          41,
          32,
          14,
          21,
          28,
          7,
          12,
          12,
          11,
          10,
          6,
          6,
          6,
          3,
          7,
          4,
          5,
          4,
          4,
          2,
          1,
          8,
          6,
          4,
          4,
          3,
          2,
          1,
          1,
          1,
          1,
          0,
          5,
          4,
          2,
          1,
          1,
          1,
          0,
          0,
          0,
          0,
          0,
          6,
          3,
          3,
          3,
          2,
          2,
          2,
          2,
          2,
          1,
          1,
          1,
          1,
          1,
          1,
          0,
          0,
          0,
          0,
          0,
          0,
          0,
          4,
          3,
          3,
          2,
          2,
          1,
          1,
          1,
          1,
          1,
          1,
          1,
          1,
          1,
          1,
          1,
          1,
          0,
          0,
          0,
          0,
          0,
          0,
          0,
          0,
          0,
          0,
          0
         ],
         "yaxis": "y21"
        },
        {
         "mode": "markers",
         "type": "scatter",
         "x": [
          33,
          18,
          17,
          22,
          23,
          22,
          14,
          11,
          16,
          20,
          11,
          8,
          7,
          5,
          7,
          10,
          5,
          3,
          2,
          2,
          4,
          6,
          0,
          6,
          4,
          2,
          2,
          5,
          3,
          2,
          1,
          2,
          1,
          6,
          9,
          1,
          1,
          0,
          2,
          2,
          1,
          0,
          0,
          12,
          3,
          0,
          0,
          4,
          3,
          1,
          1,
          0,
          5,
          4,
          3,
          2,
          2,
          0,
          1,
          1,
          1,
          1,
          0,
          0,
          0,
          1,
          4,
          2,
          2,
          1,
          3,
          2,
          2,
          1,
          1,
          1,
          0,
          0,
          0,
          0,
          0,
          0,
          8,
          4,
          2,
          1,
          1,
          1,
          1,
          1,
          1,
          1,
          1
         ],
         "xaxis": "x22",
         "y": [
          33,
          18,
          17,
          22,
          23,
          22,
          14,
          11,
          16,
          20,
          11,
          8,
          7,
          5,
          7,
          10,
          5,
          3,
          2,
          2,
          4,
          6,
          0,
          6,
          4,
          2,
          2,
          5,
          3,
          2,
          1,
          2,
          1,
          6,
          9,
          1,
          1,
          0,
          2,
          2,
          1,
          0,
          0,
          12,
          3,
          0,
          0,
          4,
          3,
          1,
          1,
          0,
          5,
          4,
          3,
          2,
          2,
          0,
          1,
          1,
          1,
          1,
          0,
          0,
          0,
          1,
          4,
          2,
          2,
          1,
          3,
          2,
          2,
          1,
          1,
          1,
          0,
          0,
          0,
          0,
          0,
          0,
          8,
          4,
          2,
          1,
          1,
          1,
          1,
          1,
          1,
          1,
          1
         ],
         "yaxis": "y22"
        },
        {
         "mode": "markers",
         "type": "scatter",
         "x": [
          33,
          18,
          17,
          22,
          23,
          22,
          14,
          11,
          16,
          20,
          11,
          8,
          7,
          5,
          7,
          10,
          5,
          3,
          2,
          2,
          4,
          6,
          0,
          6,
          4,
          2,
          2,
          5,
          3,
          2,
          1,
          2,
          1,
          6,
          9,
          1,
          1,
          0,
          2,
          2,
          1,
          0,
          0,
          12,
          3,
          0,
          0,
          4,
          3,
          1,
          1,
          0,
          5,
          4,
          3,
          2,
          2,
          0,
          1,
          1,
          1,
          1,
          0,
          0,
          0,
          1,
          4,
          2,
          2,
          1,
          3,
          2,
          2,
          1,
          1,
          1,
          0,
          0,
          0,
          0,
          0,
          0,
          8,
          4,
          2,
          1,
          1,
          1,
          1,
          1,
          1,
          1,
          1
         ],
         "xaxis": "x23",
         "y": [
          113,
          88,
          58,
          65,
          71,
          46,
          36,
          33,
          37,
          40,
          24,
          21,
          20,
          15,
          20,
          20,
          14,
          11,
          10,
          8,
          9,
          17,
          9,
          13,
          11,
          8,
          7,
          9,
          7,
          6,
          5,
          5,
          8,
          12,
          13,
          4,
          4,
          3,
          4,
          4,
          3,
          2,
          2,
          19,
          7,
          4,
          4,
          7,
          6,
          4,
          4,
          3,
          7,
          6,
          5,
          4,
          4,
          2,
          2,
          2,
          2,
          2,
          1,
          1,
          1,
          5,
          7,
          5,
          4,
          3,
          4,
          3,
          3,
          2,
          2,
          2,
          1,
          1,
          1,
          1,
          1,
          1,
          8,
          4,
          2,
          1,
          1,
          1,
          1,
          1,
          1,
          1,
          1
         ],
         "yaxis": "y23"
        },
        {
         "mode": "markers",
         "type": "scatter",
         "x": [
          33,
          18,
          17,
          22,
          23,
          22,
          14,
          11,
          16,
          20,
          11,
          8,
          7,
          5,
          7,
          10,
          5,
          3,
          2,
          2,
          4,
          6,
          0,
          6,
          4,
          2,
          2,
          5,
          3,
          2,
          1,
          2,
          1,
          6,
          9,
          1,
          1,
          0,
          2,
          2,
          1,
          0,
          0,
          12,
          3,
          0,
          0,
          4,
          3,
          1,
          1,
          0,
          5,
          4,
          3,
          2,
          2,
          0,
          1,
          1,
          1,
          1,
          0,
          0,
          0,
          1,
          4,
          2,
          2,
          1,
          3,
          2,
          2,
          1,
          1,
          1,
          0,
          0,
          0,
          0,
          0,
          0,
          8,
          4,
          2,
          1,
          1,
          1,
          1,
          1,
          1,
          1,
          1
         ],
         "xaxis": "x24",
         "y": [
          1,
          2,
          5,
          4,
          3,
          6,
          9,
          10,
          8,
          7,
          11,
          12,
          13,
          18,
          13,
          13,
          19,
          23,
          25,
          29,
          26,
          17,
          26,
          20,
          23,
          29,
          33,
          26,
          33,
          39,
          42,
          42,
          29,
          22,
          20,
          47,
          47,
          60,
          47,
          47,
          60,
          66,
          66,
          16,
          33,
          47,
          47,
          33,
          39,
          47,
          47,
          60,
          33,
          39,
          42,
          47,
          47,
          66,
          66,
          66,
          66,
          66,
          77,
          77,
          77,
          42,
          33,
          42,
          47,
          60,
          47,
          60,
          60,
          66,
          66,
          66,
          77,
          77,
          77,
          77,
          77,
          77,
          29,
          47,
          66,
          77,
          77,
          77,
          77,
          77,
          77,
          77,
          77
         ],
         "yaxis": "y24"
        },
        {
         "mode": "markers",
         "type": "scatter",
         "x": [
          113,
          88,
          58,
          65,
          71,
          46,
          36,
          33,
          37,
          40,
          24,
          21,
          20,
          15,
          20,
          20,
          14,
          11,
          10,
          8,
          9,
          17,
          9,
          13,
          11,
          8,
          7,
          9,
          7,
          6,
          5,
          5,
          8,
          12,
          13,
          4,
          4,
          3,
          4,
          4,
          3,
          2,
          2,
          19,
          7,
          4,
          4,
          7,
          6,
          4,
          4,
          3,
          7,
          6,
          5,
          4,
          4,
          2,
          2,
          2,
          2,
          2,
          1,
          1,
          1,
          5,
          7,
          5,
          4,
          3,
          4,
          3,
          3,
          2,
          2,
          2,
          1,
          1,
          1,
          1,
          1,
          1,
          8,
          4,
          2,
          1,
          1,
          1,
          1,
          1,
          1,
          1,
          1
         ],
         "xaxis": "x25",
         "y": [
          1,
          2,
          3,
          4,
          5,
          6,
          7,
          8,
          9,
          10,
          11,
          12,
          13,
          14,
          15,
          16,
          17,
          18,
          19,
          20,
          21,
          22,
          23,
          24,
          25,
          26,
          27,
          28,
          29,
          30,
          31,
          32,
          33,
          34,
          35,
          36,
          36,
          38,
          39,
          39,
          41,
          42,
          42,
          44,
          45,
          46,
          46,
          48,
          49,
          50,
          50,
          52,
          53,
          54,
          55,
          56,
          56,
          58,
          59,
          59,
          59,
          59,
          63,
          63,
          63,
          66,
          67,
          68,
          69,
          70,
          71,
          72,
          72,
          74,
          74,
          74,
          77,
          77,
          77,
          77,
          77,
          77,
          83,
          84,
          85,
          86,
          86,
          86,
          86,
          86,
          86,
          86,
          86
         ],
         "yaxis": "y25"
        },
        {
         "mode": "markers",
         "type": "scatter",
         "x": [
          113,
          88,
          58,
          65,
          71,
          46,
          36,
          33,
          37,
          40,
          24,
          21,
          20,
          15,
          20,
          20,
          14,
          11,
          10,
          8,
          9,
          17,
          9,
          13,
          11,
          8,
          7,
          9,
          7,
          6,
          5,
          5,
          8,
          12,
          13,
          4,
          4,
          3,
          4,
          4,
          3,
          2,
          2,
          19,
          7,
          4,
          4,
          7,
          6,
          4,
          4,
          3,
          7,
          6,
          5,
          4,
          4,
          2,
          2,
          2,
          2,
          2,
          1,
          1,
          1,
          5,
          7,
          5,
          4,
          3,
          4,
          3,
          3,
          2,
          2,
          2,
          1,
          1,
          1,
          1,
          1,
          1,
          8,
          4,
          2,
          1,
          1,
          1,
          1,
          1,
          1,
          1,
          1
         ],
         "xaxis": "x26",
         "y": [
          39,
          38,
          27,
          22,
          20,
          17,
          10,
          10,
          10,
          10,
          7,
          7,
          7,
          7,
          6,
          6,
          4,
          4,
          4,
          4,
          4,
          3,
          3,
          3,
          3,
          3,
          3,
          3,
          3,
          3,
          3,
          3,
          2,
          2,
          2,
          2,
          2,
          2,
          2,
          2,
          2,
          2,
          2,
          1,
          1,
          1,
          1,
          1,
          1,
          1,
          1,
          1,
          1,
          1,
          1,
          1,
          1,
          1,
          1,
          1,
          1,
          1,
          1,
          1,
          1,
          0,
          0,
          0,
          0,
          0,
          0,
          0,
          0,
          0,
          0,
          0,
          0,
          0,
          0,
          0,
          0,
          0,
          0,
          0,
          0,
          0,
          0,
          0,
          0,
          0,
          0,
          0,
          0
         ],
         "yaxis": "y26"
        },
        {
         "mode": "markers",
         "type": "scatter",
         "x": [
          113,
          88,
          58,
          65,
          71,
          46,
          36,
          33,
          37,
          40,
          24,
          21,
          20,
          15,
          20,
          20,
          14,
          11,
          10,
          8,
          9,
          17,
          9,
          13,
          11,
          8,
          7,
          9,
          7,
          6,
          5,
          5,
          8,
          12,
          13,
          4,
          4,
          3,
          4,
          4,
          3,
          2,
          2,
          19,
          7,
          4,
          4,
          7,
          6,
          4,
          4,
          3,
          7,
          6,
          5,
          4,
          4,
          2,
          2,
          2,
          2,
          2,
          1,
          1,
          1,
          5,
          7,
          5,
          4,
          3,
          4,
          3,
          3,
          2,
          2,
          2,
          1,
          1,
          1,
          1,
          1,
          1,
          8,
          4,
          2,
          1,
          1,
          1,
          1,
          1,
          1,
          1,
          1
         ],
         "xaxis": "x27",
         "y": [
          41,
          32,
          14,
          21,
          28,
          7,
          12,
          12,
          11,
          10,
          6,
          6,
          6,
          3,
          7,
          4,
          5,
          4,
          4,
          2,
          1,
          8,
          6,
          4,
          4,
          3,
          2,
          1,
          1,
          1,
          1,
          0,
          5,
          4,
          2,
          1,
          1,
          1,
          0,
          0,
          0,
          0,
          0,
          6,
          3,
          3,
          3,
          2,
          2,
          2,
          2,
          2,
          1,
          1,
          1,
          1,
          1,
          1,
          0,
          0,
          0,
          0,
          0,
          0,
          0,
          4,
          3,
          3,
          2,
          2,
          1,
          1,
          1,
          1,
          1,
          1,
          1,
          1,
          1,
          1,
          1,
          1,
          0,
          0,
          0,
          0,
          0,
          0,
          0,
          0,
          0,
          0,
          0
         ],
         "yaxis": "y27"
        },
        {
         "mode": "markers",
         "type": "scatter",
         "x": [
          113,
          88,
          58,
          65,
          71,
          46,
          36,
          33,
          37,
          40,
          24,
          21,
          20,
          15,
          20,
          20,
          14,
          11,
          10,
          8,
          9,
          17,
          9,
          13,
          11,
          8,
          7,
          9,
          7,
          6,
          5,
          5,
          8,
          12,
          13,
          4,
          4,
          3,
          4,
          4,
          3,
          2,
          2,
          19,
          7,
          4,
          4,
          7,
          6,
          4,
          4,
          3,
          7,
          6,
          5,
          4,
          4,
          2,
          2,
          2,
          2,
          2,
          1,
          1,
          1,
          5,
          7,
          5,
          4,
          3,
          4,
          3,
          3,
          2,
          2,
          2,
          1,
          1,
          1,
          1,
          1,
          1,
          8,
          4,
          2,
          1,
          1,
          1,
          1,
          1,
          1,
          1,
          1
         ],
         "xaxis": "x28",
         "y": [
          33,
          18,
          17,
          22,
          23,
          22,
          14,
          11,
          16,
          20,
          11,
          8,
          7,
          5,
          7,
          10,
          5,
          3,
          2,
          2,
          4,
          6,
          0,
          6,
          4,
          2,
          2,
          5,
          3,
          2,
          1,
          2,
          1,
          6,
          9,
          1,
          1,
          0,
          2,
          2,
          1,
          0,
          0,
          12,
          3,
          0,
          0,
          4,
          3,
          1,
          1,
          0,
          5,
          4,
          3,
          2,
          2,
          0,
          1,
          1,
          1,
          1,
          0,
          0,
          0,
          1,
          4,
          2,
          2,
          1,
          3,
          2,
          2,
          1,
          1,
          1,
          0,
          0,
          0,
          0,
          0,
          0,
          8,
          4,
          2,
          1,
          1,
          1,
          1,
          1,
          1,
          1,
          1
         ],
         "yaxis": "y28"
        },
        {
         "mode": "markers",
         "type": "scatter",
         "x": [
          113,
          88,
          58,
          65,
          71,
          46,
          36,
          33,
          37,
          40,
          24,
          21,
          20,
          15,
          20,
          20,
          14,
          11,
          10,
          8,
          9,
          17,
          9,
          13,
          11,
          8,
          7,
          9,
          7,
          6,
          5,
          5,
          8,
          12,
          13,
          4,
          4,
          3,
          4,
          4,
          3,
          2,
          2,
          19,
          7,
          4,
          4,
          7,
          6,
          4,
          4,
          3,
          7,
          6,
          5,
          4,
          4,
          2,
          2,
          2,
          2,
          2,
          1,
          1,
          1,
          5,
          7,
          5,
          4,
          3,
          4,
          3,
          3,
          2,
          2,
          2,
          1,
          1,
          1,
          1,
          1,
          1,
          8,
          4,
          2,
          1,
          1,
          1,
          1,
          1,
          1,
          1,
          1
         ],
         "xaxis": "x29",
         "y": [
          113,
          88,
          58,
          65,
          71,
          46,
          36,
          33,
          37,
          40,
          24,
          21,
          20,
          15,
          20,
          20,
          14,
          11,
          10,
          8,
          9,
          17,
          9,
          13,
          11,
          8,
          7,
          9,
          7,
          6,
          5,
          5,
          8,
          12,
          13,
          4,
          4,
          3,
          4,
          4,
          3,
          2,
          2,
          19,
          7,
          4,
          4,
          7,
          6,
          4,
          4,
          3,
          7,
          6,
          5,
          4,
          4,
          2,
          2,
          2,
          2,
          2,
          1,
          1,
          1,
          5,
          7,
          5,
          4,
          3,
          4,
          3,
          3,
          2,
          2,
          2,
          1,
          1,
          1,
          1,
          1,
          1,
          8,
          4,
          2,
          1,
          1,
          1,
          1,
          1,
          1,
          1,
          1
         ],
         "yaxis": "y29"
        },
        {
         "mode": "markers",
         "type": "scatter",
         "x": [
          113,
          88,
          58,
          65,
          71,
          46,
          36,
          33,
          37,
          40,
          24,
          21,
          20,
          15,
          20,
          20,
          14,
          11,
          10,
          8,
          9,
          17,
          9,
          13,
          11,
          8,
          7,
          9,
          7,
          6,
          5,
          5,
          8,
          12,
          13,
          4,
          4,
          3,
          4,
          4,
          3,
          2,
          2,
          19,
          7,
          4,
          4,
          7,
          6,
          4,
          4,
          3,
          7,
          6,
          5,
          4,
          4,
          2,
          2,
          2,
          2,
          2,
          1,
          1,
          1,
          5,
          7,
          5,
          4,
          3,
          4,
          3,
          3,
          2,
          2,
          2,
          1,
          1,
          1,
          1,
          1,
          1,
          8,
          4,
          2,
          1,
          1,
          1,
          1,
          1,
          1,
          1,
          1
         ],
         "xaxis": "x30",
         "y": [
          1,
          2,
          5,
          4,
          3,
          6,
          9,
          10,
          8,
          7,
          11,
          12,
          13,
          18,
          13,
          13,
          19,
          23,
          25,
          29,
          26,
          17,
          26,
          20,
          23,
          29,
          33,
          26,
          33,
          39,
          42,
          42,
          29,
          22,
          20,
          47,
          47,
          60,
          47,
          47,
          60,
          66,
          66,
          16,
          33,
          47,
          47,
          33,
          39,
          47,
          47,
          60,
          33,
          39,
          42,
          47,
          47,
          66,
          66,
          66,
          66,
          66,
          77,
          77,
          77,
          42,
          33,
          42,
          47,
          60,
          47,
          60,
          60,
          66,
          66,
          66,
          77,
          77,
          77,
          77,
          77,
          77,
          29,
          47,
          66,
          77,
          77,
          77,
          77,
          77,
          77,
          77,
          77
         ],
         "yaxis": "y30"
        },
        {
         "mode": "markers",
         "type": "scatter",
         "x": [
          1,
          2,
          5,
          4,
          3,
          6,
          9,
          10,
          8,
          7,
          11,
          12,
          13,
          18,
          13,
          13,
          19,
          23,
          25,
          29,
          26,
          17,
          26,
          20,
          23,
          29,
          33,
          26,
          33,
          39,
          42,
          42,
          29,
          22,
          20,
          47,
          47,
          60,
          47,
          47,
          60,
          66,
          66,
          16,
          33,
          47,
          47,
          33,
          39,
          47,
          47,
          60,
          33,
          39,
          42,
          47,
          47,
          66,
          66,
          66,
          66,
          66,
          77,
          77,
          77,
          42,
          33,
          42,
          47,
          60,
          47,
          60,
          60,
          66,
          66,
          66,
          77,
          77,
          77,
          77,
          77,
          77,
          29,
          47,
          66,
          77,
          77,
          77,
          77,
          77,
          77,
          77,
          77
         ],
         "xaxis": "x31",
         "y": [
          1,
          2,
          3,
          4,
          5,
          6,
          7,
          8,
          9,
          10,
          11,
          12,
          13,
          14,
          15,
          16,
          17,
          18,
          19,
          20,
          21,
          22,
          23,
          24,
          25,
          26,
          27,
          28,
          29,
          30,
          31,
          32,
          33,
          34,
          35,
          36,
          36,
          38,
          39,
          39,
          41,
          42,
          42,
          44,
          45,
          46,
          46,
          48,
          49,
          50,
          50,
          52,
          53,
          54,
          55,
          56,
          56,
          58,
          59,
          59,
          59,
          59,
          63,
          63,
          63,
          66,
          67,
          68,
          69,
          70,
          71,
          72,
          72,
          74,
          74,
          74,
          77,
          77,
          77,
          77,
          77,
          77,
          83,
          84,
          85,
          86,
          86,
          86,
          86,
          86,
          86,
          86,
          86
         ],
         "yaxis": "y31"
        },
        {
         "mode": "markers",
         "type": "scatter",
         "x": [
          1,
          2,
          5,
          4,
          3,
          6,
          9,
          10,
          8,
          7,
          11,
          12,
          13,
          18,
          13,
          13,
          19,
          23,
          25,
          29,
          26,
          17,
          26,
          20,
          23,
          29,
          33,
          26,
          33,
          39,
          42,
          42,
          29,
          22,
          20,
          47,
          47,
          60,
          47,
          47,
          60,
          66,
          66,
          16,
          33,
          47,
          47,
          33,
          39,
          47,
          47,
          60,
          33,
          39,
          42,
          47,
          47,
          66,
          66,
          66,
          66,
          66,
          77,
          77,
          77,
          42,
          33,
          42,
          47,
          60,
          47,
          60,
          60,
          66,
          66,
          66,
          77,
          77,
          77,
          77,
          77,
          77,
          29,
          47,
          66,
          77,
          77,
          77,
          77,
          77,
          77,
          77,
          77
         ],
         "xaxis": "x32",
         "y": [
          39,
          38,
          27,
          22,
          20,
          17,
          10,
          10,
          10,
          10,
          7,
          7,
          7,
          7,
          6,
          6,
          4,
          4,
          4,
          4,
          4,
          3,
          3,
          3,
          3,
          3,
          3,
          3,
          3,
          3,
          3,
          3,
          2,
          2,
          2,
          2,
          2,
          2,
          2,
          2,
          2,
          2,
          2,
          1,
          1,
          1,
          1,
          1,
          1,
          1,
          1,
          1,
          1,
          1,
          1,
          1,
          1,
          1,
          1,
          1,
          1,
          1,
          1,
          1,
          1,
          0,
          0,
          0,
          0,
          0,
          0,
          0,
          0,
          0,
          0,
          0,
          0,
          0,
          0,
          0,
          0,
          0,
          0,
          0,
          0,
          0,
          0,
          0,
          0,
          0,
          0,
          0,
          0
         ],
         "yaxis": "y32"
        },
        {
         "mode": "markers",
         "type": "scatter",
         "x": [
          1,
          2,
          5,
          4,
          3,
          6,
          9,
          10,
          8,
          7,
          11,
          12,
          13,
          18,
          13,
          13,
          19,
          23,
          25,
          29,
          26,
          17,
          26,
          20,
          23,
          29,
          33,
          26,
          33,
          39,
          42,
          42,
          29,
          22,
          20,
          47,
          47,
          60,
          47,
          47,
          60,
          66,
          66,
          16,
          33,
          47,
          47,
          33,
          39,
          47,
          47,
          60,
          33,
          39,
          42,
          47,
          47,
          66,
          66,
          66,
          66,
          66,
          77,
          77,
          77,
          42,
          33,
          42,
          47,
          60,
          47,
          60,
          60,
          66,
          66,
          66,
          77,
          77,
          77,
          77,
          77,
          77,
          29,
          47,
          66,
          77,
          77,
          77,
          77,
          77,
          77,
          77,
          77
         ],
         "xaxis": "x33",
         "y": [
          41,
          32,
          14,
          21,
          28,
          7,
          12,
          12,
          11,
          10,
          6,
          6,
          6,
          3,
          7,
          4,
          5,
          4,
          4,
          2,
          1,
          8,
          6,
          4,
          4,
          3,
          2,
          1,
          1,
          1,
          1,
          0,
          5,
          4,
          2,
          1,
          1,
          1,
          0,
          0,
          0,
          0,
          0,
          6,
          3,
          3,
          3,
          2,
          2,
          2,
          2,
          2,
          1,
          1,
          1,
          1,
          1,
          1,
          0,
          0,
          0,
          0,
          0,
          0,
          0,
          4,
          3,
          3,
          2,
          2,
          1,
          1,
          1,
          1,
          1,
          1,
          1,
          1,
          1,
          1,
          1,
          1,
          0,
          0,
          0,
          0,
          0,
          0,
          0,
          0,
          0,
          0,
          0
         ],
         "yaxis": "y33"
        },
        {
         "mode": "markers",
         "type": "scatter",
         "x": [
          1,
          2,
          5,
          4,
          3,
          6,
          9,
          10,
          8,
          7,
          11,
          12,
          13,
          18,
          13,
          13,
          19,
          23,
          25,
          29,
          26,
          17,
          26,
          20,
          23,
          29,
          33,
          26,
          33,
          39,
          42,
          42,
          29,
          22,
          20,
          47,
          47,
          60,
          47,
          47,
          60,
          66,
          66,
          16,
          33,
          47,
          47,
          33,
          39,
          47,
          47,
          60,
          33,
          39,
          42,
          47,
          47,
          66,
          66,
          66,
          66,
          66,
          77,
          77,
          77,
          42,
          33,
          42,
          47,
          60,
          47,
          60,
          60,
          66,
          66,
          66,
          77,
          77,
          77,
          77,
          77,
          77,
          29,
          47,
          66,
          77,
          77,
          77,
          77,
          77,
          77,
          77,
          77
         ],
         "xaxis": "x34",
         "y": [
          33,
          18,
          17,
          22,
          23,
          22,
          14,
          11,
          16,
          20,
          11,
          8,
          7,
          5,
          7,
          10,
          5,
          3,
          2,
          2,
          4,
          6,
          0,
          6,
          4,
          2,
          2,
          5,
          3,
          2,
          1,
          2,
          1,
          6,
          9,
          1,
          1,
          0,
          2,
          2,
          1,
          0,
          0,
          12,
          3,
          0,
          0,
          4,
          3,
          1,
          1,
          0,
          5,
          4,
          3,
          2,
          2,
          0,
          1,
          1,
          1,
          1,
          0,
          0,
          0,
          1,
          4,
          2,
          2,
          1,
          3,
          2,
          2,
          1,
          1,
          1,
          0,
          0,
          0,
          0,
          0,
          0,
          8,
          4,
          2,
          1,
          1,
          1,
          1,
          1,
          1,
          1,
          1
         ],
         "yaxis": "y34"
        },
        {
         "mode": "markers",
         "type": "scatter",
         "x": [
          1,
          2,
          5,
          4,
          3,
          6,
          9,
          10,
          8,
          7,
          11,
          12,
          13,
          18,
          13,
          13,
          19,
          23,
          25,
          29,
          26,
          17,
          26,
          20,
          23,
          29,
          33,
          26,
          33,
          39,
          42,
          42,
          29,
          22,
          20,
          47,
          47,
          60,
          47,
          47,
          60,
          66,
          66,
          16,
          33,
          47,
          47,
          33,
          39,
          47,
          47,
          60,
          33,
          39,
          42,
          47,
          47,
          66,
          66,
          66,
          66,
          66,
          77,
          77,
          77,
          42,
          33,
          42,
          47,
          60,
          47,
          60,
          60,
          66,
          66,
          66,
          77,
          77,
          77,
          77,
          77,
          77,
          29,
          47,
          66,
          77,
          77,
          77,
          77,
          77,
          77,
          77,
          77
         ],
         "xaxis": "x35",
         "y": [
          113,
          88,
          58,
          65,
          71,
          46,
          36,
          33,
          37,
          40,
          24,
          21,
          20,
          15,
          20,
          20,
          14,
          11,
          10,
          8,
          9,
          17,
          9,
          13,
          11,
          8,
          7,
          9,
          7,
          6,
          5,
          5,
          8,
          12,
          13,
          4,
          4,
          3,
          4,
          4,
          3,
          2,
          2,
          19,
          7,
          4,
          4,
          7,
          6,
          4,
          4,
          3,
          7,
          6,
          5,
          4,
          4,
          2,
          2,
          2,
          2,
          2,
          1,
          1,
          1,
          5,
          7,
          5,
          4,
          3,
          4,
          3,
          3,
          2,
          2,
          2,
          1,
          1,
          1,
          1,
          1,
          1,
          8,
          4,
          2,
          1,
          1,
          1,
          1,
          1,
          1,
          1,
          1
         ],
         "yaxis": "y35"
        },
        {
         "mode": "markers",
         "type": "scatter",
         "x": [
          1,
          2,
          5,
          4,
          3,
          6,
          9,
          10,
          8,
          7,
          11,
          12,
          13,
          18,
          13,
          13,
          19,
          23,
          25,
          29,
          26,
          17,
          26,
          20,
          23,
          29,
          33,
          26,
          33,
          39,
          42,
          42,
          29,
          22,
          20,
          47,
          47,
          60,
          47,
          47,
          60,
          66,
          66,
          16,
          33,
          47,
          47,
          33,
          39,
          47,
          47,
          60,
          33,
          39,
          42,
          47,
          47,
          66,
          66,
          66,
          66,
          66,
          77,
          77,
          77,
          42,
          33,
          42,
          47,
          60,
          47,
          60,
          60,
          66,
          66,
          66,
          77,
          77,
          77,
          77,
          77,
          77,
          29,
          47,
          66,
          77,
          77,
          77,
          77,
          77,
          77,
          77,
          77
         ],
         "xaxis": "x36",
         "y": [
          1,
          2,
          5,
          4,
          3,
          6,
          9,
          10,
          8,
          7,
          11,
          12,
          13,
          18,
          13,
          13,
          19,
          23,
          25,
          29,
          26,
          17,
          26,
          20,
          23,
          29,
          33,
          26,
          33,
          39,
          42,
          42,
          29,
          22,
          20,
          47,
          47,
          60,
          47,
          47,
          60,
          66,
          66,
          16,
          33,
          47,
          47,
          33,
          39,
          47,
          47,
          60,
          33,
          39,
          42,
          47,
          47,
          66,
          66,
          66,
          66,
          66,
          77,
          77,
          77,
          42,
          33,
          42,
          47,
          60,
          47,
          60,
          60,
          66,
          66,
          66,
          77,
          77,
          77,
          77,
          77,
          77,
          29,
          47,
          66,
          77,
          77,
          77,
          77,
          77,
          77,
          77,
          77
         ],
         "yaxis": "y36"
        }
       ],
       "layout": {
        "annotations": [
         {
          "font": {
           "size": 16
          },
          "showarrow": false,
          "text": "Rank",
          "x": 0.06944444444444445,
          "xanchor": "center",
          "xref": "paper",
          "y": 0.9999999999999999,
          "yanchor": "bottom",
          "yref": "paper"
         },
         {
          "font": {
           "size": 16
          },
          "showarrow": false,
          "text": "Gold",
          "x": 0.24166666666666667,
          "xanchor": "center",
          "xref": "paper",
          "y": 0.9999999999999999,
          "yanchor": "bottom",
          "yref": "paper"
         },
         {
          "font": {
           "size": 16
          },
          "showarrow": false,
          "text": "Silver",
          "x": 0.41388888888888886,
          "xanchor": "center",
          "xref": "paper",
          "y": 0.9999999999999999,
          "yanchor": "bottom",
          "yref": "paper"
         },
         {
          "font": {
           "size": 16
          },
          "showarrow": false,
          "text": "Bronze",
          "x": 0.5861111111111112,
          "xanchor": "center",
          "xref": "paper",
          "y": 0.9999999999999999,
          "yanchor": "bottom",
          "yref": "paper"
         },
         {
          "font": {
           "size": 16
          },
          "showarrow": false,
          "text": "Total",
          "x": 0.7583333333333333,
          "xanchor": "center",
          "xref": "paper",
          "y": 0.9999999999999999,
          "yanchor": "bottom",
          "yref": "paper"
         },
         {
          "font": {
           "size": 16
          },
          "showarrow": false,
          "text": "Rank by Total",
          "x": 0.9305555555555556,
          "xanchor": "center",
          "xref": "paper",
          "y": 0.9999999999999999,
          "yanchor": "bottom",
          "yref": "paper"
         }
        ],
        "height": 800,
        "template": {
         "data": {
          "bar": [
           {
            "error_x": {
             "color": "#2a3f5f"
            },
            "error_y": {
             "color": "#2a3f5f"
            },
            "marker": {
             "line": {
              "color": "#E5ECF6",
              "width": 0.5
             },
             "pattern": {
              "fillmode": "overlay",
              "size": 10,
              "solidity": 0.2
             }
            },
            "type": "bar"
           }
          ],
          "barpolar": [
           {
            "marker": {
             "line": {
              "color": "#E5ECF6",
              "width": 0.5
             },
             "pattern": {
              "fillmode": "overlay",
              "size": 10,
              "solidity": 0.2
             }
            },
            "type": "barpolar"
           }
          ],
          "carpet": [
           {
            "aaxis": {
             "endlinecolor": "#2a3f5f",
             "gridcolor": "white",
             "linecolor": "white",
             "minorgridcolor": "white",
             "startlinecolor": "#2a3f5f"
            },
            "baxis": {
             "endlinecolor": "#2a3f5f",
             "gridcolor": "white",
             "linecolor": "white",
             "minorgridcolor": "white",
             "startlinecolor": "#2a3f5f"
            },
            "type": "carpet"
           }
          ],
          "choropleth": [
           {
            "colorbar": {
             "outlinewidth": 0,
             "ticks": ""
            },
            "type": "choropleth"
           }
          ],
          "contour": [
           {
            "colorbar": {
             "outlinewidth": 0,
             "ticks": ""
            },
            "colorscale": [
             [
              0,
              "#0d0887"
             ],
             [
              0.1111111111111111,
              "#46039f"
             ],
             [
              0.2222222222222222,
              "#7201a8"
             ],
             [
              0.3333333333333333,
              "#9c179e"
             ],
             [
              0.4444444444444444,
              "#bd3786"
             ],
             [
              0.5555555555555556,
              "#d8576b"
             ],
             [
              0.6666666666666666,
              "#ed7953"
             ],
             [
              0.7777777777777778,
              "#fb9f3a"
             ],
             [
              0.8888888888888888,
              "#fdca26"
             ],
             [
              1,
              "#f0f921"
             ]
            ],
            "type": "contour"
           }
          ],
          "contourcarpet": [
           {
            "colorbar": {
             "outlinewidth": 0,
             "ticks": ""
            },
            "type": "contourcarpet"
           }
          ],
          "heatmap": [
           {
            "colorbar": {
             "outlinewidth": 0,
             "ticks": ""
            },
            "colorscale": [
             [
              0,
              "#0d0887"
             ],
             [
              0.1111111111111111,
              "#46039f"
             ],
             [
              0.2222222222222222,
              "#7201a8"
             ],
             [
              0.3333333333333333,
              "#9c179e"
             ],
             [
              0.4444444444444444,
              "#bd3786"
             ],
             [
              0.5555555555555556,
              "#d8576b"
             ],
             [
              0.6666666666666666,
              "#ed7953"
             ],
             [
              0.7777777777777778,
              "#fb9f3a"
             ],
             [
              0.8888888888888888,
              "#fdca26"
             ],
             [
              1,
              "#f0f921"
             ]
            ],
            "type": "heatmap"
           }
          ],
          "heatmapgl": [
           {
            "colorbar": {
             "outlinewidth": 0,
             "ticks": ""
            },
            "colorscale": [
             [
              0,
              "#0d0887"
             ],
             [
              0.1111111111111111,
              "#46039f"
             ],
             [
              0.2222222222222222,
              "#7201a8"
             ],
             [
              0.3333333333333333,
              "#9c179e"
             ],
             [
              0.4444444444444444,
              "#bd3786"
             ],
             [
              0.5555555555555556,
              "#d8576b"
             ],
             [
              0.6666666666666666,
              "#ed7953"
             ],
             [
              0.7777777777777778,
              "#fb9f3a"
             ],
             [
              0.8888888888888888,
              "#fdca26"
             ],
             [
              1,
              "#f0f921"
             ]
            ],
            "type": "heatmapgl"
           }
          ],
          "histogram": [
           {
            "marker": {
             "pattern": {
              "fillmode": "overlay",
              "size": 10,
              "solidity": 0.2
             }
            },
            "type": "histogram"
           }
          ],
          "histogram2d": [
           {
            "colorbar": {
             "outlinewidth": 0,
             "ticks": ""
            },
            "colorscale": [
             [
              0,
              "#0d0887"
             ],
             [
              0.1111111111111111,
              "#46039f"
             ],
             [
              0.2222222222222222,
              "#7201a8"
             ],
             [
              0.3333333333333333,
              "#9c179e"
             ],
             [
              0.4444444444444444,
              "#bd3786"
             ],
             [
              0.5555555555555556,
              "#d8576b"
             ],
             [
              0.6666666666666666,
              "#ed7953"
             ],
             [
              0.7777777777777778,
              "#fb9f3a"
             ],
             [
              0.8888888888888888,
              "#fdca26"
             ],
             [
              1,
              "#f0f921"
             ]
            ],
            "type": "histogram2d"
           }
          ],
          "histogram2dcontour": [
           {
            "colorbar": {
             "outlinewidth": 0,
             "ticks": ""
            },
            "colorscale": [
             [
              0,
              "#0d0887"
             ],
             [
              0.1111111111111111,
              "#46039f"
             ],
             [
              0.2222222222222222,
              "#7201a8"
             ],
             [
              0.3333333333333333,
              "#9c179e"
             ],
             [
              0.4444444444444444,
              "#bd3786"
             ],
             [
              0.5555555555555556,
              "#d8576b"
             ],
             [
              0.6666666666666666,
              "#ed7953"
             ],
             [
              0.7777777777777778,
              "#fb9f3a"
             ],
             [
              0.8888888888888888,
              "#fdca26"
             ],
             [
              1,
              "#f0f921"
             ]
            ],
            "type": "histogram2dcontour"
           }
          ],
          "mesh3d": [
           {
            "colorbar": {
             "outlinewidth": 0,
             "ticks": ""
            },
            "type": "mesh3d"
           }
          ],
          "parcoords": [
           {
            "line": {
             "colorbar": {
              "outlinewidth": 0,
              "ticks": ""
             }
            },
            "type": "parcoords"
           }
          ],
          "pie": [
           {
            "automargin": true,
            "type": "pie"
           }
          ],
          "scatter": [
           {
            "fillpattern": {
             "fillmode": "overlay",
             "size": 10,
             "solidity": 0.2
            },
            "type": "scatter"
           }
          ],
          "scatter3d": [
           {
            "line": {
             "colorbar": {
              "outlinewidth": 0,
              "ticks": ""
             }
            },
            "marker": {
             "colorbar": {
              "outlinewidth": 0,
              "ticks": ""
             }
            },
            "type": "scatter3d"
           }
          ],
          "scattercarpet": [
           {
            "marker": {
             "colorbar": {
              "outlinewidth": 0,
              "ticks": ""
             }
            },
            "type": "scattercarpet"
           }
          ],
          "scattergeo": [
           {
            "marker": {
             "colorbar": {
              "outlinewidth": 0,
              "ticks": ""
             }
            },
            "type": "scattergeo"
           }
          ],
          "scattergl": [
           {
            "marker": {
             "colorbar": {
              "outlinewidth": 0,
              "ticks": ""
             }
            },
            "type": "scattergl"
           }
          ],
          "scattermapbox": [
           {
            "marker": {
             "colorbar": {
              "outlinewidth": 0,
              "ticks": ""
             }
            },
            "type": "scattermapbox"
           }
          ],
          "scatterpolar": [
           {
            "marker": {
             "colorbar": {
              "outlinewidth": 0,
              "ticks": ""
             }
            },
            "type": "scatterpolar"
           }
          ],
          "scatterpolargl": [
           {
            "marker": {
             "colorbar": {
              "outlinewidth": 0,
              "ticks": ""
             }
            },
            "type": "scatterpolargl"
           }
          ],
          "scatterternary": [
           {
            "marker": {
             "colorbar": {
              "outlinewidth": 0,
              "ticks": ""
             }
            },
            "type": "scatterternary"
           }
          ],
          "surface": [
           {
            "colorbar": {
             "outlinewidth": 0,
             "ticks": ""
            },
            "colorscale": [
             [
              0,
              "#0d0887"
             ],
             [
              0.1111111111111111,
              "#46039f"
             ],
             [
              0.2222222222222222,
              "#7201a8"
             ],
             [
              0.3333333333333333,
              "#9c179e"
             ],
             [
              0.4444444444444444,
              "#bd3786"
             ],
             [
              0.5555555555555556,
              "#d8576b"
             ],
             [
              0.6666666666666666,
              "#ed7953"
             ],
             [
              0.7777777777777778,
              "#fb9f3a"
             ],
             [
              0.8888888888888888,
              "#fdca26"
             ],
             [
              1,
              "#f0f921"
             ]
            ],
            "type": "surface"
           }
          ],
          "table": [
           {
            "cells": {
             "fill": {
              "color": "#EBF0F8"
             },
             "line": {
              "color": "white"
             }
            },
            "header": {
             "fill": {
              "color": "#C8D4E3"
             },
             "line": {
              "color": "white"
             }
            },
            "type": "table"
           }
          ]
         },
         "layout": {
          "annotationdefaults": {
           "arrowcolor": "#2a3f5f",
           "arrowhead": 0,
           "arrowwidth": 1
          },
          "autotypenumbers": "strict",
          "coloraxis": {
           "colorbar": {
            "outlinewidth": 0,
            "ticks": ""
           }
          },
          "colorscale": {
           "diverging": [
            [
             0,
             "#8e0152"
            ],
            [
             0.1,
             "#c51b7d"
            ],
            [
             0.2,
             "#de77ae"
            ],
            [
             0.3,
             "#f1b6da"
            ],
            [
             0.4,
             "#fde0ef"
            ],
            [
             0.5,
             "#f7f7f7"
            ],
            [
             0.6,
             "#e6f5d0"
            ],
            [
             0.7,
             "#b8e186"
            ],
            [
             0.8,
             "#7fbc41"
            ],
            [
             0.9,
             "#4d9221"
            ],
            [
             1,
             "#276419"
            ]
           ],
           "sequential": [
            [
             0,
             "#0d0887"
            ],
            [
             0.1111111111111111,
             "#46039f"
            ],
            [
             0.2222222222222222,
             "#7201a8"
            ],
            [
             0.3333333333333333,
             "#9c179e"
            ],
            [
             0.4444444444444444,
             "#bd3786"
            ],
            [
             0.5555555555555556,
             "#d8576b"
            ],
            [
             0.6666666666666666,
             "#ed7953"
            ],
            [
             0.7777777777777778,
             "#fb9f3a"
            ],
            [
             0.8888888888888888,
             "#fdca26"
            ],
            [
             1,
             "#f0f921"
            ]
           ],
           "sequentialminus": [
            [
             0,
             "#0d0887"
            ],
            [
             0.1111111111111111,
             "#46039f"
            ],
            [
             0.2222222222222222,
             "#7201a8"
            ],
            [
             0.3333333333333333,
             "#9c179e"
            ],
            [
             0.4444444444444444,
             "#bd3786"
            ],
            [
             0.5555555555555556,
             "#d8576b"
            ],
            [
             0.6666666666666666,
             "#ed7953"
            ],
            [
             0.7777777777777778,
             "#fb9f3a"
            ],
            [
             0.8888888888888888,
             "#fdca26"
            ],
            [
             1,
             "#f0f921"
            ]
           ]
          },
          "colorway": [
           "#636efa",
           "#EF553B",
           "#00cc96",
           "#ab63fa",
           "#FFA15A",
           "#19d3f3",
           "#FF6692",
           "#B6E880",
           "#FF97FF",
           "#FECB52"
          ],
          "font": {
           "color": "#2a3f5f"
          },
          "geo": {
           "bgcolor": "white",
           "lakecolor": "white",
           "landcolor": "#E5ECF6",
           "showlakes": true,
           "showland": true,
           "subunitcolor": "white"
          },
          "hoverlabel": {
           "align": "left"
          },
          "hovermode": "closest",
          "mapbox": {
           "style": "light"
          },
          "paper_bgcolor": "white",
          "plot_bgcolor": "#E5ECF6",
          "polar": {
           "angularaxis": {
            "gridcolor": "white",
            "linecolor": "white",
            "ticks": ""
           },
           "bgcolor": "#E5ECF6",
           "radialaxis": {
            "gridcolor": "white",
            "linecolor": "white",
            "ticks": ""
           }
          },
          "scene": {
           "xaxis": {
            "backgroundcolor": "#E5ECF6",
            "gridcolor": "white",
            "gridwidth": 2,
            "linecolor": "white",
            "showbackground": true,
            "ticks": "",
            "zerolinecolor": "white"
           },
           "yaxis": {
            "backgroundcolor": "#E5ECF6",
            "gridcolor": "white",
            "gridwidth": 2,
            "linecolor": "white",
            "showbackground": true,
            "ticks": "",
            "zerolinecolor": "white"
           },
           "zaxis": {
            "backgroundcolor": "#E5ECF6",
            "gridcolor": "white",
            "gridwidth": 2,
            "linecolor": "white",
            "showbackground": true,
            "ticks": "",
            "zerolinecolor": "white"
           }
          },
          "shapedefaults": {
           "line": {
            "color": "#2a3f5f"
           }
          },
          "ternary": {
           "aaxis": {
            "gridcolor": "white",
            "linecolor": "white",
            "ticks": ""
           },
           "baxis": {
            "gridcolor": "white",
            "linecolor": "white",
            "ticks": ""
           },
           "bgcolor": "#E5ECF6",
           "caxis": {
            "gridcolor": "white",
            "linecolor": "white",
            "ticks": ""
           }
          },
          "title": {
           "x": 0.05
          },
          "xaxis": {
           "automargin": true,
           "gridcolor": "white",
           "linecolor": "white",
           "ticks": "",
           "title": {
            "standoff": 15
           },
           "zerolinecolor": "white",
           "zerolinewidth": 2
          },
          "yaxis": {
           "automargin": true,
           "gridcolor": "white",
           "linecolor": "white",
           "ticks": "",
           "title": {
            "standoff": 15
           },
           "zerolinecolor": "white",
           "zerolinewidth": 2
          }
         }
        },
        "title": {
         "text": "Pair Plot"
        },
        "width": 1800,
        "xaxis": {
         "anchor": "y",
         "domain": [
          0,
          0.1388888888888889
         ]
        },
        "xaxis10": {
         "anchor": "y10",
         "domain": [
          0.5166666666666667,
          0.6555555555555557
         ]
        },
        "xaxis11": {
         "anchor": "y11",
         "domain": [
          0.6888888888888889,
          0.8277777777777777
         ]
        },
        "xaxis12": {
         "anchor": "y12",
         "domain": [
          0.861111111111111,
          1
         ]
        },
        "xaxis13": {
         "anchor": "y13",
         "domain": [
          0,
          0.1388888888888889
         ]
        },
        "xaxis14": {
         "anchor": "y14",
         "domain": [
          0.17222222222222222,
          0.3111111111111111
         ]
        },
        "xaxis15": {
         "anchor": "y15",
         "domain": [
          0.34444444444444444,
          0.48333333333333334
         ]
        },
        "xaxis16": {
         "anchor": "y16",
         "domain": [
          0.5166666666666667,
          0.6555555555555557
         ]
        },
        "xaxis17": {
         "anchor": "y17",
         "domain": [
          0.6888888888888889,
          0.8277777777777777
         ]
        },
        "xaxis18": {
         "anchor": "y18",
         "domain": [
          0.861111111111111,
          1
         ]
        },
        "xaxis19": {
         "anchor": "y19",
         "domain": [
          0,
          0.1388888888888889
         ]
        },
        "xaxis2": {
         "anchor": "y2",
         "domain": [
          0.17222222222222222,
          0.3111111111111111
         ]
        },
        "xaxis20": {
         "anchor": "y20",
         "domain": [
          0.17222222222222222,
          0.3111111111111111
         ]
        },
        "xaxis21": {
         "anchor": "y21",
         "domain": [
          0.34444444444444444,
          0.48333333333333334
         ]
        },
        "xaxis22": {
         "anchor": "y22",
         "domain": [
          0.5166666666666667,
          0.6555555555555557
         ]
        },
        "xaxis23": {
         "anchor": "y23",
         "domain": [
          0.6888888888888889,
          0.8277777777777777
         ]
        },
        "xaxis24": {
         "anchor": "y24",
         "domain": [
          0.861111111111111,
          1
         ]
        },
        "xaxis25": {
         "anchor": "y25",
         "domain": [
          0,
          0.1388888888888889
         ]
        },
        "xaxis26": {
         "anchor": "y26",
         "domain": [
          0.17222222222222222,
          0.3111111111111111
         ]
        },
        "xaxis27": {
         "anchor": "y27",
         "domain": [
          0.34444444444444444,
          0.48333333333333334
         ]
        },
        "xaxis28": {
         "anchor": "y28",
         "domain": [
          0.5166666666666667,
          0.6555555555555557
         ]
        },
        "xaxis29": {
         "anchor": "y29",
         "domain": [
          0.6888888888888889,
          0.8277777777777777
         ]
        },
        "xaxis3": {
         "anchor": "y3",
         "domain": [
          0.34444444444444444,
          0.48333333333333334
         ]
        },
        "xaxis30": {
         "anchor": "y30",
         "domain": [
          0.861111111111111,
          1
         ]
        },
        "xaxis31": {
         "anchor": "y31",
         "domain": [
          0,
          0.1388888888888889
         ]
        },
        "xaxis32": {
         "anchor": "y32",
         "domain": [
          0.17222222222222222,
          0.3111111111111111
         ]
        },
        "xaxis33": {
         "anchor": "y33",
         "domain": [
          0.34444444444444444,
          0.48333333333333334
         ]
        },
        "xaxis34": {
         "anchor": "y34",
         "domain": [
          0.5166666666666667,
          0.6555555555555557
         ]
        },
        "xaxis35": {
         "anchor": "y35",
         "domain": [
          0.6888888888888889,
          0.8277777777777777
         ]
        },
        "xaxis36": {
         "anchor": "y36",
         "domain": [
          0.861111111111111,
          1
         ]
        },
        "xaxis4": {
         "anchor": "y4",
         "domain": [
          0.5166666666666667,
          0.6555555555555557
         ]
        },
        "xaxis5": {
         "anchor": "y5",
         "domain": [
          0.6888888888888889,
          0.8277777777777777
         ]
        },
        "xaxis6": {
         "anchor": "y6",
         "domain": [
          0.861111111111111,
          1
         ]
        },
        "xaxis7": {
         "anchor": "y7",
         "domain": [
          0,
          0.1388888888888889
         ]
        },
        "xaxis8": {
         "anchor": "y8",
         "domain": [
          0.17222222222222222,
          0.3111111111111111
         ]
        },
        "xaxis9": {
         "anchor": "y9",
         "domain": [
          0.34444444444444444,
          0.48333333333333334
         ]
        },
        "yaxis": {
         "anchor": "x",
         "domain": [
          0.9027777777777777,
          0.9999999999999999
         ],
         "title": {
          "text": "Rank"
         }
        },
        "yaxis10": {
         "anchor": "x10",
         "domain": [
          0.7222222222222222,
          0.8194444444444444
         ]
        },
        "yaxis11": {
         "anchor": "x11",
         "domain": [
          0.7222222222222222,
          0.8194444444444444
         ]
        },
        "yaxis12": {
         "anchor": "x12",
         "domain": [
          0.7222222222222222,
          0.8194444444444444
         ]
        },
        "yaxis13": {
         "anchor": "x13",
         "domain": [
          0.5416666666666667,
          0.638888888888889
         ],
         "title": {
          "text": "Silver"
         }
        },
        "yaxis14": {
         "anchor": "x14",
         "domain": [
          0.5416666666666667,
          0.638888888888889
         ]
        },
        "yaxis15": {
         "anchor": "x15",
         "domain": [
          0.5416666666666667,
          0.638888888888889
         ]
        },
        "yaxis16": {
         "anchor": "x16",
         "domain": [
          0.5416666666666667,
          0.638888888888889
         ]
        },
        "yaxis17": {
         "anchor": "x17",
         "domain": [
          0.5416666666666667,
          0.638888888888889
         ]
        },
        "yaxis18": {
         "anchor": "x18",
         "domain": [
          0.5416666666666667,
          0.638888888888889
         ]
        },
        "yaxis19": {
         "anchor": "x19",
         "domain": [
          0.3611111111111111,
          0.4583333333333333
         ],
         "title": {
          "text": "Bronze"
         }
        },
        "yaxis2": {
         "anchor": "x2",
         "domain": [
          0.9027777777777777,
          0.9999999999999999
         ]
        },
        "yaxis20": {
         "anchor": "x20",
         "domain": [
          0.3611111111111111,
          0.4583333333333333
         ]
        },
        "yaxis21": {
         "anchor": "x21",
         "domain": [
          0.3611111111111111,
          0.4583333333333333
         ]
        },
        "yaxis22": {
         "anchor": "x22",
         "domain": [
          0.3611111111111111,
          0.4583333333333333
         ]
        },
        "yaxis23": {
         "anchor": "x23",
         "domain": [
          0.3611111111111111,
          0.4583333333333333
         ]
        },
        "yaxis24": {
         "anchor": "x24",
         "domain": [
          0.3611111111111111,
          0.4583333333333333
         ]
        },
        "yaxis25": {
         "anchor": "x25",
         "domain": [
          0.18055555555555555,
          0.2777777777777778
         ],
         "title": {
          "text": "Total"
         }
        },
        "yaxis26": {
         "anchor": "x26",
         "domain": [
          0.18055555555555555,
          0.2777777777777778
         ]
        },
        "yaxis27": {
         "anchor": "x27",
         "domain": [
          0.18055555555555555,
          0.2777777777777778
         ]
        },
        "yaxis28": {
         "anchor": "x28",
         "domain": [
          0.18055555555555555,
          0.2777777777777778
         ]
        },
        "yaxis29": {
         "anchor": "x29",
         "domain": [
          0.18055555555555555,
          0.2777777777777778
         ]
        },
        "yaxis3": {
         "anchor": "x3",
         "domain": [
          0.9027777777777777,
          0.9999999999999999
         ]
        },
        "yaxis30": {
         "anchor": "x30",
         "domain": [
          0.18055555555555555,
          0.2777777777777778
         ]
        },
        "yaxis31": {
         "anchor": "x31",
         "domain": [
          0,
          0.09722222222222222
         ],
         "title": {
          "text": "Rank by Total"
         }
        },
        "yaxis32": {
         "anchor": "x32",
         "domain": [
          0,
          0.09722222222222222
         ]
        },
        "yaxis33": {
         "anchor": "x33",
         "domain": [
          0,
          0.09722222222222222
         ]
        },
        "yaxis34": {
         "anchor": "x34",
         "domain": [
          0,
          0.09722222222222222
         ]
        },
        "yaxis35": {
         "anchor": "x35",
         "domain": [
          0,
          0.09722222222222222
         ]
        },
        "yaxis36": {
         "anchor": "x36",
         "domain": [
          0,
          0.09722222222222222
         ]
        },
        "yaxis4": {
         "anchor": "x4",
         "domain": [
          0.9027777777777777,
          0.9999999999999999
         ]
        },
        "yaxis5": {
         "anchor": "x5",
         "domain": [
          0.9027777777777777,
          0.9999999999999999
         ]
        },
        "yaxis6": {
         "anchor": "x6",
         "domain": [
          0.9027777777777777,
          0.9999999999999999
         ]
        },
        "yaxis7": {
         "anchor": "x7",
         "domain": [
          0.7222222222222222,
          0.8194444444444444
         ],
         "title": {
          "text": "Gold"
         }
        },
        "yaxis8": {
         "anchor": "x8",
         "domain": [
          0.7222222222222222,
          0.8194444444444444
         ]
        },
        "yaxis9": {
         "anchor": "x9",
         "domain": [
          0.7222222222222222,
          0.8194444444444444
         ]
        }
       }
      }
     },
     "metadata": {},
     "output_type": "display_data"
    }
   ],
   "source": [
    "from plotly.subplots import make_subplots\n",
    "\n",
    "scatter_data = medal_data.drop(columns=['Team/NOC'], axis=1)\n",
    "# mkae scatter plot \n",
    "fig = make_subplots(rows=len(scatter_data.columns), cols=len(scatter_data.columns), subplot_titles=scatter_data.columns)\n",
    "\n",
    "#fill the subplot \n",
    "for i in range(len(scatter_data.columns)):\n",
    "    for j in range(len(scatter_data.columns)):\n",
    "        fig.add_trace(go.Scatter(x=scatter_data.iloc[:, i], y=scatter_data.iloc[:, j], mode='markers'), row=i + 1, col=j + 1)\n",
    "        \n",
    "        if j == 0:\n",
    "            fig.update_yaxes(title_text=scatter_data.columns[i], row=i + 1, col=j + 1)\n",
    "\n",
    "#update layout\n",
    "fig.update_layout(title='Pair Plot', height=800, width=1800)\n",
    "fig.show()"
   ]
  },
  {
   "cell_type": "markdown",
   "metadata": {},
   "source": [
    "### Exploring two or more variables | (Bivariate or Multivariate Analysis)\n",
    "\n",
    "- **Hexagonal binning**: A plot of two numeric variables with the records binned into hexagons. In hexagonal binning, the scatter plot area is divided into hexagonal bins, and the number of data points falling within each hexagon is represented by color intensity or height. This provides a more interpretable representation of the data distribution, especially when dealing with dense datasets.\n",
    "- **Contour plots**: A plot showing the density of two numeric variables like a topographical map.\n",
    "- **Voilin plots**: A box plot with density estimate."
   ]
  },
  {
   "cell_type": "code",
   "execution_count": 84,
   "metadata": {},
   "outputs": [
    {
     "data": {
      "image/png": "[encoded data removed]",
      "text/plain": [
       "<Figure size 600x600 with 3 Axes>"
      ]
     },
     "metadata": {},
     "output_type": "display_data"
    }
   ],
   "source": [
    "sns.set_theme(style='darkgrid')\n",
    "\n",
    "sns.jointplot(x=scatter_data[\"Gold\"], y=scatter_data['Silver'], kind='hex', color='c')\n",
    "plt.xlabel(\"Gold\")\n",
    "plt.ylabel('Silver')\n",
    "plt.show()"
   ]
  },
  {
   "cell_type": "code",
   "execution_count": 106,
   "metadata": {},
   "outputs": [
    {
     "data": {
      "application/vnd.plotly.v1+json": {
       "config": {
        "plotlyServerURL": "https://plot.ly"
       },
       "data": [
        {
         "contours": {
          "coloring": "none"
         },
         "hovertemplate": "Gold=%{x}<br>Silver=%{y}<br>count=%{z}<extra></extra>",
         "legendgroup": "",
         "line": {
          "color": "#636efa"
         },
         "name": "",
         "showlegend": false,
         "type": "histogram2dcontour",
         "x": [
          39,
          38,
          27,
          22,
          20,
          17,
          10,
          10,
          10,
          10,
          7,
          7,
          7,
          7,
          6,
          6,
          4,
          4,
          4,
          4,
          4,
          3,
          3,
          3,
          3,
          3,
          3,
          3,
          3,
          3,
          3,
          3,
          2,
          2,
          2,
          2,
          2,
          2,
          2,
          2,
          2,
          2,
          2,
          1,
          1,
          1,
          1,
          1,
          1,
          1,
          1,
          1,
          1,
          1,
          1,
          1,
          1,
          1,
          1,
          1,
          1,
          1,
          1,
          1,
          1,
          0,
          0,
          0,
          0,
          0,
          0,
          0,
          0,
          0,
          0,
          0,
          0,
          0,
          0,
          0,
          0,
          0,
          0,
          0,
          0,
          0,
          0,
          0,
          0,
          0,
          0,
          0,
          0
         ],
         "xaxis": "x",
         "xbingroup": "x",
         "y": [
          41,
          32,
          14,
          21,
          28,
          7,
          12,
          12,
          11,
          10,
          6,
          6,
          6,
          3,
          7,
          4,
          5,
          4,
          4,
          2,
          1,
          8,
          6,
          4,
          4,
          3,
          2,
          1,
          1,
          1,
          1,
          0,
          5,
          4,
          2,
          1,
          1,
          1,
          0,
          0,
          0,
          0,
          0,
          6,
          3,
          3,
          3,
          2,
          2,
          2,
          2,
          2,
          1,
          1,
          1,
          1,
          1,
          1,
          0,
          0,
          0,
          0,
          0,
          0,
          0,
          4,
          3,
          3,
          2,
          2,
          1,
          1,
          1,
          1,
          1,
          1,
          1,
          1,
          1,
          1,
          1,
          1,
          0,
          0,
          0,
          0,
          0,
          0,
          0,
          0,
          0,
          0,
          0
         ],
         "yaxis": "y",
         "ybingroup": "y"
        },
        {
         "alignmentgroup": "True",
         "bingroup": "x",
         "hovertemplate": "Gold=%{x}<br>count=%{y}<extra></extra>",
         "legendgroup": "",
         "marker": {
          "color": "#636efa"
         },
         "name": "",
         "offsetgroup": "",
         "opacity": 0.5,
         "showlegend": false,
         "type": "histogram",
         "x": [
          39,
          38,
          27,
          22,
          20,
          17,
          10,
          10,
          10,
          10,
          7,
          7,
          7,
          7,
          6,
          6,
          4,
          4,
          4,
          4,
          4,
          3,
          3,
          3,
          3,
          3,
          3,
          3,
          3,
          3,
          3,
          3,
          2,
          2,
          2,
          2,
          2,
          2,
          2,
          2,
          2,
          2,
          2,
          1,
          1,
          1,
          1,
          1,
          1,
          1,
          1,
          1,
          1,
          1,
          1,
          1,
          1,
          1,
          1,
          1,
          1,
          1,
          1,
          1,
          1,
          0,
          0,
          0,
          0,
          0,
          0,
          0,
          0,
          0,
          0,
          0,
          0,
          0,
          0,
          0,
          0,
          0,
          0,
          0,
          0,
          0,
          0,
          0,
          0,
          0,
          0,
          0,
          0
         ],
         "xaxis": "x3",
         "yaxis": "y3"
        },
        {
         "alignmentgroup": "True",
         "bingroup": "y",
         "hovertemplate": "Silver=%{y}<br>count=%{x}<extra></extra>",
         "legendgroup": "",
         "marker": {
          "color": "#636efa"
         },
         "name": "",
         "offsetgroup": "",
         "opacity": 0.5,
         "showlegend": false,
         "type": "histogram",
         "xaxis": "x2",
         "y": [
          41,
          32,
          14,
          21,
          28,
          7,
          12,
          12,
          11,
          10,
          6,
          6,
          6,
          3,
          7,
          4,
          5,
          4,
          4,
          2,
          1,
          8,
          6,
          4,
          4,
          3,
          2,
          1,
          1,
          1,
          1,
          0,
          5,
          4,
          2,
          1,
          1,
          1,
          0,
          0,
          0,
          0,
          0,
          6,
          3,
          3,
          3,
          2,
          2,
          2,
          2,
          2,
          1,
          1,
          1,
          1,
          1,
          1,
          0,
          0,
          0,
          0,
          0,
          0,
          0,
          4,
          3,
          3,
          2,
          2,
          1,
          1,
          1,
          1,
          1,
          1,
          1,
          1,
          1,
          1,
          1,
          1,
          0,
          0,
          0,
          0,
          0,
          0,
          0,
          0,
          0,
          0,
          0
         ],
         "yaxis": "y2"
        }
       ],
       "layout": {
        "barmode": "overlay",
        "height": 400,
        "legend": {
         "tracegroupgap": 0
        },
        "margin": {
         "t": 60
        },
        "template": {
         "data": {
          "bar": [
           {
            "error_x": {
             "color": "#2a3f5f"
            },
            "error_y": {
             "color": "#2a3f5f"
            },
            "marker": {
             "line": {
              "color": "#E5ECF6",
              "width": 0.5
             },
             "pattern": {
              "fillmode": "overlay",
              "size": 10,
              "solidity": 0.2
             }
            },
            "type": "bar"
           }
          ],
          "barpolar": [
           {
            "marker": {
             "line": {
              "color": "#E5ECF6",
              "width": 0.5
             },
             "pattern": {
              "fillmode": "overlay",
              "size": 10,
              "solidity": 0.2
             }
            },
            "type": "barpolar"
           }
          ],
          "carpet": [
           {
            "aaxis": {
             "endlinecolor": "#2a3f5f",
             "gridcolor": "white",
             "linecolor": "white",
             "minorgridcolor": "white",
             "startlinecolor": "#2a3f5f"
            },
            "baxis": {
             "endlinecolor": "#2a3f5f",
             "gridcolor": "white",
             "linecolor": "white",
             "minorgridcolor": "white",
             "startlinecolor": "#2a3f5f"
            },
            "type": "carpet"
           }
          ],
          "choropleth": [
           {
            "colorbar": {
             "outlinewidth": 0,
             "ticks": ""
            },
            "type": "choropleth"
           }
          ],
          "contour": [
           {
            "colorbar": {
             "outlinewidth": 0,
             "ticks": ""
            },
            "colorscale": [
             [
              0,
              "#0d0887"
             ],
             [
              0.1111111111111111,
              "#46039f"
             ],
             [
              0.2222222222222222,
              "#7201a8"
             ],
             [
              0.3333333333333333,
              "#9c179e"
             ],
             [
              0.4444444444444444,
              "#bd3786"
             ],
             [
              0.5555555555555556,
              "#d8576b"
             ],
             [
              0.6666666666666666,
              "#ed7953"
             ],
             [
              0.7777777777777778,
              "#fb9f3a"
             ],
             [
              0.8888888888888888,
              "#fdca26"
             ],
             [
              1,
              "#f0f921"
             ]
            ],
            "type": "contour"
           }
          ],
          "contourcarpet": [
           {
            "colorbar": {
             "outlinewidth": 0,
             "ticks": ""
            },
            "type": "contourcarpet"
           }
          ],
          "heatmap": [
           {
            "colorbar": {
             "outlinewidth": 0,
             "ticks": ""
            },
            "colorscale": [
             [
              0,
              "#0d0887"
             ],
             [
              0.1111111111111111,
              "#46039f"
             ],
             [
              0.2222222222222222,
              "#7201a8"
             ],
             [
              0.3333333333333333,
              "#9c179e"
             ],
             [
              0.4444444444444444,
              "#bd3786"
             ],
             [
              0.5555555555555556,
              "#d8576b"
             ],
             [
              0.6666666666666666,
              "#ed7953"
             ],
             [
              0.7777777777777778,
              "#fb9f3a"
             ],
             [
              0.8888888888888888,
              "#fdca26"
             ],
             [
              1,
              "#f0f921"
             ]
            ],
            "type": "heatmap"
           }
          ],
          "heatmapgl": [
           {
            "colorbar": {
             "outlinewidth": 0,
             "ticks": ""
            },
            "colorscale": [
             [
              0,
              "#0d0887"
             ],
             [
              0.1111111111111111,
              "#46039f"
             ],
             [
              0.2222222222222222,
              "#7201a8"
             ],
             [
              0.3333333333333333,
              "#9c179e"
             ],
             [
              0.4444444444444444,
              "#bd3786"
             ],
             [
              0.5555555555555556,
              "#d8576b"
             ],
             [
              0.6666666666666666,
              "#ed7953"
             ],
             [
              0.7777777777777778,
              "#fb9f3a"
             ],
             [
              0.8888888888888888,
              "#fdca26"
             ],
             [
              1,
              "#f0f921"
             ]
            ],
            "type": "heatmapgl"
           }
          ],
          "histogram": [
           {
            "marker": {
             "pattern": {
              "fillmode": "overlay",
              "size": 10,
              "solidity": 0.2
             }
            },
            "type": "histogram"
           }
          ],
          "histogram2d": [
           {
            "colorbar": {
             "outlinewidth": 0,
             "ticks": ""
            },
            "colorscale": [
             [
              0,
              "#0d0887"
             ],
             [
              0.1111111111111111,
              "#46039f"
             ],
             [
              0.2222222222222222,
              "#7201a8"
             ],
             [
              0.3333333333333333,
              "#9c179e"
             ],
             [
              0.4444444444444444,
              "#bd3786"
             ],
             [
              0.5555555555555556,
              "#d8576b"
             ],
             [
              0.6666666666666666,
              "#ed7953"
             ],
             [
              0.7777777777777778,
              "#fb9f3a"
             ],
             [
              0.8888888888888888,
              "#fdca26"
             ],
             [
              1,
              "#f0f921"
             ]
            ],
            "type": "histogram2d"
           }
          ],
          "histogram2dcontour": [
           {
            "colorbar": {
             "outlinewidth": 0,
             "ticks": ""
            },
            "colorscale": [
             [
              0,
              "#0d0887"
             ],
             [
              0.1111111111111111,
              "#46039f"
             ],
             [
              0.2222222222222222,
              "#7201a8"
             ],
             [
              0.3333333333333333,
              "#9c179e"
             ],
             [
              0.4444444444444444,
              "#bd3786"
             ],
             [
              0.5555555555555556,
              "#d8576b"
             ],
             [
              0.6666666666666666,
              "#ed7953"
             ],
             [
              0.7777777777777778,
              "#fb9f3a"
             ],
             [
              0.8888888888888888,
              "#fdca26"
             ],
             [
              1,
              "#f0f921"
             ]
            ],
            "type": "histogram2dcontour"
           }
          ],
          "mesh3d": [
           {
            "colorbar": {
             "outlinewidth": 0,
             "ticks": ""
            },
            "type": "mesh3d"
           }
          ],
          "parcoords": [
           {
            "line": {
             "colorbar": {
              "outlinewidth": 0,
              "ticks": ""
             }
            },
            "type": "parcoords"
           }
          ],
          "pie": [
           {
            "automargin": true,
            "type": "pie"
           }
          ],
          "scatter": [
           {
            "fillpattern": {
             "fillmode": "overlay",
             "size": 10,
             "solidity": 0.2
            },
            "type": "scatter"
           }
          ],
          "scatter3d": [
           {
            "line": {
             "colorbar": {
              "outlinewidth": 0,
              "ticks": ""
             }
            },
            "marker": {
             "colorbar": {
              "outlinewidth": 0,
              "ticks": ""
             }
            },
            "type": "scatter3d"
           }
          ],
          "scattercarpet": [
           {
            "marker": {
             "colorbar": {
              "outlinewidth": 0,
              "ticks": ""
             }
            },
            "type": "scattercarpet"
           }
          ],
          "scattergeo": [
           {
            "marker": {
             "colorbar": {
              "outlinewidth": 0,
              "ticks": ""
             }
            },
            "type": "scattergeo"
           }
          ],
          "scattergl": [
           {
            "marker": {
             "colorbar": {
              "outlinewidth": 0,
              "ticks": ""
             }
            },
            "type": "scattergl"
           }
          ],
          "scattermapbox": [
           {
            "marker": {
             "colorbar": {
              "outlinewidth": 0,
              "ticks": ""
             }
            },
            "type": "scattermapbox"
           }
          ],
          "scatterpolar": [
           {
            "marker": {
             "colorbar": {
              "outlinewidth": 0,
              "ticks": ""
             }
            },
            "type": "scatterpolar"
           }
          ],
          "scatterpolargl": [
           {
            "marker": {
             "colorbar": {
              "outlinewidth": 0,
              "ticks": ""
             }
            },
            "type": "scatterpolargl"
           }
          ],
          "scatterternary": [
           {
            "marker": {
             "colorbar": {
              "outlinewidth": 0,
              "ticks": ""
             }
            },
            "type": "scatterternary"
           }
          ],
          "surface": [
           {
            "colorbar": {
             "outlinewidth": 0,
             "ticks": ""
            },
            "colorscale": [
             [
              0,
              "#0d0887"
             ],
             [
              0.1111111111111111,
              "#46039f"
             ],
             [
              0.2222222222222222,
              "#7201a8"
             ],
             [
              0.3333333333333333,
              "#9c179e"
             ],
             [
              0.4444444444444444,
              "#bd3786"
             ],
             [
              0.5555555555555556,
              "#d8576b"
             ],
             [
              0.6666666666666666,
              "#ed7953"
             ],
             [
              0.7777777777777778,
              "#fb9f3a"
             ],
             [
              0.8888888888888888,
              "#fdca26"
             ],
             [
              1,
              "#f0f921"
             ]
            ],
            "type": "surface"
           }
          ],
          "table": [
           {
            "cells": {
             "fill": {
              "color": "#EBF0F8"
             },
             "line": {
              "color": "white"
             }
            },
            "header": {
             "fill": {
              "color": "#C8D4E3"
             },
             "line": {
              "color": "white"
             }
            },
            "type": "table"
           }
          ]
         },
         "layout": {
          "annotationdefaults": {
           "arrowcolor": "#2a3f5f",
           "arrowhead": 0,
           "arrowwidth": 1
          },
          "autotypenumbers": "strict",
          "coloraxis": {
           "colorbar": {
            "outlinewidth": 0,
            "ticks": ""
           }
          },
          "colorscale": {
           "diverging": [
            [
             0,
             "#8e0152"
            ],
            [
             0.1,
             "#c51b7d"
            ],
            [
             0.2,
             "#de77ae"
            ],
            [
             0.3,
             "#f1b6da"
            ],
            [
             0.4,
             "#fde0ef"
            ],
            [
             0.5,
             "#f7f7f7"
            ],
            [
             0.6,
             "#e6f5d0"
            ],
            [
             0.7,
             "#b8e186"
            ],
            [
             0.8,
             "#7fbc41"
            ],
            [
             0.9,
             "#4d9221"
            ],
            [
             1,
             "#276419"
            ]
           ],
           "sequential": [
            [
             0,
             "#0d0887"
            ],
            [
             0.1111111111111111,
             "#46039f"
            ],
            [
             0.2222222222222222,
             "#7201a8"
            ],
            [
             0.3333333333333333,
             "#9c179e"
            ],
            [
             0.4444444444444444,
             "#bd3786"
            ],
            [
             0.5555555555555556,
             "#d8576b"
            ],
            [
             0.6666666666666666,
             "#ed7953"
            ],
            [
             0.7777777777777778,
             "#fb9f3a"
            ],
            [
             0.8888888888888888,
             "#fdca26"
            ],
            [
             1,
             "#f0f921"
            ]
           ],
           "sequentialminus": [
            [
             0,
             "#0d0887"
            ],
            [
             0.1111111111111111,
             "#46039f"
            ],
            [
             0.2222222222222222,
             "#7201a8"
            ],
            [
             0.3333333333333333,
             "#9c179e"
            ],
            [
             0.4444444444444444,
             "#bd3786"
            ],
            [
             0.5555555555555556,
             "#d8576b"
            ],
            [
             0.6666666666666666,
             "#ed7953"
            ],
            [
             0.7777777777777778,
             "#fb9f3a"
            ],
            [
             0.8888888888888888,
             "#fdca26"
            ],
            [
             1,
             "#f0f921"
            ]
           ]
          },
          "colorway": [
           "#636efa",
           "#EF553B",
           "#00cc96",
           "#ab63fa",
           "#FFA15A",
           "#19d3f3",
           "#FF6692",
           "#B6E880",
           "#FF97FF",
           "#FECB52"
          ],
          "font": {
           "color": "#2a3f5f"
          },
          "geo": {
           "bgcolor": "white",
           "lakecolor": "white",
           "landcolor": "#E5ECF6",
           "showlakes": true,
           "showland": true,
           "subunitcolor": "white"
          },
          "hoverlabel": {
           "align": "left"
          },
          "hovermode": "closest",
          "mapbox": {
           "style": "light"
          },
          "paper_bgcolor": "white",
          "plot_bgcolor": "#E5ECF6",
          "polar": {
           "angularaxis": {
            "gridcolor": "white",
            "linecolor": "white",
            "ticks": ""
           },
           "bgcolor": "#E5ECF6",
           "radialaxis": {
            "gridcolor": "white",
            "linecolor": "white",
            "ticks": ""
           }
          },
          "scene": {
           "xaxis": {
            "backgroundcolor": "#E5ECF6",
            "gridcolor": "white",
            "gridwidth": 2,
            "linecolor": "white",
            "showbackground": true,
            "ticks": "",
            "zerolinecolor": "white"
           },
           "yaxis": {
            "backgroundcolor": "#E5ECF6",
            "gridcolor": "white",
            "gridwidth": 2,
            "linecolor": "white",
            "showbackground": true,
            "ticks": "",
            "zerolinecolor": "white"
           },
           "zaxis": {
            "backgroundcolor": "#E5ECF6",
            "gridcolor": "white",
            "gridwidth": 2,
            "linecolor": "white",
            "showbackground": true,
            "ticks": "",
            "zerolinecolor": "white"
           }
          },
          "shapedefaults": {
           "line": {
            "color": "#2a3f5f"
           }
          },
          "ternary": {
           "aaxis": {
            "gridcolor": "white",
            "linecolor": "white",
            "ticks": ""
           },
           "baxis": {
            "gridcolor": "white",
            "linecolor": "white",
            "ticks": ""
           },
           "bgcolor": "#E5ECF6",
           "caxis": {
            "gridcolor": "white",
            "linecolor": "white",
            "ticks": ""
           }
          },
          "title": {
           "x": 0.05
          },
          "xaxis": {
           "automargin": true,
           "gridcolor": "white",
           "linecolor": "white",
           "ticks": "",
           "title": {
            "standoff": 15
           },
           "zerolinecolor": "white",
           "zerolinewidth": 2
          },
          "yaxis": {
           "automargin": true,
           "gridcolor": "white",
           "linecolor": "white",
           "ticks": "",
           "title": {
            "standoff": 15
           },
           "zerolinecolor": "white",
           "zerolinewidth": 2
          }
         }
        },
        "title": {
         "text": "Contour plot among Gold and Silver medals"
        },
        "width": 800,
        "xaxis": {
         "anchor": "y",
         "domain": [
          0,
          0.7363
         ],
         "title": {
          "text": "Gold"
         }
        },
        "xaxis2": {
         "anchor": "y2",
         "domain": [
          0.7413,
          1
         ],
         "matches": "x2",
         "showgrid": true,
         "showline": false,
         "showticklabels": false,
         "ticks": ""
        },
        "xaxis3": {
         "anchor": "y3",
         "domain": [
          0,
          0.7363
         ],
         "matches": "x",
         "showgrid": true,
         "showticklabels": false
        },
        "xaxis4": {
         "anchor": "y4",
         "domain": [
          0.7413,
          1
         ],
         "matches": "x2",
         "showgrid": true,
         "showline": false,
         "showticklabels": false,
         "ticks": ""
        },
        "yaxis": {
         "anchor": "x",
         "domain": [
          0,
          0.7326
         ],
         "title": {
          "text": "Silver"
         }
        },
        "yaxis2": {
         "anchor": "x2",
         "domain": [
          0,
          0.7326
         ],
         "matches": "y",
         "showgrid": true,
         "showticklabels": false
        },
        "yaxis3": {
         "anchor": "x3",
         "domain": [
          0.7426,
          1
         ],
         "matches": "y3",
         "showgrid": true,
         "showline": false,
         "showticklabels": false,
         "ticks": ""
        },
        "yaxis4": {
         "anchor": "x4",
         "domain": [
          0.7426,
          1
         ],
         "matches": "y3",
         "showgrid": true,
         "showline": false,
         "showticklabels": false,
         "ticks": ""
        }
       }
      }
     },
     "metadata": {},
     "output_type": "display_data"
    }
   ],
   "source": [
    "# # contour plot \n",
    "# contour plot \n",
    "# sns.kdeplot(x=scatter_data[\"Gold\"], y=scatter_data[\"Silver\"])\n",
    "# plt.xlabel(\"Gold\")\n",
    "# plt.ylabel('Silver')\n",
    "# plt.show()\n",
    "\n",
    "# contour plot \n",
    "fig = px.density_contour(scatter_data, x=\"Gold\", y=\"Silver\", marginal_x=\"histogram\", marginal_y=\"histogram\")\n",
    "fig.update_layout(width=800, height=400, title='Contour plot among Gold and Silver medals')\n",
    "fig.show()"
   ]
  },
  {
   "cell_type": "code",
   "execution_count": 107,
   "metadata": {},
   "outputs": [
    {
     "data": {
      "application/vnd.plotly.v1+json": {
       "config": {
        "plotlyServerURL": "https://plot.ly"
       },
       "data": [
        {
         "alignmentgroup": "True",
         "box": {
          "visible": true
         },
         "customdata": [
          [
           1,
           "United States of America",
           41,
           33,
           113,
           1
          ],
          [
           2,
           "People's Republic of China",
           32,
           18,
           88,
           2
          ],
          [
           3,
           "Japan",
           14,
           17,
           58,
           5
          ],
          [
           4,
           "Great Britain",
           21,
           22,
           65,
           4
          ],
          [
           5,
           "ROC",
           28,
           23,
           71,
           3
          ],
          [
           6,
           "Australia",
           7,
           22,
           46,
           6
          ],
          [
           7,
           "Netherlands",
           12,
           14,
           36,
           9
          ],
          [
           8,
           "France",
           12,
           11,
           33,
           10
          ],
          [
           9,
           "Germany",
           11,
           16,
           37,
           8
          ],
          [
           10,
           "Italy",
           10,
           20,
           40,
           7
          ],
          [
           11,
           "Canada",
           6,
           11,
           24,
           11
          ],
          [
           12,
           "Brazil",
           6,
           8,
           21,
           12
          ],
          [
           13,
           "New Zealand",
           6,
           7,
           20,
           13
          ],
          [
           14,
           "Cuba",
           3,
           5,
           15,
           18
          ],
          [
           15,
           "Hungary",
           7,
           7,
           20,
           13
          ],
          [
           16,
           "Republic of Korea",
           4,
           10,
           20,
           13
          ],
          [
           17,
           "Poland",
           5,
           5,
           14,
           19
          ],
          [
           18,
           "Czech Republic",
           4,
           3,
           11,
           23
          ],
          [
           19,
           "Kenya",
           4,
           2,
           10,
           25
          ],
          [
           20,
           "Norway",
           2,
           2,
           8,
           29
          ],
          [
           21,
           "Jamaica",
           1,
           4,
           9,
           26
          ],
          [
           22,
           "Spain",
           8,
           6,
           17,
           17
          ],
          [
           23,
           "Sweden",
           6,
           0,
           9,
           26
          ],
          [
           24,
           "Switzerland",
           4,
           6,
           13,
           20
          ],
          [
           25,
           "Denmark",
           4,
           4,
           11,
           23
          ],
          [
           26,
           "Croatia",
           3,
           2,
           8,
           29
          ],
          [
           27,
           "Islamic Republic of Iran",
           2,
           2,
           7,
           33
          ],
          [
           28,
           "Serbia",
           1,
           5,
           9,
           26
          ],
          [
           29,
           "Belgium",
           1,
           3,
           7,
           33
          ],
          [
           30,
           "Bulgaria",
           1,
           2,
           6,
           39
          ],
          [
           31,
           "Slovenia",
           1,
           1,
           5,
           42
          ],
          [
           32,
           "Uzbekistan",
           0,
           2,
           5,
           42
          ],
          [
           33,
           "Georgia",
           5,
           1,
           8,
           29
          ],
          [
           34,
           "Chinese Taipei",
           4,
           6,
           12,
           22
          ],
          [
           35,
           "Turkey",
           2,
           9,
           13,
           20
          ],
          [
           36,
           "Greece",
           1,
           1,
           4,
           47
          ],
          [
           36,
           "Uganda",
           1,
           1,
           4,
           47
          ],
          [
           38,
           "Ecuador",
           1,
           0,
           3,
           60
          ],
          [
           39,
           "Ireland",
           0,
           2,
           4,
           47
          ],
          [
           39,
           "Israel",
           0,
           2,
           4,
           47
          ],
          [
           41,
           "Qatar",
           0,
           1,
           3,
           60
          ],
          [
           42,
           "Bahamas",
           0,
           0,
           2,
           66
          ],
          [
           42,
           "Kosovo",
           0,
           0,
           2,
           66
          ],
          [
           44,
           "Ukraine",
           6,
           12,
           19,
           16
          ],
          [
           45,
           "Belarus",
           3,
           3,
           7,
           33
          ],
          [
           46,
           "Romania",
           3,
           0,
           4,
           47
          ],
          [
           46,
           "Venezuela",
           3,
           0,
           4,
           47
          ],
          [
           48,
           "India",
           2,
           4,
           7,
           33
          ],
          [
           49,
           "Hong Kong, China",
           2,
           3,
           6,
           39
          ],
          [
           50,
           "Philippines",
           2,
           1,
           4,
           47
          ],
          [
           50,
           "Slovakia",
           2,
           1,
           4,
           47
          ],
          [
           52,
           "South Africa",
           2,
           0,
           3,
           60
          ],
          [
           53,
           "Austria",
           1,
           5,
           7,
           33
          ],
          [
           54,
           "Egypt",
           1,
           4,
           6,
           39
          ],
          [
           55,
           "Indonesia",
           1,
           3,
           5,
           42
          ],
          [
           56,
           "Ethiopia",
           1,
           2,
           4,
           47
          ],
          [
           56,
           "Portugal",
           1,
           2,
           4,
           47
          ],
          [
           58,
           "Tunisia",
           1,
           0,
           2,
           66
          ],
          [
           59,
           "Estonia",
           0,
           1,
           2,
           66
          ],
          [
           59,
           "Fiji",
           0,
           1,
           2,
           66
          ],
          [
           59,
           "Latvia",
           0,
           1,
           2,
           66
          ],
          [
           59,
           "Thailand",
           0,
           1,
           2,
           66
          ],
          [
           63,
           "Bermuda",
           0,
           0,
           1,
           77
          ],
          [
           63,
           "Morocco",
           0,
           0,
           1,
           77
          ],
          [
           63,
           "Puerto Rico",
           0,
           0,
           1,
           77
          ],
          [
           66,
           "Colombia",
           4,
           1,
           5,
           42
          ],
          [
           67,
           "Azerbaijan",
           3,
           4,
           7,
           33
          ],
          [
           68,
           "Dominican Republic",
           3,
           2,
           5,
           42
          ],
          [
           69,
           "Armenia",
           2,
           2,
           4,
           47
          ],
          [
           70,
           "Kyrgyzstan",
           2,
           1,
           3,
           60
          ],
          [
           71,
           "Mongolia",
           1,
           3,
           4,
           47
          ],
          [
           72,
           "Argentina",
           1,
           2,
           3,
           60
          ],
          [
           72,
           "San Marino",
           1,
           2,
           3,
           60
          ],
          [
           74,
           "Jordan",
           1,
           1,
           2,
           66
          ],
          [
           74,
           "Malaysia",
           1,
           1,
           2,
           66
          ],
          [
           74,
           "Nigeria",
           1,
           1,
           2,
           66
          ],
          [
           77,
           "Bahrain",
           1,
           0,
           1,
           77
          ],
          [
           77,
           "Saudi Arabia",
           1,
           0,
           1,
           77
          ],
          [
           77,
           "Lithuania",
           1,
           0,
           1,
           77
          ],
          [
           77,
           "North Macedonia",
           1,
           0,
           1,
           77
          ],
          [
           77,
           "Namibia",
           1,
           0,
           1,
           77
          ],
          [
           77,
           "Turkmenistan",
           1,
           0,
           1,
           77
          ],
          [
           83,
           "Kazakhstan",
           0,
           8,
           8,
           29
          ],
          [
           84,
           "Mexico",
           0,
           4,
           4,
           47
          ],
          [
           85,
           "Finland",
           0,
           2,
           2,
           66
          ],
          [
           86,
           "Botswana",
           0,
           1,
           1,
           77
          ],
          [
           86,
           "Burkina Faso",
           0,
           1,
           1,
           77
          ],
          [
           86,
           "Côte d'Ivoire",
           0,
           1,
           1,
           77
          ],
          [
           86,
           "Ghana",
           0,
           1,
           1,
           77
          ],
          [
           86,
           "Grenada",
           0,
           1,
           1,
           77
          ],
          [
           86,
           "Kuwait",
           0,
           1,
           1,
           77
          ],
          [
           86,
           "Republic of Moldova",
           0,
           1,
           1,
           77
          ],
          [
           86,
           "Syrian Arab Republic",
           0,
           1,
           1,
           77
          ]
         ],
         "hovertemplate": "Gold=%{x}<br>Rank=%{customdata[0]}<br>Team/NOC=%{customdata[1]}<br>Silver=%{customdata[2]}<br>Bronze=%{customdata[3]}<br>Total=%{customdata[4]}<br>Rank by Total=%{customdata[5]}<extra></extra>",
         "legendgroup": "",
         "marker": {
          "color": "#636efa"
         },
         "name": "",
         "offsetgroup": "",
         "orientation": "h",
         "points": "all",
         "scalegroup": "True",
         "showlegend": false,
         "type": "violin",
         "x": [
          39,
          38,
          27,
          22,
          20,
          17,
          10,
          10,
          10,
          10,
          7,
          7,
          7,
          7,
          6,
          6,
          4,
          4,
          4,
          4,
          4,
          3,
          3,
          3,
          3,
          3,
          3,
          3,
          3,
          3,
          3,
          3,
          2,
          2,
          2,
          2,
          2,
          2,
          2,
          2,
          2,
          2,
          2,
          1,
          1,
          1,
          1,
          1,
          1,
          1,
          1,
          1,
          1,
          1,
          1,
          1,
          1,
          1,
          1,
          1,
          1,
          1,
          1,
          1,
          1,
          0,
          0,
          0,
          0,
          0,
          0,
          0,
          0,
          0,
          0,
          0,
          0,
          0,
          0,
          0,
          0,
          0,
          0,
          0,
          0,
          0,
          0,
          0,
          0,
          0,
          0,
          0,
          0
         ],
         "x0": " ",
         "xaxis": "x",
         "y0": " ",
         "yaxis": "y"
        }
       ],
       "layout": {
        "height": 400,
        "legend": {
         "tracegroupgap": 0
        },
        "margin": {
         "t": 60
        },
        "template": {
         "data": {
          "bar": [
           {
            "error_x": {
             "color": "#2a3f5f"
            },
            "error_y": {
             "color": "#2a3f5f"
            },
            "marker": {
             "line": {
              "color": "#E5ECF6",
              "width": 0.5
             },
             "pattern": {
              "fillmode": "overlay",
              "size": 10,
              "solidity": 0.2
             }
            },
            "type": "bar"
           }
          ],
          "barpolar": [
           {
            "marker": {
             "line": {
              "color": "#E5ECF6",
              "width": 0.5
             },
             "pattern": {
              "fillmode": "overlay",
              "size": 10,
              "solidity": 0.2
             }
            },
            "type": "barpolar"
           }
          ],
          "carpet": [
           {
            "aaxis": {
             "endlinecolor": "#2a3f5f",
             "gridcolor": "white",
             "linecolor": "white",
             "minorgridcolor": "white",
             "startlinecolor": "#2a3f5f"
            },
            "baxis": {
             "endlinecolor": "#2a3f5f",
             "gridcolor": "white",
             "linecolor": "white",
             "minorgridcolor": "white",
             "startlinecolor": "#2a3f5f"
            },
            "type": "carpet"
           }
          ],
          "choropleth": [
           {
            "colorbar": {
             "outlinewidth": 0,
             "ticks": ""
            },
            "type": "choropleth"
           }
          ],
          "contour": [
           {
            "colorbar": {
             "outlinewidth": 0,
             "ticks": ""
            },
            "colorscale": [
             [
              0,
              "#0d0887"
             ],
             [
              0.1111111111111111,
              "#46039f"
             ],
             [
              0.2222222222222222,
              "#7201a8"
             ],
             [
              0.3333333333333333,
              "#9c179e"
             ],
             [
              0.4444444444444444,
              "#bd3786"
             ],
             [
              0.5555555555555556,
              "#d8576b"
             ],
             [
              0.6666666666666666,
              "#ed7953"
             ],
             [
              0.7777777777777778,
              "#fb9f3a"
             ],
             [
              0.8888888888888888,
              "#fdca26"
             ],
             [
              1,
              "#f0f921"
             ]
            ],
            "type": "contour"
           }
          ],
          "contourcarpet": [
           {
            "colorbar": {
             "outlinewidth": 0,
             "ticks": ""
            },
            "type": "contourcarpet"
           }
          ],
          "heatmap": [
           {
            "colorbar": {
             "outlinewidth": 0,
             "ticks": ""
            },
            "colorscale": [
             [
              0,
              "#0d0887"
             ],
             [
              0.1111111111111111,
              "#46039f"
             ],
             [
              0.2222222222222222,
              "#7201a8"
             ],
             [
              0.3333333333333333,
              "#9c179e"
             ],
             [
              0.4444444444444444,
              "#bd3786"
             ],
             [
              0.5555555555555556,
              "#d8576b"
             ],
             [
              0.6666666666666666,
              "#ed7953"
             ],
             [
              0.7777777777777778,
              "#fb9f3a"
             ],
             [
              0.8888888888888888,
              "#fdca26"
             ],
             [
              1,
              "#f0f921"
             ]
            ],
            "type": "heatmap"
           }
          ],
          "heatmapgl": [
           {
            "colorbar": {
             "outlinewidth": 0,
             "ticks": ""
            },
            "colorscale": [
             [
              0,
              "#0d0887"
             ],
             [
              0.1111111111111111,
              "#46039f"
             ],
             [
              0.2222222222222222,
              "#7201a8"
             ],
             [
              0.3333333333333333,
              "#9c179e"
             ],
             [
              0.4444444444444444,
              "#bd3786"
             ],
             [
              0.5555555555555556,
              "#d8576b"
             ],
             [
              0.6666666666666666,
              "#ed7953"
             ],
             [
              0.7777777777777778,
              "#fb9f3a"
             ],
             [
              0.8888888888888888,
              "#fdca26"
             ],
             [
              1,
              "#f0f921"
             ]
            ],
            "type": "heatmapgl"
           }
          ],
          "histogram": [
           {
            "marker": {
             "pattern": {
              "fillmode": "overlay",
              "size": 10,
              "solidity": 0.2
             }
            },
            "type": "histogram"
           }
          ],
          "histogram2d": [
           {
            "colorbar": {
             "outlinewidth": 0,
             "ticks": ""
            },
            "colorscale": [
             [
              0,
              "#0d0887"
             ],
             [
              0.1111111111111111,
              "#46039f"
             ],
             [
              0.2222222222222222,
              "#7201a8"
             ],
             [
              0.3333333333333333,
              "#9c179e"
             ],
             [
              0.4444444444444444,
              "#bd3786"
             ],
             [
              0.5555555555555556,
              "#d8576b"
             ],
             [
              0.6666666666666666,
              "#ed7953"
             ],
             [
              0.7777777777777778,
              "#fb9f3a"
             ],
             [
              0.8888888888888888,
              "#fdca26"
             ],
             [
              1,
              "#f0f921"
             ]
            ],
            "type": "histogram2d"
           }
          ],
          "histogram2dcontour": [
           {
            "colorbar": {
             "outlinewidth": 0,
             "ticks": ""
            },
            "colorscale": [
             [
              0,
              "#0d0887"
             ],
             [
              0.1111111111111111,
              "#46039f"
             ],
             [
              0.2222222222222222,
              "#7201a8"
             ],
             [
              0.3333333333333333,
              "#9c179e"
             ],
             [
              0.4444444444444444,
              "#bd3786"
             ],
             [
              0.5555555555555556,
              "#d8576b"
             ],
             [
              0.6666666666666666,
              "#ed7953"
             ],
             [
              0.7777777777777778,
              "#fb9f3a"
             ],
             [
              0.8888888888888888,
              "#fdca26"
             ],
             [
              1,
              "#f0f921"
             ]
            ],
            "type": "histogram2dcontour"
           }
          ],
          "mesh3d": [
           {
            "colorbar": {
             "outlinewidth": 0,
             "ticks": ""
            },
            "type": "mesh3d"
           }
          ],
          "parcoords": [
           {
            "line": {
             "colorbar": {
              "outlinewidth": 0,
              "ticks": ""
             }
            },
            "type": "parcoords"
           }
          ],
          "pie": [
           {
            "automargin": true,
            "type": "pie"
           }
          ],
          "scatter": [
           {
            "fillpattern": {
             "fillmode": "overlay",
             "size": 10,
             "solidity": 0.2
            },
            "type": "scatter"
           }
          ],
          "scatter3d": [
           {
            "line": {
             "colorbar": {
              "outlinewidth": 0,
              "ticks": ""
             }
            },
            "marker": {
             "colorbar": {
              "outlinewidth": 0,
              "ticks": ""
             }
            },
            "type": "scatter3d"
           }
          ],
          "scattercarpet": [
           {
            "marker": {
             "colorbar": {
              "outlinewidth": 0,
              "ticks": ""
             }
            },
            "type": "scattercarpet"
           }
          ],
          "scattergeo": [
           {
            "marker": {
             "colorbar": {
              "outlinewidth": 0,
              "ticks": ""
             }
            },
            "type": "scattergeo"
           }
          ],
          "scattergl": [
           {
            "marker": {
             "colorbar": {
              "outlinewidth": 0,
              "ticks": ""
             }
            },
            "type": "scattergl"
           }
          ],
          "scattermapbox": [
           {
            "marker": {
             "colorbar": {
              "outlinewidth": 0,
              "ticks": ""
             }
            },
            "type": "scattermapbox"
           }
          ],
          "scatterpolar": [
           {
            "marker": {
             "colorbar": {
              "outlinewidth": 0,
              "ticks": ""
             }
            },
            "type": "scatterpolar"
           }
          ],
          "scatterpolargl": [
           {
            "marker": {
             "colorbar": {
              "outlinewidth": 0,
              "ticks": ""
             }
            },
            "type": "scatterpolargl"
           }
          ],
          "scatterternary": [
           {
            "marker": {
             "colorbar": {
              "outlinewidth": 0,
              "ticks": ""
             }
            },
            "type": "scatterternary"
           }
          ],
          "surface": [
           {
            "colorbar": {
             "outlinewidth": 0,
             "ticks": ""
            },
            "colorscale": [
             [
              0,
              "#0d0887"
             ],
             [
              0.1111111111111111,
              "#46039f"
             ],
             [
              0.2222222222222222,
              "#7201a8"
             ],
             [
              0.3333333333333333,
              "#9c179e"
             ],
             [
              0.4444444444444444,
              "#bd3786"
             ],
             [
              0.5555555555555556,
              "#d8576b"
             ],
             [
              0.6666666666666666,
              "#ed7953"
             ],
             [
              0.7777777777777778,
              "#fb9f3a"
             ],
             [
              0.8888888888888888,
              "#fdca26"
             ],
             [
              1,
              "#f0f921"
             ]
            ],
            "type": "surface"
           }
          ],
          "table": [
           {
            "cells": {
             "fill": {
              "color": "#EBF0F8"
             },
             "line": {
              "color": "white"
             }
            },
            "header": {
             "fill": {
              "color": "#C8D4E3"
             },
             "line": {
              "color": "white"
             }
            },
            "type": "table"
           }
          ]
         },
         "layout": {
          "annotationdefaults": {
           "arrowcolor": "#2a3f5f",
           "arrowhead": 0,
           "arrowwidth": 1
          },
          "autotypenumbers": "strict",
          "coloraxis": {
           "colorbar": {
            "outlinewidth": 0,
            "ticks": ""
           }
          },
          "colorscale": {
           "diverging": [
            [
             0,
             "#8e0152"
            ],
            [
             0.1,
             "#c51b7d"
            ],
            [
             0.2,
             "#de77ae"
            ],
            [
             0.3,
             "#f1b6da"
            ],
            [
             0.4,
             "#fde0ef"
            ],
            [
             0.5,
             "#f7f7f7"
            ],
            [
             0.6,
             "#e6f5d0"
            ],
            [
             0.7,
             "#b8e186"
            ],
            [
             0.8,
             "#7fbc41"
            ],
            [
             0.9,
             "#4d9221"
            ],
            [
             1,
             "#276419"
            ]
           ],
           "sequential": [
            [
             0,
             "#0d0887"
            ],
            [
             0.1111111111111111,
             "#46039f"
            ],
            [
             0.2222222222222222,
             "#7201a8"
            ],
            [
             0.3333333333333333,
             "#9c179e"
            ],
            [
             0.4444444444444444,
             "#bd3786"
            ],
            [
             0.5555555555555556,
             "#d8576b"
            ],
            [
             0.6666666666666666,
             "#ed7953"
            ],
            [
             0.7777777777777778,
             "#fb9f3a"
            ],
            [
             0.8888888888888888,
             "#fdca26"
            ],
            [
             1,
             "#f0f921"
            ]
           ],
           "sequentialminus": [
            [
             0,
             "#0d0887"
            ],
            [
             0.1111111111111111,
             "#46039f"
            ],
            [
             0.2222222222222222,
             "#7201a8"
            ],
            [
             0.3333333333333333,
             "#9c179e"
            ],
            [
             0.4444444444444444,
             "#bd3786"
            ],
            [
             0.5555555555555556,
             "#d8576b"
            ],
            [
             0.6666666666666666,
             "#ed7953"
            ],
            [
             0.7777777777777778,
             "#fb9f3a"
            ],
            [
             0.8888888888888888,
             "#fdca26"
            ],
            [
             1,
             "#f0f921"
            ]
           ]
          },
          "colorway": [
           "#636efa",
           "#EF553B",
           "#00cc96",
           "#ab63fa",
           "#FFA15A",
           "#19d3f3",
           "#FF6692",
           "#B6E880",
           "#FF97FF",
           "#FECB52"
          ],
          "font": {
           "color": "#2a3f5f"
          },
          "geo": {
           "bgcolor": "white",
           "lakecolor": "white",
           "landcolor": "#E5ECF6",
           "showlakes": true,
           "showland": true,
           "subunitcolor": "white"
          },
          "hoverlabel": {
           "align": "left"
          },
          "hovermode": "closest",
          "mapbox": {
           "style": "light"
          },
          "paper_bgcolor": "white",
          "plot_bgcolor": "#E5ECF6",
          "polar": {
           "angularaxis": {
            "gridcolor": "white",
            "linecolor": "white",
            "ticks": ""
           },
           "bgcolor": "#E5ECF6",
           "radialaxis": {
            "gridcolor": "white",
            "linecolor": "white",
            "ticks": ""
           }
          },
          "scene": {
           "xaxis": {
            "backgroundcolor": "#E5ECF6",
            "gridcolor": "white",
            "gridwidth": 2,
            "linecolor": "white",
            "showbackground": true,
            "ticks": "",
            "zerolinecolor": "white"
           },
           "yaxis": {
            "backgroundcolor": "#E5ECF6",
            "gridcolor": "white",
            "gridwidth": 2,
            "linecolor": "white",
            "showbackground": true,
            "ticks": "",
            "zerolinecolor": "white"
           },
           "zaxis": {
            "backgroundcolor": "#E5ECF6",
            "gridcolor": "white",
            "gridwidth": 2,
            "linecolor": "white",
            "showbackground": true,
            "ticks": "",
            "zerolinecolor": "white"
           }
          },
          "shapedefaults": {
           "line": {
            "color": "#2a3f5f"
           }
          },
          "ternary": {
           "aaxis": {
            "gridcolor": "white",
            "linecolor": "white",
            "ticks": ""
           },
           "baxis": {
            "gridcolor": "white",
            "linecolor": "white",
            "ticks": ""
           },
           "bgcolor": "#E5ECF6",
           "caxis": {
            "gridcolor": "white",
            "linecolor": "white",
            "ticks": ""
           }
          },
          "title": {
           "x": 0.05
          },
          "xaxis": {
           "automargin": true,
           "gridcolor": "white",
           "linecolor": "white",
           "ticks": "",
           "title": {
            "standoff": 15
           },
           "zerolinecolor": "white",
           "zerolinewidth": 2
          },
          "yaxis": {
           "automargin": true,
           "gridcolor": "white",
           "linecolor": "white",
           "ticks": "",
           "title": {
            "standoff": 15
           },
           "zerolinecolor": "white",
           "zerolinewidth": 2
          }
         }
        },
        "title": {
         "text": "Violin plot of Gold Medals"
        },
        "violinmode": "group",
        "width": 800,
        "xaxis": {
         "anchor": "y",
         "domain": [
          0,
          1
         ],
         "title": {
          "text": "Gold"
         }
        },
        "yaxis": {
         "anchor": "x",
         "domain": [
          0,
          1
         ]
        }
       }
      }
     },
     "metadata": {},
     "output_type": "display_data"
    }
   ],
   "source": [
    "# lets plot violin plots \n",
    "medal_data[\"Team/NOC\"]\n",
    "fig = px.violin(medal_data, x=\"Gold\", box=True, points='all', hover_data=medal_data.columns)\n",
    "fig.update_layout(width=800, height=400, title='Violin plot of Gold Medals')\n",
    "fig.show()"
   ]
  },
  {
   "cell_type": "code",
   "execution_count": null,
   "metadata": {},
   "outputs": [],
   "source": []
  }
 ],
 "metadata": {
  "kernelspec": {
   "display_name": "nlp",
   "language": "python",
   "name": "python3"
  },
  "language_info": {
   "codemirror_mode": {
    "name": "ipython",
    "version": 3
   },
   "file_extension": ".py",
   "mimetype": "text/x-python",
   "name": "python",
   "nbconvert_exporter": "python",
   "pygments_lexer": "ipython3",
   "version": "3.9.18"
  }
 },
 "nbformat": 4,
 "nbformat_minor": 2
}
